{
 "cells": [
  {
   "cell_type": "markdown",
   "id": "abed3073",
   "metadata": {},
   "source": [
    "## **Day 14 of 30 days Data Analysis**"
   ]
  },
  {
   "cell_type": "code",
   "execution_count": 10,
   "id": "27bdafdc",
   "metadata": {},
   "outputs": [
    {
     "data": {
      "text/html": [
       "<div>\n",
       "<style scoped>\n",
       "    .dataframe tbody tr th:only-of-type {\n",
       "        vertical-align: middle;\n",
       "    }\n",
       "\n",
       "    .dataframe tbody tr th {\n",
       "        vertical-align: top;\n",
       "    }\n",
       "\n",
       "    .dataframe thead th {\n",
       "        text-align: right;\n",
       "    }\n",
       "</style>\n",
       "<table border=\"1\" class=\"dataframe\">\n",
       "  <thead>\n",
       "    <tr style=\"text-align: right;\">\n",
       "      <th></th>\n",
       "      <th>Invoice ID</th>\n",
       "      <th>Branch</th>\n",
       "      <th>Customer type</th>\n",
       "      <th>Gender</th>\n",
       "      <th>Product line</th>\n",
       "      <th>Unit price</th>\n",
       "      <th>Quantity</th>\n",
       "      <th>Tax 5%</th>\n",
       "      <th>Sales</th>\n",
       "      <th>Date</th>\n",
       "      <th>...</th>\n",
       "      <th>Payment_Credit card</th>\n",
       "      <th>Payment_Ewallet</th>\n",
       "      <th>City_Naypyitaw</th>\n",
       "      <th>City_Yangon</th>\n",
       "      <th>CustomerType_lbl</th>\n",
       "      <th>Year</th>\n",
       "      <th>Month</th>\n",
       "      <th>Day</th>\n",
       "      <th>Weekday</th>\n",
       "      <th>Hour</th>\n",
       "    </tr>\n",
       "  </thead>\n",
       "  <tbody>\n",
       "    <tr>\n",
       "      <th>0</th>\n",
       "      <td>750-67-8428</td>\n",
       "      <td>Alex</td>\n",
       "      <td>0</td>\n",
       "      <td>Female</td>\n",
       "      <td>Health and beauty</td>\n",
       "      <td>74.69</td>\n",
       "      <td>7</td>\n",
       "      <td>26.1415</td>\n",
       "      <td>548.9715</td>\n",
       "      <td>2019-01-05</td>\n",
       "      <td>...</td>\n",
       "      <td>False</td>\n",
       "      <td>True</td>\n",
       "      <td>False</td>\n",
       "      <td>True</td>\n",
       "      <td>Member</td>\n",
       "      <td>2019</td>\n",
       "      <td>1</td>\n",
       "      <td>5</td>\n",
       "      <td>Saturday</td>\n",
       "      <td>13</td>\n",
       "    </tr>\n",
       "    <tr>\n",
       "      <th>1</th>\n",
       "      <td>226-31-3081</td>\n",
       "      <td>Giza</td>\n",
       "      <td>1</td>\n",
       "      <td>Female</td>\n",
       "      <td>Electronic accessories</td>\n",
       "      <td>15.28</td>\n",
       "      <td>5</td>\n",
       "      <td>3.8200</td>\n",
       "      <td>80.2200</td>\n",
       "      <td>2019-03-08</td>\n",
       "      <td>...</td>\n",
       "      <td>False</td>\n",
       "      <td>False</td>\n",
       "      <td>True</td>\n",
       "      <td>False</td>\n",
       "      <td>Normal</td>\n",
       "      <td>2019</td>\n",
       "      <td>3</td>\n",
       "      <td>8</td>\n",
       "      <td>Friday</td>\n",
       "      <td>10</td>\n",
       "    </tr>\n",
       "    <tr>\n",
       "      <th>2</th>\n",
       "      <td>631-41-3108</td>\n",
       "      <td>Alex</td>\n",
       "      <td>1</td>\n",
       "      <td>Female</td>\n",
       "      <td>Home and lifestyle</td>\n",
       "      <td>46.33</td>\n",
       "      <td>7</td>\n",
       "      <td>16.2155</td>\n",
       "      <td>340.5255</td>\n",
       "      <td>2019-03-03</td>\n",
       "      <td>...</td>\n",
       "      <td>True</td>\n",
       "      <td>False</td>\n",
       "      <td>False</td>\n",
       "      <td>True</td>\n",
       "      <td>Normal</td>\n",
       "      <td>2019</td>\n",
       "      <td>3</td>\n",
       "      <td>3</td>\n",
       "      <td>Sunday</td>\n",
       "      <td>13</td>\n",
       "    </tr>\n",
       "    <tr>\n",
       "      <th>3</th>\n",
       "      <td>123-19-1176</td>\n",
       "      <td>Alex</td>\n",
       "      <td>0</td>\n",
       "      <td>Female</td>\n",
       "      <td>Health and beauty</td>\n",
       "      <td>58.22</td>\n",
       "      <td>8</td>\n",
       "      <td>23.2880</td>\n",
       "      <td>489.0480</td>\n",
       "      <td>2019-01-27</td>\n",
       "      <td>...</td>\n",
       "      <td>False</td>\n",
       "      <td>True</td>\n",
       "      <td>False</td>\n",
       "      <td>True</td>\n",
       "      <td>Member</td>\n",
       "      <td>2019</td>\n",
       "      <td>1</td>\n",
       "      <td>27</td>\n",
       "      <td>Sunday</td>\n",
       "      <td>20</td>\n",
       "    </tr>\n",
       "    <tr>\n",
       "      <th>4</th>\n",
       "      <td>373-73-7910</td>\n",
       "      <td>Alex</td>\n",
       "      <td>0</td>\n",
       "      <td>Female</td>\n",
       "      <td>Sports and travel</td>\n",
       "      <td>86.31</td>\n",
       "      <td>7</td>\n",
       "      <td>30.2085</td>\n",
       "      <td>634.3785</td>\n",
       "      <td>2019-02-08</td>\n",
       "      <td>...</td>\n",
       "      <td>False</td>\n",
       "      <td>True</td>\n",
       "      <td>False</td>\n",
       "      <td>True</td>\n",
       "      <td>Member</td>\n",
       "      <td>2019</td>\n",
       "      <td>2</td>\n",
       "      <td>8</td>\n",
       "      <td>Friday</td>\n",
       "      <td>10</td>\n",
       "    </tr>\n",
       "  </tbody>\n",
       "</table>\n",
       "<p>5 rows × 24 columns</p>\n",
       "</div>"
      ],
      "text/plain": [
       "    Invoice ID Branch  Customer type  Gender            Product line  \\\n",
       "0  750-67-8428   Alex              0  Female       Health and beauty   \n",
       "1  226-31-3081   Giza              1  Female  Electronic accessories   \n",
       "2  631-41-3108   Alex              1  Female      Home and lifestyle   \n",
       "3  123-19-1176   Alex              0  Female       Health and beauty   \n",
       "4  373-73-7910   Alex              0  Female       Sports and travel   \n",
       "\n",
       "   Unit price  Quantity   Tax 5%     Sales        Date  ...  \\\n",
       "0       74.69         7  26.1415  548.9715  2019-01-05  ...   \n",
       "1       15.28         5   3.8200   80.2200  2019-03-08  ...   \n",
       "2       46.33         7  16.2155  340.5255  2019-03-03  ...   \n",
       "3       58.22         8  23.2880  489.0480  2019-01-27  ...   \n",
       "4       86.31         7  30.2085  634.3785  2019-02-08  ...   \n",
       "\n",
       "  Payment_Credit card  Payment_Ewallet  City_Naypyitaw  City_Yangon  \\\n",
       "0               False             True           False         True   \n",
       "1               False            False            True        False   \n",
       "2                True            False           False         True   \n",
       "3               False             True           False         True   \n",
       "4               False             True           False         True   \n",
       "\n",
       "   CustomerType_lbl  Year  Month  Day   Weekday  Hour  \n",
       "0            Member  2019      1    5  Saturday    13  \n",
       "1            Normal  2019      3    8    Friday    10  \n",
       "2            Normal  2019      3    3    Sunday    13  \n",
       "3            Member  2019      1   27    Sunday    20  \n",
       "4            Member  2019      2    8    Friday    10  \n",
       "\n",
       "[5 rows x 24 columns]"
      ]
     },
     "execution_count": 10,
     "metadata": {},
     "output_type": "execute_result"
    }
   ],
   "source": [
    "import pandas as pd\n",
    "\n",
    "# Local dataset \n",
    "df = pd.read_csv(\"C:\\\\Users\\\\LENOVO\\\\Documents\\\\Programming\\\\30days_data_analysis\\\\week02_sql\\\\supermarket_d13.csv\")\n",
    "\n",
    "# show head of dataset\n",
    "df.head()"
   ]
  },
  {
   "cell_type": "code",
   "execution_count": 11,
   "id": "bb6d2bdf",
   "metadata": {},
   "outputs": [
    {
     "name": "stdout",
     "output_type": "stream",
     "text": [
      "<class 'pandas.core.frame.DataFrame'>\n",
      "RangeIndex: 1000 entries, 0 to 999\n",
      "Data columns (total 24 columns):\n",
      " #   Column               Non-Null Count  Dtype  \n",
      "---  ------               --------------  -----  \n",
      " 0   Invoice ID           1000 non-null   object \n",
      " 1   Branch               1000 non-null   object \n",
      " 2   Customer type        1000 non-null   int64  \n",
      " 3   Gender               1000 non-null   object \n",
      " 4   Product line         1000 non-null   object \n",
      " 5   Unit price           1000 non-null   float64\n",
      " 6   Quantity             1000 non-null   int64  \n",
      " 7   Tax 5%               1000 non-null   float64\n",
      " 8   Sales                1000 non-null   float64\n",
      " 9   Date                 1000 non-null   object \n",
      " 10  Time                 1000 non-null   object \n",
      " 11  cogs                 1000 non-null   float64\n",
      " 12  gross income         1000 non-null   float64\n",
      " 13  Rating               1000 non-null   float64\n",
      " 14  Payment_Credit card  1000 non-null   bool   \n",
      " 15  Payment_Ewallet      1000 non-null   bool   \n",
      " 16  City_Naypyitaw       1000 non-null   bool   \n",
      " 17  City_Yangon          1000 non-null   bool   \n",
      " 18  CustomerType_lbl     1000 non-null   object \n",
      " 19  Year                 1000 non-null   int64  \n",
      " 20  Month                1000 non-null   int64  \n",
      " 21  Day                  1000 non-null   int64  \n",
      " 22  Weekday              1000 non-null   object \n",
      " 23  Hour                 1000 non-null   int64  \n",
      "dtypes: bool(4), float64(6), int64(6), object(8)\n",
      "memory usage: 160.3+ KB\n"
     ]
    }
   ],
   "source": [
    "df.info()"
   ]
  },
  {
   "cell_type": "code",
   "execution_count": 12,
   "id": "8616012f",
   "metadata": {},
   "outputs": [
    {
     "data": {
      "text/plain": [
       "(1000, 24)"
      ]
     },
     "execution_count": 12,
     "metadata": {},
     "output_type": "execute_result"
    }
   ],
   "source": [
    "df.shape"
   ]
  },
  {
   "cell_type": "code",
   "execution_count": 13,
   "id": "f03bd98e",
   "metadata": {},
   "outputs": [
    {
     "data": {
      "text/plain": [
       "np.int64(0)"
      ]
     },
     "execution_count": 13,
     "metadata": {},
     "output_type": "execute_result"
    }
   ],
   "source": [
    "df.isnull().sum()\n",
    "\n",
    "df.duplicated().sum()"
   ]
  },
  {
   "cell_type": "code",
   "execution_count": 14,
   "id": "1b769d68",
   "metadata": {},
   "outputs": [
    {
     "data": {
      "text/plain": [
       "Product line\n",
       "Food and beverages        56144.8440\n",
       "Sports and travel         55122.8265\n",
       "Electronic accessories    54337.5315\n",
       "Fashion accessories       54305.8950\n",
       "Home and lifestyle        53861.9130\n",
       "Health and beauty         49193.7390\n",
       "Name: Sales, dtype: float64"
      ]
     },
     "execution_count": 14,
     "metadata": {},
     "output_type": "execute_result"
    }
   ],
   "source": [
    "df.groupby(\"Product line\")[\"Sales\"].sum().sort_values(ascending=False)"
   ]
  },
  {
   "cell_type": "code",
   "execution_count": 15,
   "id": "18a85d6a",
   "metadata": {},
   "outputs": [
    {
     "data": {
      "text/html": [
       "<div>\n",
       "<style scoped>\n",
       "    .dataframe tbody tr th:only-of-type {\n",
       "        vertical-align: middle;\n",
       "    }\n",
       "\n",
       "    .dataframe tbody tr th {\n",
       "        vertical-align: top;\n",
       "    }\n",
       "\n",
       "    .dataframe thead th {\n",
       "        text-align: right;\n",
       "    }\n",
       "</style>\n",
       "<table border=\"1\" class=\"dataframe\">\n",
       "  <thead>\n",
       "    <tr style=\"text-align: right;\">\n",
       "      <th></th>\n",
       "      <th>Sales</th>\n",
       "      <th>Quantity</th>\n",
       "      <th>Rating</th>\n",
       "    </tr>\n",
       "    <tr>\n",
       "      <th>Product line</th>\n",
       "      <th></th>\n",
       "      <th></th>\n",
       "      <th></th>\n",
       "    </tr>\n",
       "  </thead>\n",
       "  <tbody>\n",
       "    <tr>\n",
       "      <th>Electronic accessories</th>\n",
       "      <td>319.632538</td>\n",
       "      <td>971</td>\n",
       "      <td>6.924706</td>\n",
       "    </tr>\n",
       "    <tr>\n",
       "      <th>Fashion accessories</th>\n",
       "      <td>305.089298</td>\n",
       "      <td>902</td>\n",
       "      <td>7.029213</td>\n",
       "    </tr>\n",
       "    <tr>\n",
       "      <th>Food and beverages</th>\n",
       "      <td>322.671517</td>\n",
       "      <td>952</td>\n",
       "      <td>7.113218</td>\n",
       "    </tr>\n",
       "    <tr>\n",
       "      <th>Health and beauty</th>\n",
       "      <td>323.643020</td>\n",
       "      <td>854</td>\n",
       "      <td>7.003289</td>\n",
       "    </tr>\n",
       "    <tr>\n",
       "      <th>Home and lifestyle</th>\n",
       "      <td>336.636956</td>\n",
       "      <td>911</td>\n",
       "      <td>6.837500</td>\n",
       "    </tr>\n",
       "    <tr>\n",
       "      <th>Sports and travel</th>\n",
       "      <td>332.065220</td>\n",
       "      <td>920</td>\n",
       "      <td>6.916265</td>\n",
       "    </tr>\n",
       "  </tbody>\n",
       "</table>\n",
       "</div>"
      ],
      "text/plain": [
       "                             Sales  Quantity    Rating\n",
       "Product line                                          \n",
       "Electronic accessories  319.632538       971  6.924706\n",
       "Fashion accessories     305.089298       902  7.029213\n",
       "Food and beverages      322.671517       952  7.113218\n",
       "Health and beauty       323.643020       854  7.003289\n",
       "Home and lifestyle      336.636956       911  6.837500\n",
       "Sports and travel       332.065220       920  6.916265"
      ]
     },
     "execution_count": 15,
     "metadata": {},
     "output_type": "execute_result"
    }
   ],
   "source": [
    "df.groupby(\"Product line\").agg({\n",
    "    \"Sales\": \"mean\", \n",
    "    \"Quantity\": \"sum\",\n",
    "    \"Rating\": \"mean\"\n",
    "})"
   ]
  },
  {
   "cell_type": "code",
   "execution_count": 16,
   "id": "e35bf4b7",
   "metadata": {},
   "outputs": [
    {
     "data": {
      "image/png": "[encoded data removed]",
      "text/plain": [
       "<Figure size 1000x500 with 1 Axes>"
      ]
     },
     "metadata": {},
     "output_type": "display_data"
    },
    {
     "data": {
      "image/png": "[encoded data removed]",
      "text/plain": [
       "<Figure size 1000x500 with 1 Axes>"
      ]
     },
     "metadata": {},
     "output_type": "display_data"
    }
   ],
   "source": [
    "import matplotlib.pyplot as plt\n",
    "import seaborn as sns\n",
    "\n",
    "# Bar chart - total sales \n",
    "plt.figure(figsize=(10,5))\n",
    "sns.barplot(data=df, x=\"Product line\", y=\"Sales\", estimator=sum)\n",
    "plt.xticks(rotation=45)\n",
    "plt.title(\"Total Sales by Product Line\")\n",
    "plt.show()\n",
    "\n",
    "# Boxplot - Rating\n",
    "plt.figure(figsize=(10,5))\n",
    "sns.boxplot(data=df, x=\"Product line\", y=\"Rating\")\n",
    "plt.xticks(rotation=45)\n",
    "plt.title(\"Rating Distribution by Ptoduct Line\")\n",
    "plt.show()"
   ]
  },
  {
   "cell_type": "markdown",
   "id": "2702cfdc",
   "metadata": {},
   "source": [
    "### ***Insights from Time Analysis:***\n",
    "\n",
    "*- The `Food and beverages` product line had the highest sales.*\n",
    "\n",
    "*- The `Home and lifestyle` product line had high sales but low rating.*\n",
    "\n",
    "*- The `Electronic accessories` product line was the most popular product line in terms of quantity.*"
   ]
  },
  {
   "cell_type": "markdown",
   "id": "3672eb38",
   "metadata": {},
   "source": [
    "### ***Export Cleaned Data:***\n",
    "\n",
    "*- Finaly, exported the cleaned dataset for further analysis.*"
   ]
  },
  {
   "cell_type": "code",
   "execution_count": 17,
   "id": "66dbf82d",
   "metadata": {},
   "outputs": [],
   "source": [
    "df.to_csv(\"supermarket_d14.csv\", index=False)"
   ]
  }
 ],
 "metadata": {
  "kernelspec": {
   "display_name": "Python 3",
   "language": "python",
   "name": "python3"
  },
  "language_info": {
   "codemirror_mode": {
    "name": "ipython",
    "version": 3
   },
   "file_extension": ".py",
   "mimetype": "text/x-python",
   "name": "python",
   "nbconvert_exporter": "python",
   "pygments_lexer": "ipython3",
   "version": "3.13.5"
  }
 },
 "nbformat": 4,
 "nbformat_minor": 5
}
