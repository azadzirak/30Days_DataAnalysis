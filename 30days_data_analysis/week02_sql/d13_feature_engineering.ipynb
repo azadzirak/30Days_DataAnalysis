{
 "cells": [
  {
   "cell_type": "markdown",
   "id": "7ec52bb5",
   "metadata": {},
   "source": [
    "## **Day 13 of 30 days Data Analysis** "
   ]
  },
  {
   "cell_type": "code",
   "execution_count": 23,
   "id": "cc058cc9",
   "metadata": {},
   "outputs": [
    {
     "data": {
      "text/html": [
       "<div>\n",
       "<style scoped>\n",
       "    .dataframe tbody tr th:only-of-type {\n",
       "        vertical-align: middle;\n",
       "    }\n",
       "\n",
       "    .dataframe tbody tr th {\n",
       "        vertical-align: top;\n",
       "    }\n",
       "\n",
       "    .dataframe thead th {\n",
       "        text-align: right;\n",
       "    }\n",
       "</style>\n",
       "<table border=\"1\" class=\"dataframe\">\n",
       "  <thead>\n",
       "    <tr style=\"text-align: right;\">\n",
       "      <th></th>\n",
       "      <th>Invoice ID</th>\n",
       "      <th>Branch</th>\n",
       "      <th>Customer type</th>\n",
       "      <th>Gender</th>\n",
       "      <th>Product line</th>\n",
       "      <th>Unit price</th>\n",
       "      <th>Quantity</th>\n",
       "      <th>Tax 5%</th>\n",
       "      <th>Sales</th>\n",
       "      <th>Date</th>\n",
       "      <th>Time</th>\n",
       "      <th>cogs</th>\n",
       "      <th>gross income</th>\n",
       "      <th>Rating</th>\n",
       "      <th>Payment_Credit card</th>\n",
       "      <th>Payment_Ewallet</th>\n",
       "      <th>City_Naypyitaw</th>\n",
       "      <th>City_Yangon</th>\n",
       "      <th>CustomerType_lbl</th>\n",
       "    </tr>\n",
       "  </thead>\n",
       "  <tbody>\n",
       "    <tr>\n",
       "      <th>0</th>\n",
       "      <td>750-67-8428</td>\n",
       "      <td>Alex</td>\n",
       "      <td>0</td>\n",
       "      <td>Female</td>\n",
       "      <td>Health and beauty</td>\n",
       "      <td>74.69</td>\n",
       "      <td>7</td>\n",
       "      <td>26.1415</td>\n",
       "      <td>548.9715</td>\n",
       "      <td>01-05-19</td>\n",
       "      <td>1:08:00 PM</td>\n",
       "      <td>522.83</td>\n",
       "      <td>26.1415</td>\n",
       "      <td>9.1</td>\n",
       "      <td>False</td>\n",
       "      <td>True</td>\n",
       "      <td>False</td>\n",
       "      <td>True</td>\n",
       "      <td>Member</td>\n",
       "    </tr>\n",
       "    <tr>\n",
       "      <th>1</th>\n",
       "      <td>226-31-3081</td>\n",
       "      <td>Giza</td>\n",
       "      <td>1</td>\n",
       "      <td>Female</td>\n",
       "      <td>Electronic accessories</td>\n",
       "      <td>15.28</td>\n",
       "      <td>5</td>\n",
       "      <td>3.8200</td>\n",
       "      <td>80.2200</td>\n",
       "      <td>03-08-19</td>\n",
       "      <td>10:29:00 AM</td>\n",
       "      <td>76.40</td>\n",
       "      <td>3.8200</td>\n",
       "      <td>9.6</td>\n",
       "      <td>False</td>\n",
       "      <td>False</td>\n",
       "      <td>True</td>\n",
       "      <td>False</td>\n",
       "      <td>Normal</td>\n",
       "    </tr>\n",
       "    <tr>\n",
       "      <th>2</th>\n",
       "      <td>631-41-3108</td>\n",
       "      <td>Alex</td>\n",
       "      <td>1</td>\n",
       "      <td>Female</td>\n",
       "      <td>Home and lifestyle</td>\n",
       "      <td>46.33</td>\n",
       "      <td>7</td>\n",
       "      <td>16.2155</td>\n",
       "      <td>340.5255</td>\n",
       "      <td>03-03-19</td>\n",
       "      <td>1:23:00 PM</td>\n",
       "      <td>324.31</td>\n",
       "      <td>16.2155</td>\n",
       "      <td>7.4</td>\n",
       "      <td>True</td>\n",
       "      <td>False</td>\n",
       "      <td>False</td>\n",
       "      <td>True</td>\n",
       "      <td>Normal</td>\n",
       "    </tr>\n",
       "    <tr>\n",
       "      <th>3</th>\n",
       "      <td>123-19-1176</td>\n",
       "      <td>Alex</td>\n",
       "      <td>0</td>\n",
       "      <td>Female</td>\n",
       "      <td>Health and beauty</td>\n",
       "      <td>58.22</td>\n",
       "      <td>8</td>\n",
       "      <td>23.2880</td>\n",
       "      <td>489.0480</td>\n",
       "      <td>1/27/2019</td>\n",
       "      <td>8:33:00 PM</td>\n",
       "      <td>465.76</td>\n",
       "      <td>23.2880</td>\n",
       "      <td>8.4</td>\n",
       "      <td>False</td>\n",
       "      <td>True</td>\n",
       "      <td>False</td>\n",
       "      <td>True</td>\n",
       "      <td>Member</td>\n",
       "    </tr>\n",
       "    <tr>\n",
       "      <th>4</th>\n",
       "      <td>373-73-7910</td>\n",
       "      <td>Alex</td>\n",
       "      <td>0</td>\n",
       "      <td>Female</td>\n",
       "      <td>Sports and travel</td>\n",
       "      <td>86.31</td>\n",
       "      <td>7</td>\n",
       "      <td>30.2085</td>\n",
       "      <td>634.3785</td>\n",
       "      <td>02-08-19</td>\n",
       "      <td>10:37:00 AM</td>\n",
       "      <td>604.17</td>\n",
       "      <td>30.2085</td>\n",
       "      <td>5.3</td>\n",
       "      <td>False</td>\n",
       "      <td>True</td>\n",
       "      <td>False</td>\n",
       "      <td>True</td>\n",
       "      <td>Member</td>\n",
       "    </tr>\n",
       "  </tbody>\n",
       "</table>\n",
       "</div>"
      ],
      "text/plain": [
       "    Invoice ID Branch  Customer type  Gender            Product line  \\\n",
       "0  750-67-8428   Alex              0  Female       Health and beauty   \n",
       "1  226-31-3081   Giza              1  Female  Electronic accessories   \n",
       "2  631-41-3108   Alex              1  Female      Home and lifestyle   \n",
       "3  123-19-1176   Alex              0  Female       Health and beauty   \n",
       "4  373-73-7910   Alex              0  Female       Sports and travel   \n",
       "\n",
       "   Unit price  Quantity   Tax 5%     Sales       Date         Time    cogs  \\\n",
       "0       74.69         7  26.1415  548.9715   01-05-19   1:08:00 PM  522.83   \n",
       "1       15.28         5   3.8200   80.2200   03-08-19  10:29:00 AM   76.40   \n",
       "2       46.33         7  16.2155  340.5255   03-03-19   1:23:00 PM  324.31   \n",
       "3       58.22         8  23.2880  489.0480  1/27/2019   8:33:00 PM  465.76   \n",
       "4       86.31         7  30.2085  634.3785   02-08-19  10:37:00 AM  604.17   \n",
       "\n",
       "   gross income  Rating  Payment_Credit card  Payment_Ewallet  City_Naypyitaw  \\\n",
       "0       26.1415     9.1                False             True           False   \n",
       "1        3.8200     9.6                False            False            True   \n",
       "2       16.2155     7.4                 True            False           False   \n",
       "3       23.2880     8.4                False             True           False   \n",
       "4       30.2085     5.3                False             True           False   \n",
       "\n",
       "   City_Yangon CustomerType_lbl  \n",
       "0         True           Member  \n",
       "1        False           Normal  \n",
       "2         True           Normal  \n",
       "3         True           Member  \n",
       "4         True           Member  "
      ]
     },
     "execution_count": 23,
     "metadata": {},
     "output_type": "execute_result"
    }
   ],
   "source": [
    "import pandas as pd\n",
    "\n",
    "# Local dataset\n",
    "df = pd.read_csv(\"C:\\\\Users\\\\LENOVO\\\\Documents\\\\Programming\\\\30days_data_analysis\\\\week02_sql\\\\supermarket_processed_d12.csv\")\n",
    "\n",
    "# show head of dataset\n",
    "df.head()"
   ]
  },
  {
   "cell_type": "code",
   "execution_count": 24,
   "id": "527d76fb",
   "metadata": {},
   "outputs": [
    {
     "name": "stdout",
     "output_type": "stream",
     "text": [
      "<class 'pandas.core.frame.DataFrame'>\n",
      "RangeIndex: 1000 entries, 0 to 999\n",
      "Data columns (total 19 columns):\n",
      " #   Column               Non-Null Count  Dtype  \n",
      "---  ------               --------------  -----  \n",
      " 0   Invoice ID           1000 non-null   object \n",
      " 1   Branch               1000 non-null   object \n",
      " 2   Customer type        1000 non-null   int64  \n",
      " 3   Gender               1000 non-null   object \n",
      " 4   Product line         1000 non-null   object \n",
      " 5   Unit price           1000 non-null   float64\n",
      " 6   Quantity             1000 non-null   int64  \n",
      " 7   Tax 5%               1000 non-null   float64\n",
      " 8   Sales                1000 non-null   float64\n",
      " 9   Date                 1000 non-null   object \n",
      " 10  Time                 1000 non-null   object \n",
      " 11  cogs                 1000 non-null   float64\n",
      " 12  gross income         1000 non-null   float64\n",
      " 13  Rating               1000 non-null   float64\n",
      " 14  Payment_Credit card  1000 non-null   bool   \n",
      " 15  Payment_Ewallet      1000 non-null   bool   \n",
      " 16  City_Naypyitaw       1000 non-null   bool   \n",
      " 17  City_Yangon          1000 non-null   bool   \n",
      " 18  CustomerType_lbl     1000 non-null   object \n",
      "dtypes: bool(4), float64(6), int64(2), object(7)\n",
      "memory usage: 121.2+ KB\n"
     ]
    }
   ],
   "source": [
    "df.info()"
   ]
  },
  {
   "cell_type": "code",
   "execution_count": 25,
   "id": "dc507077",
   "metadata": {},
   "outputs": [
    {
     "data": {
      "text/plain": [
       "(1000, 19)"
      ]
     },
     "execution_count": 25,
     "metadata": {},
     "output_type": "execute_result"
    }
   ],
   "source": [
    "df.shape"
   ]
  },
  {
   "cell_type": "code",
   "execution_count": 26,
   "id": "a5488556",
   "metadata": {},
   "outputs": [
    {
     "data": {
      "text/plain": [
       "np.int64(0)"
      ]
     },
     "execution_count": 26,
     "metadata": {},
     "output_type": "execute_result"
    }
   ],
   "source": [
    "df.isnull().sum()\n",
    "\n",
    "df.duplicated().sum()"
   ]
  },
  {
   "cell_type": "code",
   "execution_count": 27,
   "id": "a47a7dff",
   "metadata": {},
   "outputs": [
    {
     "name": "stderr",
     "output_type": "stream",
     "text": [
      "C:\\Users\\LENOVO\\AppData\\Local\\Temp\\ipykernel_8484\\936118274.py:1: UserWarning: Could not infer format, so each element will be parsed individually, falling back to `dateutil`. To ensure parsing is consistent and as-expected, please specify a format.\n",
      "  df[\"Date\"] = pd.to_datetime(df[\"Date\"])\n"
     ]
    }
   ],
   "source": [
    "df[\"Date\"] = pd.to_datetime(df[\"Date\"])"
   ]
  },
  {
   "cell_type": "code",
   "execution_count": 28,
   "id": "4ee42daf",
   "metadata": {},
   "outputs": [],
   "source": [
    "df[\"Time\"] = pd.to_datetime(df[\"Time\"], format=\"%I:%M:%S %p\").dt.time"
   ]
  },
  {
   "cell_type": "code",
   "execution_count": 29,
   "id": "6c8ae5be",
   "metadata": {},
   "outputs": [],
   "source": [
    "df[\"Year\"] = df[\"Date\"].dt.year\n",
    "df[\"Month\"] = df[\"Date\"].dt.month\n",
    "df[\"Day\"] = df[\"Date\"].dt.day\n",
    "df[\"Weekday\"] = df[\"Date\"].dt.day_name()"
   ]
  },
  {
   "cell_type": "code",
   "execution_count": 30,
   "id": "c63bbf36",
   "metadata": {},
   "outputs": [],
   "source": [
    "df[\"Hour\"] = pd.to_datetime(df[\"Time\"], format=\"%H:%M:%S\").dt.hour"
   ]
  },
  {
   "cell_type": "code",
   "execution_count": 31,
   "id": "66b8d358",
   "metadata": {},
   "outputs": [
    {
     "data": {
      "text/html": [
       "<div>\n",
       "<style scoped>\n",
       "    .dataframe tbody tr th:only-of-type {\n",
       "        vertical-align: middle;\n",
       "    }\n",
       "\n",
       "    .dataframe tbody tr th {\n",
       "        vertical-align: top;\n",
       "    }\n",
       "\n",
       "    .dataframe thead th {\n",
       "        text-align: right;\n",
       "    }\n",
       "</style>\n",
       "<table border=\"1\" class=\"dataframe\">\n",
       "  <thead>\n",
       "    <tr style=\"text-align: right;\">\n",
       "      <th></th>\n",
       "      <th>Invoice ID</th>\n",
       "      <th>Branch</th>\n",
       "      <th>Customer type</th>\n",
       "      <th>Gender</th>\n",
       "      <th>Product line</th>\n",
       "      <th>Unit price</th>\n",
       "      <th>Quantity</th>\n",
       "      <th>Tax 5%</th>\n",
       "      <th>Sales</th>\n",
       "      <th>Date</th>\n",
       "      <th>...</th>\n",
       "      <th>Payment_Credit card</th>\n",
       "      <th>Payment_Ewallet</th>\n",
       "      <th>City_Naypyitaw</th>\n",
       "      <th>City_Yangon</th>\n",
       "      <th>CustomerType_lbl</th>\n",
       "      <th>Year</th>\n",
       "      <th>Month</th>\n",
       "      <th>Day</th>\n",
       "      <th>Weekday</th>\n",
       "      <th>Hour</th>\n",
       "    </tr>\n",
       "  </thead>\n",
       "  <tbody>\n",
       "    <tr>\n",
       "      <th>0</th>\n",
       "      <td>750-67-8428</td>\n",
       "      <td>Alex</td>\n",
       "      <td>0</td>\n",
       "      <td>Female</td>\n",
       "      <td>Health and beauty</td>\n",
       "      <td>74.69</td>\n",
       "      <td>7</td>\n",
       "      <td>26.1415</td>\n",
       "      <td>548.9715</td>\n",
       "      <td>2019-01-05</td>\n",
       "      <td>...</td>\n",
       "      <td>False</td>\n",
       "      <td>True</td>\n",
       "      <td>False</td>\n",
       "      <td>True</td>\n",
       "      <td>Member</td>\n",
       "      <td>2019</td>\n",
       "      <td>1</td>\n",
       "      <td>5</td>\n",
       "      <td>Saturday</td>\n",
       "      <td>13</td>\n",
       "    </tr>\n",
       "    <tr>\n",
       "      <th>1</th>\n",
       "      <td>226-31-3081</td>\n",
       "      <td>Giza</td>\n",
       "      <td>1</td>\n",
       "      <td>Female</td>\n",
       "      <td>Electronic accessories</td>\n",
       "      <td>15.28</td>\n",
       "      <td>5</td>\n",
       "      <td>3.8200</td>\n",
       "      <td>80.2200</td>\n",
       "      <td>2019-03-08</td>\n",
       "      <td>...</td>\n",
       "      <td>False</td>\n",
       "      <td>False</td>\n",
       "      <td>True</td>\n",
       "      <td>False</td>\n",
       "      <td>Normal</td>\n",
       "      <td>2019</td>\n",
       "      <td>3</td>\n",
       "      <td>8</td>\n",
       "      <td>Friday</td>\n",
       "      <td>10</td>\n",
       "    </tr>\n",
       "    <tr>\n",
       "      <th>2</th>\n",
       "      <td>631-41-3108</td>\n",
       "      <td>Alex</td>\n",
       "      <td>1</td>\n",
       "      <td>Female</td>\n",
       "      <td>Home and lifestyle</td>\n",
       "      <td>46.33</td>\n",
       "      <td>7</td>\n",
       "      <td>16.2155</td>\n",
       "      <td>340.5255</td>\n",
       "      <td>2019-03-03</td>\n",
       "      <td>...</td>\n",
       "      <td>True</td>\n",
       "      <td>False</td>\n",
       "      <td>False</td>\n",
       "      <td>True</td>\n",
       "      <td>Normal</td>\n",
       "      <td>2019</td>\n",
       "      <td>3</td>\n",
       "      <td>3</td>\n",
       "      <td>Sunday</td>\n",
       "      <td>13</td>\n",
       "    </tr>\n",
       "    <tr>\n",
       "      <th>3</th>\n",
       "      <td>123-19-1176</td>\n",
       "      <td>Alex</td>\n",
       "      <td>0</td>\n",
       "      <td>Female</td>\n",
       "      <td>Health and beauty</td>\n",
       "      <td>58.22</td>\n",
       "      <td>8</td>\n",
       "      <td>23.2880</td>\n",
       "      <td>489.0480</td>\n",
       "      <td>2019-01-27</td>\n",
       "      <td>...</td>\n",
       "      <td>False</td>\n",
       "      <td>True</td>\n",
       "      <td>False</td>\n",
       "      <td>True</td>\n",
       "      <td>Member</td>\n",
       "      <td>2019</td>\n",
       "      <td>1</td>\n",
       "      <td>27</td>\n",
       "      <td>Sunday</td>\n",
       "      <td>20</td>\n",
       "    </tr>\n",
       "    <tr>\n",
       "      <th>4</th>\n",
       "      <td>373-73-7910</td>\n",
       "      <td>Alex</td>\n",
       "      <td>0</td>\n",
       "      <td>Female</td>\n",
       "      <td>Sports and travel</td>\n",
       "      <td>86.31</td>\n",
       "      <td>7</td>\n",
       "      <td>30.2085</td>\n",
       "      <td>634.3785</td>\n",
       "      <td>2019-02-08</td>\n",
       "      <td>...</td>\n",
       "      <td>False</td>\n",
       "      <td>True</td>\n",
       "      <td>False</td>\n",
       "      <td>True</td>\n",
       "      <td>Member</td>\n",
       "      <td>2019</td>\n",
       "      <td>2</td>\n",
       "      <td>8</td>\n",
       "      <td>Friday</td>\n",
       "      <td>10</td>\n",
       "    </tr>\n",
       "  </tbody>\n",
       "</table>\n",
       "<p>5 rows × 24 columns</p>\n",
       "</div>"
      ],
      "text/plain": [
       "    Invoice ID Branch  Customer type  Gender            Product line  \\\n",
       "0  750-67-8428   Alex              0  Female       Health and beauty   \n",
       "1  226-31-3081   Giza              1  Female  Electronic accessories   \n",
       "2  631-41-3108   Alex              1  Female      Home and lifestyle   \n",
       "3  123-19-1176   Alex              0  Female       Health and beauty   \n",
       "4  373-73-7910   Alex              0  Female       Sports and travel   \n",
       "\n",
       "   Unit price  Quantity   Tax 5%     Sales       Date  ...  \\\n",
       "0       74.69         7  26.1415  548.9715 2019-01-05  ...   \n",
       "1       15.28         5   3.8200   80.2200 2019-03-08  ...   \n",
       "2       46.33         7  16.2155  340.5255 2019-03-03  ...   \n",
       "3       58.22         8  23.2880  489.0480 2019-01-27  ...   \n",
       "4       86.31         7  30.2085  634.3785 2019-02-08  ...   \n",
       "\n",
       "  Payment_Credit card  Payment_Ewallet  City_Naypyitaw  City_Yangon  \\\n",
       "0               False             True           False         True   \n",
       "1               False            False            True        False   \n",
       "2                True            False           False         True   \n",
       "3               False             True           False         True   \n",
       "4               False             True           False         True   \n",
       "\n",
       "   CustomerType_lbl  Year  Month  Day   Weekday  Hour  \n",
       "0            Member  2019      1    5  Saturday    13  \n",
       "1            Normal  2019      3    8    Friday    10  \n",
       "2            Normal  2019      3    3    Sunday    13  \n",
       "3            Member  2019      1   27    Sunday    20  \n",
       "4            Member  2019      2    8    Friday    10  \n",
       "\n",
       "[5 rows x 24 columns]"
      ]
     },
     "execution_count": 31,
     "metadata": {},
     "output_type": "execute_result"
    }
   ],
   "source": [
    "df.head()"
   ]
  },
  {
   "cell_type": "code",
   "execution_count": 32,
   "id": "5131d6d9",
   "metadata": {},
   "outputs": [
    {
     "data": {
      "text/plain": [
       "Weekday\n",
       "Monday       303.192624\n",
       "Wednesday    305.812133\n",
       "Friday       316.016838\n",
       "Tuesday      325.836997\n",
       "Thursday     328.617739\n",
       "Sunday       334.269868\n",
       "Saturday     342.200058\n",
       "Name: Sales, dtype: float64"
      ]
     },
     "execution_count": 32,
     "metadata": {},
     "output_type": "execute_result"
    }
   ],
   "source": [
    "df.groupby(\"Weekday\")[\"Sales\"].mean().sort_values()"
   ]
  },
  {
   "cell_type": "code",
   "execution_count": 33,
   "id": "82841def",
   "metadata": {},
   "outputs": [
    {
     "data": {
      "text/plain": [
       "Month\n",
       "1    330.374625\n",
       "2    320.856020\n",
       "3    317.262339\n",
       "Name: Sales, dtype: float64"
      ]
     },
     "execution_count": 33,
     "metadata": {},
     "output_type": "execute_result"
    }
   ],
   "source": [
    "df.groupby(\"Month\")[\"Sales\"].mean()"
   ]
  },
  {
   "cell_type": "code",
   "execution_count": 34,
   "id": "6abbe4a0",
   "metadata": {},
   "outputs": [
    {
     "data": {
      "text/plain": [
       "<Axes: title={'center': 'Average Sales by Hour'}, xlabel='Hour'>"
      ]
     },
     "execution_count": 34,
     "metadata": {},
     "output_type": "execute_result"
    },
    {
     "data": {
      "image/png": "[encoded data removed]",
      "text/plain": [
       "<Figure size 1000x500 with 1 Axes>"
      ]
     },
     "metadata": {},
     "output_type": "display_data"
    }
   ],
   "source": [
    "df.groupby(\"Hour\")[\"Sales\"].mean().plot(kind=\"bar\", figsize=(10,5), title=\"Average Sales by Hour\")"
   ]
  },
  {
   "cell_type": "code",
   "execution_count": 35,
   "id": "f919bef0",
   "metadata": {},
   "outputs": [
    {
     "name": "stdout",
     "output_type": "stream",
     "text": [
      "Weekday\n",
      "Monday       303.192624\n",
      "Wednesday    305.812133\n",
      "Friday       316.016838\n",
      "Tuesday      325.836997\n",
      "Thursday     328.617739\n",
      "Sunday       334.269868\n",
      "Saturday     342.200058\n",
      "Name: Sales, dtype: float64\n"
     ]
    },
    {
     "data": {
      "text/plain": [
       "<Axes: title={'center': 'Average Sales by Weekday'}, xlabel='Weekday'>"
      ]
     },
     "execution_count": 35,
     "metadata": {},
     "output_type": "execute_result"
    },
    {
     "data": {
      "image/png": "[encoded data removed]",
      "text/plain": [
       "<Figure size 800x400 with 1 Axes>"
      ]
     },
     "metadata": {},
     "output_type": "display_data"
    }
   ],
   "source": [
    "weekday_sales = df.groupby(\"Weekday\")[\"Sales\"].mean().sort_values()\n",
    "\n",
    "print(weekday_sales)\n",
    "\n",
    "weekday_sales.plot(kind=\"bar\", figsize=(8,4), title=\"Average Sales by Weekday\")"
   ]
  },
  {
   "cell_type": "code",
   "execution_count": 36,
   "id": "63682b80",
   "metadata": {},
   "outputs": [
    {
     "name": "stdout",
     "output_type": "stream",
     "text": [
      "Month\n",
      "1    330.374625\n",
      "2    320.856020\n",
      "3    317.262339\n",
      "Name: Sales, dtype: float64\n"
     ]
    },
    {
     "data": {
      "text/plain": [
       "<Axes: title={'center': 'Average Sales by Month'}, xlabel='Month'>"
      ]
     },
     "execution_count": 36,
     "metadata": {},
     "output_type": "execute_result"
    },
    {
     "data": {
      "image/png": "[encoded data removed]",
      "text/plain": [
       "<Figure size 800x400 with 1 Axes>"
      ]
     },
     "metadata": {},
     "output_type": "display_data"
    }
   ],
   "source": [
    "month_sales = df.groupby(\"Month\")[\"Sales\"].mean()\n",
    "\n",
    "print(month_sales)\n",
    "\n",
    "month_sales.plot(kind=\"bar\", figsize=(8,4), title=\"Average Sales by Month\")"
   ]
  },
  {
   "cell_type": "code",
   "execution_count": 37,
   "id": "d2e2aa23",
   "metadata": {},
   "outputs": [
    {
     "name": "stdout",
     "output_type": "stream",
     "text": [
      "Hour\n",
      "10    311.103772\n",
      "11    337.525883\n",
      "12    292.875084\n",
      "13    337.118709\n",
      "14    371.426494\n",
      "15    305.681456\n",
      "16    327.614591\n",
      "17    330.340784\n",
      "18    279.896129\n",
      "19    351.323124\n",
      "20    306.260360\n",
      "Name: Sales, dtype: float64\n"
     ]
    },
    {
     "data": {
      "text/plain": [
       "<Axes: title={'center': 'Average Sales by Hour'}, xlabel='Hour'>"
      ]
     },
     "execution_count": 37,
     "metadata": {},
     "output_type": "execute_result"
    },
    {
     "data": {
      "image/png": "[encoded data removed]",
      "text/plain": [
       "<Figure size 1000x500 with 1 Axes>"
      ]
     },
     "metadata": {},
     "output_type": "display_data"
    }
   ],
   "source": [
    "hour_sales = df.groupby(\"Hour\")[\"Sales\"].mean()\n",
    "\n",
    "print(hour_sales)\n",
    "\n",
    "hour_sales.plot(kind=\"bar\", figsize=(10,5), title=\"Average Sales by Hour\")"
   ]
  },
  {
   "cell_type": "code",
   "execution_count": 38,
   "id": "ed3752e4",
   "metadata": {},
   "outputs": [
    {
     "data": {
      "image/png": "[encoded data removed]",
      "text/plain": [
       "<Figure size 1200x600 with 2 Axes>"
      ]
     },
     "metadata": {},
     "output_type": "display_data"
    }
   ],
   "source": [
    "import seaborn as sns\n",
    "import matplotlib.pyplot as plt\n",
    "\n",
    "heatmap_data = df.groupby([\"Weekday\", \"Hour\"])[\"Sales\"].mean().unstack()\n",
    "\n",
    "plt.figure(figsize= (12,6))\n",
    "sns.heatmap(heatmap_data, cmap=\"YlGnBu\")\n",
    "plt.title(\"Average Sales by Weekday and Hour\")\n",
    "plt.show()"
   ]
  },
  {
   "cell_type": "markdown",
   "id": "16e31c97",
   "metadata": {},
   "source": [
    "### ***Insights from Time Analysis:***\n",
    "\n",
    "***- Weekday:*** *Sales were highest on **Saturday**, and lowest on **Monday**.*  \n",
    "\n",
    "***- Month:*** Peak sales occurred in **January (Month 1)**.*\n",
    "\n",
    "***- Hour:*** *Sales peaked at **14:00 (2 PM)**, showing the strongest customer activity.*\n",
    "\n",
    "***- Heatmap:*** *The busiest times were **Tuesday 15:00** and **Saturday 14:00**.*"
   ]
  },
  {
   "cell_type": "markdown",
   "id": "bb1d5049",
   "metadata": {},
   "source": [
    "### ***Export Cleaned Data:***\n",
    "\n",
    "*- Finaly, exported the cleaned dataset for further analysis:*"
   ]
  },
  {
   "cell_type": "code",
   "execution_count": 43,
   "id": "53179e00",
   "metadata": {},
   "outputs": [],
   "source": [
    "df.to_csv(\"supermarket_d13.csv\", index=False)"
   ]
  }
 ],
 "metadata": {
  "kernelspec": {
   "display_name": "Python 3",
   "language": "python",
   "name": "python3"
  },
  "language_info": {
   "codemirror_mode": {
    "name": "ipython",
    "version": 3
   },
   "file_extension": ".py",
   "mimetype": "text/x-python",
   "name": "python",
   "nbconvert_exporter": "python",
   "pygments_lexer": "ipython3",
   "version": "3.13.5"
  }
 },
 "nbformat": 4,
 "nbformat_minor": 5
}
