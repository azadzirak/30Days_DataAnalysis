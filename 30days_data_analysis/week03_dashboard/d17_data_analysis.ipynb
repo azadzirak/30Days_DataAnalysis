{
 "cells": [
  {
   "cell_type": "markdown",
   "id": "a9b154c4",
   "metadata": {},
   "source": [
    "## **Day 17 of 30 days Data Analysis** "
   ]
  },
  {
   "cell_type": "code",
   "execution_count": 11,
   "id": "cd175466",
   "metadata": {},
   "outputs": [],
   "source": [
    "import pandas as pd\n",
    "\n",
    "df = pd.read_csv(\"C:\\\\Users\\\\LENOVO\\\\Documents\\\\Programming\\\\30days_data_analysis\\\\week02_sql\\\\supermarket_d14.csv\")"
   ]
  },
  {
   "cell_type": "code",
   "execution_count": 12,
   "id": "93e90d22",
   "metadata": {},
   "outputs": [
    {
     "data": {
      "text/plain": [
       "1000"
      ]
     },
     "execution_count": 12,
     "metadata": {},
     "output_type": "execute_result"
    }
   ],
   "source": [
    "import sqlite3\n",
    "\n",
    "conn = sqlite3.connect(\":memory:\")\n",
    "df.to_sql(\"supermarket\", conn, index=False, if_exists=\"replace\")"
   ]
  },
  {
   "cell_type": "code",
   "execution_count": 13,
   "id": "2b97dff7",
   "metadata": {},
   "outputs": [
    {
     "data": {
      "text/html": [
       "<div>\n",
       "<style scoped>\n",
       "    .dataframe tbody tr th:only-of-type {\n",
       "        vertical-align: middle;\n",
       "    }\n",
       "\n",
       "    .dataframe tbody tr th {\n",
       "        vertical-align: top;\n",
       "    }\n",
       "\n",
       "    .dataframe thead th {\n",
       "        text-align: right;\n",
       "    }\n",
       "</style>\n",
       "<table border=\"1\" class=\"dataframe\">\n",
       "  <thead>\n",
       "    <tr style=\"text-align: right;\">\n",
       "      <th></th>\n",
       "      <th>Gender</th>\n",
       "      <th>AvgSales</th>\n",
       "    </tr>\n",
       "  </thead>\n",
       "  <tbody>\n",
       "    <tr>\n",
       "      <th>0</th>\n",
       "      <td>Female</td>\n",
       "      <td>340.931414</td>\n",
       "    </tr>\n",
       "    <tr>\n",
       "      <th>1</th>\n",
       "      <td>Male</td>\n",
       "      <td>299.055738</td>\n",
       "    </tr>\n",
       "  </tbody>\n",
       "</table>\n",
       "</div>"
      ],
      "text/plain": [
       "   Gender    AvgSales\n",
       "0  Female  340.931414\n",
       "1    Male  299.055738"
      ]
     },
     "execution_count": 13,
     "metadata": {},
     "output_type": "execute_result"
    }
   ],
   "source": [
    "query = \"SELECT Gender, AVG(Sales) as AvgSales FROM supermarket GROUP BY Gender\"\n",
    "pd.read_sql_query(query, conn)"
   ]
  },
  {
   "cell_type": "code",
   "execution_count": 14,
   "id": "39104f54",
   "metadata": {},
   "outputs": [
    {
     "name": "stdout",
     "output_type": "stream",
     "text": [
      "   Gender    AvgSales\n",
      "0  Female  340.931414\n",
      "1    Male  299.055738\n"
     ]
    }
   ],
   "source": [
    "query1 = \"\"\"\n",
    "SELECT Gender, AVG(Sales) as AvgSales\n",
    "FROM supermarket\n",
    "GROUP BY Gender\n",
    "\"\"\"\n",
    "print(pd.read_sql_query(query1, conn))"
   ]
  },
  {
   "cell_type": "markdown",
   "id": "1073d94d",
   "metadata": {},
   "source": [
    "### ***Query 1: Average Sales by Gender***\n",
    "\n",
    "*- This query calculates the average sales grouped by gender.*\n",
    "\n",
    "*- If females show higher average sales, it suggests women contribute more revenue per purchase.*\n",
    "\n",
    "*- If males show higher average sales, it suggests men spend more per transaction.*"
   ]
  },
  {
   "cell_type": "code",
   "execution_count": 15,
   "id": "52799d81",
   "metadata": {},
   "outputs": [
    {
     "name": "stdout",
     "output_type": "stream",
     "text": [
      "             Product line  MinRating  MaxRating\n",
      "0  Electronic accessories        4.0       10.0\n",
      "1     Fashion accessories        4.0        9.9\n",
      "2      Food and beverages        4.0        9.9\n",
      "3       Health and beauty        4.0       10.0\n",
      "4      Home and lifestyle        4.1        9.9\n",
      "5       Sports and travel        4.0       10.0\n"
     ]
    }
   ],
   "source": [
    "query2 = \"\"\"\n",
    "SELECT [Product line], MIN(Rating) as MinRating, MAX(Rating) as MaxRating\n",
    "FROM supermarket\n",
    "GROUP BY [Product line]\n",
    "\"\"\"\n",
    "print(pd.read_sql_query(query2, conn))"
   ]
  },
  {
   "cell_type": "markdown",
   "id": "ecf31c1f",
   "metadata": {},
   "source": [
    "### ***Query 2: Popular Product Lines***\n",
    "\n",
    "*- This query counts the number of transactions for each product line.*\n",
    "\n",
    "*- Shows which product categories are most popular among customers.*\n",
    "\n",
    "*- Helps businesses decide on stock management and promotions.*"
   ]
  },
  {
   "cell_type": "code",
   "execution_count": 16,
   "id": "1d17c9be",
   "metadata": {},
   "outputs": [
    {
     "name": "stdout",
     "output_type": "stream",
     "text": [
      "     Weekday  TotalSales\n",
      "0   Saturday  56120.8095\n",
      "1    Tuesday  51482.2455\n",
      "2   Thursday  45349.2480\n",
      "3     Sunday  44457.8925\n",
      "4     Friday  43926.3405\n",
      "5  Wednesday  43731.1350\n",
      "6     Monday  37899.0780\n"
     ]
    }
   ],
   "source": [
    "df[\"Date\"] = pd.to_datetime(df[\"Date\"])\n",
    "df[\"Weekday\"] = df[\"Date\"].dt.day_name()\n",
    "df.to_sql(\"supermarket\", conn, index=False, if_exists=\"replace\")\n",
    "\n",
    "query3 = \"\"\"\n",
    "SELECT Weekday, SUM(Sales) as TotalSales\n",
    "FROM supermarket\n",
    "GROUP BY Weekday\n",
    "ORDER BY TotalSales DESC\n",
    "\"\"\"\n",
    "\n",
    "print(pd.read_sql_query(query3, conn))"
   ]
  },
  {
   "cell_type": "code",
   "execution_count": 17,
   "id": "caaabf57",
   "metadata": {},
   "outputs": [
    {
     "name": "stdout",
     "output_type": "stream",
     "text": [
      "Gender\n",
      "Female    340.931414\n",
      "Male      299.055738\n",
      "Name: Sales, dtype: float64\n",
      "--------\n",
      "                        min   max\n",
      "Product line                     \n",
      "Electronic accessories  4.0  10.0\n",
      "Fashion accessories     4.0   9.9\n",
      "Food and beverages      4.0   9.9\n",
      "Health and beauty       4.0  10.0\n",
      "Home and lifestyle      4.1   9.9\n",
      "Sports and travel       4.0  10.0\n",
      "--------\n",
      "Weekday\n",
      "Saturday     56120.8095\n",
      "Tuesday      51482.2455\n",
      "Thursday     45349.2480\n",
      "Sunday       44457.8925\n",
      "Friday       43926.3405\n",
      "Wednesday    43731.1350\n",
      "Monday       37899.0780\n",
      "Name: Sales, dtype: float64\n"
     ]
    }
   ],
   "source": [
    "print(df.groupby(\"Gender\")[\"Sales\"].mean())\n",
    "print(\"--------\")\n",
    "print(df.groupby(\"Product line\")[\"Rating\"].agg([\"min\", \"max\"]))\n",
    "print(\"--------\")\n",
    "print(df.groupby(\"Weekday\")[\"Sales\"].sum().sort_values(ascending=False))"
   ]
  },
  {
   "cell_type": "markdown",
   "id": "cbbaf37e",
   "metadata": {},
   "source": [
    "### ***Final Insight:***\n",
    "\n",
    "*- SQL queries reveal key business patterns directly from the dataset.*\n",
    "\n",
    "*- These insights can then be combined with Python visualizations for deeper analysis.*"
   ]
  }
 ],
 "metadata": {
  "kernelspec": {
   "display_name": "Python 3",
   "language": "python",
   "name": "python3"
  },
  "language_info": {
   "codemirror_mode": {
    "name": "ipython",
    "version": 3
   },
   "file_extension": ".py",
   "mimetype": "text/x-python",
   "name": "python",
   "nbconvert_exporter": "python",
   "pygments_lexer": "ipython3",
   "version": "3.13.5"
  }
 },
 "nbformat": 4,
 "nbformat_minor": 5
}
