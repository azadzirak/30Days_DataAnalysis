{
 "cells": [
  {
   "cell_type": "markdown",
   "id": "b8354890",
   "metadata": {},
   "source": [
    "## **Day 18 of 30 days Data Analysis** "
   ]
  },
  {
   "cell_type": "code",
   "execution_count": 15,
   "id": "91d368ef",
   "metadata": {},
   "outputs": [],
   "source": [
    "import pandas as pd\n",
    "\n",
    "df = pd.read_csv(\"C:\\\\Users\\\\LENOVO\\\\Documents\\\\Programming\\\\30days_data_analysis\\\\week02_sql\\\\supermarket_d14.csv\")"
   ]
  },
  {
   "cell_type": "code",
   "execution_count": 16,
   "id": "40f5f1e3",
   "metadata": {},
   "outputs": [
    {
     "data": {
      "text/plain": [
       "1000"
      ]
     },
     "execution_count": 16,
     "metadata": {},
     "output_type": "execute_result"
    }
   ],
   "source": [
    "import sqlite3\n",
    "\n",
    "conn = sqlite3.connect(\":memory:\")\n",
    "df.to_sql(\"supermarket\", conn, index=False, if_exists=\"replace\")"
   ]
  },
  {
   "cell_type": "markdown",
   "id": "2926ef20",
   "metadata": {},
   "source": [
    "### ***Query1 - Average Rating by Product line:***"
   ]
  },
  {
   "cell_type": "code",
   "execution_count": 17,
   "id": "6c0a4b5b",
   "metadata": {},
   "outputs": [
    {
     "name": "stdout",
     "output_type": "stream",
     "text": [
      "             Product line  avg_rating\n",
      "0      Food and beverages    7.113218\n",
      "1     Fashion accessories    7.029213\n",
      "2       Health and beauty    7.003289\n",
      "3  Electronic accessories    6.924706\n",
      "4       Sports and travel    6.916265\n",
      "5      Home and lifestyle    6.837500\n"
     ]
    }
   ],
   "source": [
    "query1 = \"\"\"\n",
    "SELECT [Product line], AVG(Rating) as avg_rating\n",
    "FROM supermarket\n",
    "GROUP BY [Product line]\n",
    "ORDER BY avg_rating DESC\n",
    "\"\"\"\n",
    "\n",
    "print(pd.read_sql_query(query1, conn))"
   ]
  },
  {
   "cell_type": "markdown",
   "id": "bcd61efb",
   "metadata": {},
   "source": [
    "*- The product line with the highest average rating is `Food and beverages` with avg `7.11`.*"
   ]
  },
  {
   "cell_type": "markdown",
   "id": "440c8f8d",
   "metadata": {},
   "source": [
    "### ***Query2 - Top 5 Customers by Total Sales:***"
   ]
  },
  {
   "cell_type": "code",
   "execution_count": 18,
   "id": "fd04d53c",
   "metadata": {},
   "outputs": [
    {
     "name": "stdout",
     "output_type": "stream",
     "text": [
      "    Invoice ID  total_sales\n",
      "0  860-79-0874      1042.65\n",
      "1  687-47-8271      1039.29\n",
      "2  283-26-5248      1034.46\n",
      "3  751-41-9720      1023.75\n",
      "4  303-96-2227      1022.49\n"
     ]
    }
   ],
   "source": [
    "query2 = \"\"\"\n",
    "SELECT [Invoice ID], SUM(Sales) as total_sales\n",
    "FROM supermarket\n",
    "GROUP BY [Invoice ID]\n",
    "ORDER BY total_sales DESC\n",
    "LIMIT 5\n",
    "\"\"\"\n",
    "\n",
    "print(pd.read_sql_query(query2, conn))"
   ]
  },
  {
   "cell_type": "markdown",
   "id": "6f8fce41",
   "metadata": {},
   "source": [
    "*- The top customer had sales of `860-79-0874` with total sales `1042.65`.*"
   ]
  },
  {
   "cell_type": "markdown",
   "id": "3fdddbd6",
   "metadata": {},
   "source": [
    "### ***Query3 - Sales trend by Month:***"
   ]
  },
  {
   "cell_type": "code",
   "execution_count": 19,
   "id": "10a4e2aa",
   "metadata": {},
   "outputs": [
    {
     "name": "stdout",
     "output_type": "stream",
     "text": [
      "   Month  total_sales\n",
      "0      1   116291.868\n",
      "1      2    97219.374\n",
      "2      3   109455.507\n"
     ]
    }
   ],
   "source": [
    "query3 = \"\"\"\n",
    "SELECT [Month], SUM(Sales) as total_sales\n",
    "FROM supermarket\n",
    "GROUP BY [Month]\n",
    "ORDER BY [Month]\n",
    "\"\"\"\n",
    "\n",
    "print(pd.read_sql_query(query3, conn))"
   ]
  },
  {
   "cell_type": "markdown",
   "id": "b9a11f2b",
   "metadata": {},
   "source": [
    "*- Sales peaked in Month `January` with total sales `116291.86`.*"
   ]
  },
  {
   "cell_type": "markdown",
   "id": "55b34dff",
   "metadata": {},
   "source": [
    "### ***Final Insight:***\n",
    "\n",
    "*- SQL queries reveal key business patterns directly from the dataset.*\n",
    "\n",
    "*- These insights can then be combined with Python visualizations for deeper analysis.*"
   ]
  }
 ],
 "metadata": {
  "kernelspec": {
   "display_name": "Python 3",
   "language": "python",
   "name": "python3"
  },
  "language_info": {
   "codemirror_mode": {
    "name": "ipython",
    "version": 3
   },
   "file_extension": ".py",
   "mimetype": "text/x-python",
   "name": "python",
   "nbconvert_exporter": "python",
   "pygments_lexer": "ipython3",
   "version": "3.13.5"
  }
 },
 "nbformat": 4,
 "nbformat_minor": 5
}
