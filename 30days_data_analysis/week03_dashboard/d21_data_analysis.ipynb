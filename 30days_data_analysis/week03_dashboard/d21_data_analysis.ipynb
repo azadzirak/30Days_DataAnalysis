{
 "cells": [
  {
   "cell_type": "markdown",
   "id": "a7c1161b",
   "metadata": {},
   "source": [
    "## **Day 21 of 30 days Data Analysis**"
   ]
  },
  {
   "cell_type": "markdown",
   "id": "26e7f589",
   "metadata": {},
   "source": [
    "### ***Interactive Dashboard with Plotly***"
   ]
  },
  {
   "cell_type": "markdown",
   "id": "59838a0a",
   "metadata": {},
   "source": [
    "### ***1. Installing and import libraries:***"
   ]
  },
  {
   "cell_type": "code",
   "execution_count": 6,
   "id": "ab0d180b",
   "metadata": {},
   "outputs": [],
   "source": [
    "import pandas as pd\n",
    "import plotly.express as px\n",
    "\n",
    "df = pd.read_csv(\"C:\\\\Users\\\\LENOVO\\\\Documents\\\\Programming\\\\30days_data_analysis\\\\week02_sql\\\\supermarket_d14.csv\")"
   ]
  },
  {
   "cell_type": "markdown",
   "id": "ee8fe3ea",
   "metadata": {},
   "source": [
    "### ***2. Sales chart by product line(interactive):***"
   ]
  },
  {
   "cell_type": "code",
   "execution_count": 7,
   "id": "f2f13661",
   "metadata": {},
   "outputs": [
    {
     "data": {
      "application/vnd.plotly.v1+json": {
       "config": {
        "plotlyServerURL": "https://plot.ly"
       },
       "data": [
        {
         "hovertemplate": "Product line=%{x}<br>Sales=%{y}<extra></extra>",
         "legendgroup": "Health and beauty",
         "marker": {
          "color": "#636efa",
          "pattern": {
           "shape": ""
          }
         },
         "name": "Health and beauty",
         "orientation": "v",
         "showlegend": true,
         "textposition": "auto",
         "type": "bar",
         "x": [
          "Health and beauty",
          "Health and beauty",
          "Health and beauty",
          "Health and beauty",
          "Health and beauty",
          "Health and beauty",
          "Health and beauty",
          "Health and beauty",
          "Health and beauty",
          "Health and beauty",
          "Health and beauty",
          "Health and beauty",
          "Health and beauty",
          "Health and beauty",
          "Health and beauty",
          "Health and beauty",
          "Health and beauty",
          "Health and beauty",
          "Health and beauty",
          "Health and beauty",
          "Health and beauty",
          "Health and beauty",
          "Health and beauty",
          "Health and beauty",
          "Health and beauty",
          "Health and beauty",
          "Health and beauty",
          "Health and beauty",
          "Health and beauty",
          "Health and beauty",
          "Health and beauty",
          "Health and beauty",
          "Health and beauty",
          "Health and beauty",
          "Health and beauty",
          "Health and beauty",
          "Health and beauty",
          "Health and beauty",
          "Health and beauty",
          "Health and beauty",
          "Health and beauty",
          "Health and beauty",
          "Health and beauty",
          "Health and beauty",
          "Health and beauty",
          "Health and beauty",
          "Health and beauty",
          "Health and beauty",
          "Health and beauty",
          "Health and beauty",
          "Health and beauty",
          "Health and beauty",
          "Health and beauty",
          "Health and beauty",
          "Health and beauty",
          "Health and beauty",
          "Health and beauty",
          "Health and beauty",
          "Health and beauty",
          "Health and beauty",
          "Health and beauty",
          "Health and beauty",
          "Health and beauty",
          "Health and beauty",
          "Health and beauty",
          "Health and beauty",
          "Health and beauty",
          "Health and beauty",
          "Health and beauty",
          "Health and beauty",
          "Health and beauty",
          "Health and beauty",
          "Health and beauty",
          "Health and beauty",
          "Health and beauty",
          "Health and beauty",
          "Health and beauty",
          "Health and beauty",
          "Health and beauty",
          "Health and beauty",
          "Health and beauty",
          "Health and beauty",
          "Health and beauty",
          "Health and beauty",
          "Health and beauty",
          "Health and beauty",
          "Health and beauty",
          "Health and beauty",
          "Health and beauty",
          "Health and beauty",
          "Health and beauty",
          "Health and beauty",
          "Health and beauty",
          "Health and beauty",
          "Health and beauty",
          "Health and beauty",
          "Health and beauty",
          "Health and beauty",
          "Health and beauty",
          "Health and beauty",
          "Health and beauty",
          "Health and beauty",
          "Health and beauty",
          "Health and beauty",
          "Health and beauty",
          "Health and beauty",
          "Health and beauty",
          "Health and beauty",
          "Health and beauty",
          "Health and beauty",
          "Health and beauty",
          "Health and beauty",
          "Health and beauty",
          "Health and beauty",
          "Health and beauty",
          "Health and beauty",
          "Health and beauty",
          "Health and beauty",
          "Health and beauty",
          "Health and beauty",
          "Health and beauty",
          "Health and beauty",
          "Health and beauty",
          "Health and beauty",
          "Health and beauty",
          "Health and beauty",
          "Health and beauty",
          "Health and beauty",
          "Health and beauty",
          "Health and beauty",
          "Health and beauty",
          "Health and beauty",
          "Health and beauty",
          "Health and beauty",
          "Health and beauty",
          "Health and beauty",
          "Health and beauty",
          "Health and beauty",
          "Health and beauty",
          "Health and beauty",
          "Health and beauty",
          "Health and beauty",
          "Health and beauty",
          "Health and beauty",
          "Health and beauty",
          "Health and beauty",
          "Health and beauty",
          "Health and beauty",
          "Health and beauty",
          "Health and beauty",
          "Health and beauty",
          "Health and beauty"
         ],
         "xaxis": "x",
         "y": {
          "bdata": "g8DKocUngUBU46WbxJB+QNNNYhBYCVNAUrgehetrh0C6SQwCK6p/QNV46SYxUnFA2/l+arxmbUAZBFYOLVppQGiR7Xw/1XxA+n5qvHQjQEAlBoGVw72AQIXrUbgehYdAfT81Xrrhc0C4HoXrUdRkQO58PzVeklFAyXa+nxo/M0BI4XoUrr9aQBkEVg4th4NAO99PjZdQfkBWDi2ynQGDQDMzMzMzj1dArkfhehTVjEC4HoXrUeJrQBBYObTIVXNA7FG4HoUBgEAAAAAAALKNQGZmZmZmgoZAXrpJDAI3ckD4U+Olm1xxQLTIdr6fCnFARrbz/dS1jEDFILByaFl2QKRwPQrX+HZAH4XrUbgWcUAlBoGVQwNyQOF6FK5H8VZAmpmZmZnJZUAzMzMzM/9wQIPAyqFFNGtAHVpkO198hEBiEFg5NNWIQClcj8L1CoFA9ihcj8LZVkAMAiuHFmFfQJMYBFYOLUZAqvHSTWKhg0DfT42XbqeDQAIrhxbZBmlAhetRuB7hdUApXI/C9cRnQG3n+6nxekRAuB6F61FeYkCq8dJNYkJrQF66SQwCI2dANV66SQyyREBGtvP91AhYQB1aZDvf12pAUI2XbhK2eUAfhetRuKmBQAAAAAAAuGFA9ihcj8I1dUBKDAIrh+5UQAAAAAAAbnlAAiuHFtkqcEDhehSuR3N2QFK4HoXrhVtAO99PjZc6WUC28/3UeGVVQO58PzVeCl5AbxKDwMpseEDsUbgehRs0QCPb+X5qbDxAAAAAAABAOkCkcD0K1xBxQGIQWDm0DINAoBov3SSqaUC8dJMYBJZqQI/C9ShcHHRACtejcD0AckC+nxov3YBgQKabxCCwBmRAQmDl0CLrU0Bt5/up8TKBQG3n+6nx3nBAUI2XbhI/YkBqvHSTGGR0QOf7qfHSJWtAuB6F61EwU0BOYhBYOVJyQIGVQ4tsV0dAH4XrUbgYi0AUrkfhes+FQNejcD0KmWpAukkMAiule0DP91Pjpfl1QHWTGARW3lJAukkMAivJckB9PzVeuudsQPCnxks3qXFAzczMzMxXg0CkcD0K1+l/QHnpJjGIw4dAf2q8dBN8gEAK16NwPVxgQArXo3A9amdAzczMzMzsbUDNzMzMzAxmQM3MzMzM44pA5/up8VKogkBI4XoUrg9MQDMzMzMzI21ALbKd7ye5g0D6fmq8dAB+QKRwPQrX42ZA7FG4HoWrSkDhehSuR9lMQEw3iUFgz2dAw/UoXI/+cUCJQWDl0FpYQDMzMzMzozJAMzMzMzOTVkDLoUW28z15QIcW2c73DWtAvHSTGIRLhUBiEFg5tGxwQI/C9Shc91dAoBov3SRveEDNzMzMzHt/QFCNl24SrXZAarx0kxigWkAv3SQGgX1gQD0K16Nwc3tAZDvfT40HikDhehSuR6mDQHE9CtejMmJAke18PzWeXkAK16NwPcOLQFK4HoXrMXtABoGVQ4tmd0ArhxbZzm99QKwcWmS7HoJAdZMYBFYhckCPwvUoXKpwQBKDwMqhhVJAYOXQItttX0DD9Shcj+JIQI/C9Shch25Az/dT46X1hkDl0CLb+f4+QGZmZmZmRoBAvp8aL93Ig0DXo3A9Ci9FQA==",
          "dtype": "f8"
         },
         "yaxis": "y"
        },
        {
         "hovertemplate": "Product line=%{x}<br>Sales=%{y}<extra></extra>",
         "legendgroup": "Electronic accessories",
         "marker": {
          "color": "#EF553B",
          "pattern": {
           "shape": ""
          }
         },
         "name": "Electronic accessories",
         "orientation": "v",
         "showlegend": true,
         "textposition": "auto",
         "type": "bar",
         "x": [
          "Electronic accessories",
          "Electronic accessories",
          "Electronic accessories",
          "Electronic accessories",
          "Electronic accessories",
          "Electronic accessories",
          "Electronic accessories",
          "Electronic accessories",
          "Electronic accessories",
          "Electronic accessories",
          "Electronic accessories",
          "Electronic accessories",
          "Electronic accessories",
          "Electronic accessories",
          "Electronic accessories",
          "Electronic accessories",
          "Electronic accessories",
          "Electronic accessories",
          "Electronic accessories",
          "Electronic accessories",
          "Electronic accessories",
          "Electronic accessories",
          "Electronic accessories",
          "Electronic accessories",
          "Electronic accessories",
          "Electronic accessories",
          "Electronic accessories",
          "Electronic accessories",
          "Electronic accessories",
          "Electronic accessories",
          "Electronic accessories",
          "Electronic accessories",
          "Electronic accessories",
          "Electronic accessories",
          "Electronic accessories",
          "Electronic accessories",
          "Electronic accessories",
          "Electronic accessories",
          "Electronic accessories",
          "Electronic accessories",
          "Electronic accessories",
          "Electronic accessories",
          "Electronic accessories",
          "Electronic accessories",
          "Electronic accessories",
          "Electronic accessories",
          "Electronic accessories",
          "Electronic accessories",
          "Electronic accessories",
          "Electronic accessories",
          "Electronic accessories",
          "Electronic accessories",
          "Electronic accessories",
          "Electronic accessories",
          "Electronic accessories",
          "Electronic accessories",
          "Electronic accessories",
          "Electronic accessories",
          "Electronic accessories",
          "Electronic accessories",
          "Electronic accessories",
          "Electronic accessories",
          "Electronic accessories",
          "Electronic accessories",
          "Electronic accessories",
          "Electronic accessories",
          "Electronic accessories",
          "Electronic accessories",
          "Electronic accessories",
          "Electronic accessories",
          "Electronic accessories",
          "Electronic accessories",
          "Electronic accessories",
          "Electronic accessories",
          "Electronic accessories",
          "Electronic accessories",
          "Electronic accessories",
          "Electronic accessories",
          "Electronic accessories",
          "Electronic accessories",
          "Electronic accessories",
          "Electronic accessories",
          "Electronic accessories",
          "Electronic accessories",
          "Electronic accessories",
          "Electronic accessories",
          "Electronic accessories",
          "Electronic accessories",
          "Electronic accessories",
          "Electronic accessories",
          "Electronic accessories",
          "Electronic accessories",
          "Electronic accessories",
          "Electronic accessories",
          "Electronic accessories",
          "Electronic accessories",
          "Electronic accessories",
          "Electronic accessories",
          "Electronic accessories",
          "Electronic accessories",
          "Electronic accessories",
          "Electronic accessories",
          "Electronic accessories",
          "Electronic accessories",
          "Electronic accessories",
          "Electronic accessories",
          "Electronic accessories",
          "Electronic accessories",
          "Electronic accessories",
          "Electronic accessories",
          "Electronic accessories",
          "Electronic accessories",
          "Electronic accessories",
          "Electronic accessories",
          "Electronic accessories",
          "Electronic accessories",
          "Electronic accessories",
          "Electronic accessories",
          "Electronic accessories",
          "Electronic accessories",
          "Electronic accessories",
          "Electronic accessories",
          "Electronic accessories",
          "Electronic accessories",
          "Electronic accessories",
          "Electronic accessories",
          "Electronic accessories",
          "Electronic accessories",
          "Electronic accessories",
          "Electronic accessories",
          "Electronic accessories",
          "Electronic accessories",
          "Electronic accessories",
          "Electronic accessories",
          "Electronic accessories",
          "Electronic accessories",
          "Electronic accessories",
          "Electronic accessories",
          "Electronic accessories",
          "Electronic accessories",
          "Electronic accessories",
          "Electronic accessories",
          "Electronic accessories",
          "Electronic accessories",
          "Electronic accessories",
          "Electronic accessories",
          "Electronic accessories",
          "Electronic accessories",
          "Electronic accessories",
          "Electronic accessories",
          "Electronic accessories",
          "Electronic accessories",
          "Electronic accessories",
          "Electronic accessories",
          "Electronic accessories",
          "Electronic accessories",
          "Electronic accessories",
          "Electronic accessories",
          "Electronic accessories",
          "Electronic accessories",
          "Electronic accessories",
          "Electronic accessories",
          "Electronic accessories",
          "Electronic accessories",
          "Electronic accessories",
          "Electronic accessories",
          "Electronic accessories",
          "Electronic accessories",
          "Electronic accessories",
          "Electronic accessories"
         ],
         "xaxis": "x",
         "y": {
          "bdata": "rkfhehQOVEDfT42X7pyDQFCNl24SG3tADAIrhxbJWkCamZmZmc9uQI/C9ShcO3xArkfhehSuZkBKDAIrh/qBQCcxCKwcqnhAf2q8dJPQXUBg5dAi25GGQOXQItv5GmhAfT81XrrjfUAzMzMzM1V7QP7UeOkmgVlApHA9CtebU0DufD81XkBrQOF6FK5HGI1AFK5H4XrlikDfT42XbiKKQBSuR+F6N4FArkfhehREYUDn+6nx0vFSQBSuR+F65GVAWmQ730/TdEDhehSuR3dlQC2yne+nLm5AiUFg5dA1fEAK16Nwva6DQAwCK4eWc41Ay6FFtvP7bkBg5dAi26FyQOF6FK5H23FAuB6F61EAT0C+nxov3XRjQOF6FK5H24FA2c73U+OtQEBSuB6F61lRQMP1KFyPBnBAEFg5tMhmdEAfhetRuGpRQGZmZmZm7mBAukkMAitPcUCoxks3iSqGQGZmZmZmcnpAuB6F61GWaUAtsp3vp2ZQQOF6FK5HCXFA1XjpJjFIXkAOLbKd799qQNEi2/l+al9Aj8L1KFyVgEDufD81XtpUQFK4HoXroolAj8L1KFyKeEAQWDm0yBZjQJqZmZmZq2JAhetRuB7DYkC28/3UeO9iQNejcD0K41JAlkOLbOfnZ0A5tMh2vr53QI2XbhKDwD9AAAAAAACoVUDdJAaBlU9+QJqZmZmZZWlAMQisHFogaECF61G4HtVYQFTjpZvE8EtA/Knx0k0qVEAZBFYOLbpmQDm0yHa+K2dAhetRuB6McECoxks3iXliQN0kBoGVc3VAVOOlm8RqfUDwp8ZLN1VhQOXQItv5zlVA9ihcj8IMikD2KFyPwo9+QDVeukkM8llAKVyPwvUkdUAv3SQGgRF2QKRwPQrXQ0RAZmZmZmaGdUCq8dJNYphgQN0kBoGVY2lA16NwPYrdhkAhsHJokf9hQDMzMzMzH25A8tJNYhCQXUACK4cW2QJ6QKjGSzeJfWFA8tJNYhDAYUBvEoPAyn1pQGiR7Xw/RXZA+FPjpZtWfUDl0CLb+c5VQJzEILByaD5APQrXo3DYfEDP91PjpdVuQOF6FK5HQUhAw/UoXI8+h0A1XrpJDDpdQJqZmZmZoU9AuB6F61E8cEA9CtejcNN4QJHtfD81tkhAukkMAisrWkBxPQrXo9h9QCcxCKwcukRAaJHtfD+MhEAzMzMzM5NmQBfZzvfT7IZAke18PzXOQkA5tMh2vm2BQKRwPQrXR4NARrbz/dQIiECF61G4Ht1mQPp+arx0w3JAUrgeheuqh0BeukkMAht5QLbz/dT48olA/Knx0k0hgUBeukkMAt+CQHsUrkfhRIVAqvHSTWJ4WED2KFyPwrVvQMl2vp+aUoZA9P3UeOleakBI4XoUrmt6QK5H4XoU+lhASgwCK4eGeUAj2/l+asRrQM3MzMzMT4VAFK5H4XpaiECTGARWDi1WQK5H4XoUVYJAuB6F61GoT0CNl24Sg3ZyQFCNl24SO1NAj8L1KFxSgUDpJjEIrFZvQBSuR+F6IGxAZmZmZmbeREDTTWIQWKGHQClcj8L1aFlAFK5H4XobiEDJdr6fGmd+QKRwPQrXn2JAj8L1KFzdc0ArhxbZznt6QB1aZDvfd21AEFg5tMjya0C8dJMYBK5UQOOlm8Qg8ExAMzMzM7MPikCgGi/dJJCFQJqZmZmZHWZAiUFg5dAeckCsHFpkO+9FQH0/NV66D3NAc2iR7XwXVEC4HoXrUaJmQPyp8dJNAIRAKVyPwvW4OkCTGARWjiKGQMP1KFyPBItArBxaZDt3XkBI4XoUrv9PQA==",
          "dtype": "f8"
         },
         "yaxis": "y"
        },
        {
         "hovertemplate": "Product line=%{x}<br>Sales=%{y}<extra></extra>",
         "legendgroup": "Home and lifestyle",
         "marker": {
          "color": "#00cc96",
          "pattern": {
           "shape": ""
          }
         },
         "name": "Home and lifestyle",
         "orientation": "v",
         "showlegend": true,
         "textposition": "auto",
         "type": "bar",
         "x": [
          "Home and lifestyle",
          "Home and lifestyle",
          "Home and lifestyle",
          "Home and lifestyle",
          "Home and lifestyle",
          "Home and lifestyle",
          "Home and lifestyle",
          "Home and lifestyle",
          "Home and lifestyle",
          "Home and lifestyle",
          "Home and lifestyle",
          "Home and lifestyle",
          "Home and lifestyle",
          "Home and lifestyle",
          "Home and lifestyle",
          "Home and lifestyle",
          "Home and lifestyle",
          "Home and lifestyle",
          "Home and lifestyle",
          "Home and lifestyle",
          "Home and lifestyle",
          "Home and lifestyle",
          "Home and lifestyle",
          "Home and lifestyle",
          "Home and lifestyle",
          "Home and lifestyle",
          "Home and lifestyle",
          "Home and lifestyle",
          "Home and lifestyle",
          "Home and lifestyle",
          "Home and lifestyle",
          "Home and lifestyle",
          "Home and lifestyle",
          "Home and lifestyle",
          "Home and lifestyle",
          "Home and lifestyle",
          "Home and lifestyle",
          "Home and lifestyle",
          "Home and lifestyle",
          "Home and lifestyle",
          "Home and lifestyle",
          "Home and lifestyle",
          "Home and lifestyle",
          "Home and lifestyle",
          "Home and lifestyle",
          "Home and lifestyle",
          "Home and lifestyle",
          "Home and lifestyle",
          "Home and lifestyle",
          "Home and lifestyle",
          "Home and lifestyle",
          "Home and lifestyle",
          "Home and lifestyle",
          "Home and lifestyle",
          "Home and lifestyle",
          "Home and lifestyle",
          "Home and lifestyle",
          "Home and lifestyle",
          "Home and lifestyle",
          "Home and lifestyle",
          "Home and lifestyle",
          "Home and lifestyle",
          "Home and lifestyle",
          "Home and lifestyle",
          "Home and lifestyle",
          "Home and lifestyle",
          "Home and lifestyle",
          "Home and lifestyle",
          "Home and lifestyle",
          "Home and lifestyle",
          "Home and lifestyle",
          "Home and lifestyle",
          "Home and lifestyle",
          "Home and lifestyle",
          "Home and lifestyle",
          "Home and lifestyle",
          "Home and lifestyle",
          "Home and lifestyle",
          "Home and lifestyle",
          "Home and lifestyle",
          "Home and lifestyle",
          "Home and lifestyle",
          "Home and lifestyle",
          "Home and lifestyle",
          "Home and lifestyle",
          "Home and lifestyle",
          "Home and lifestyle",
          "Home and lifestyle",
          "Home and lifestyle",
          "Home and lifestyle",
          "Home and lifestyle",
          "Home and lifestyle",
          "Home and lifestyle",
          "Home and lifestyle",
          "Home and lifestyle",
          "Home and lifestyle",
          "Home and lifestyle",
          "Home and lifestyle",
          "Home and lifestyle",
          "Home and lifestyle",
          "Home and lifestyle",
          "Home and lifestyle",
          "Home and lifestyle",
          "Home and lifestyle",
          "Home and lifestyle",
          "Home and lifestyle",
          "Home and lifestyle",
          "Home and lifestyle",
          "Home and lifestyle",
          "Home and lifestyle",
          "Home and lifestyle",
          "Home and lifestyle",
          "Home and lifestyle",
          "Home and lifestyle",
          "Home and lifestyle",
          "Home and lifestyle",
          "Home and lifestyle",
          "Home and lifestyle",
          "Home and lifestyle",
          "Home and lifestyle",
          "Home and lifestyle",
          "Home and lifestyle",
          "Home and lifestyle",
          "Home and lifestyle",
          "Home and lifestyle",
          "Home and lifestyle",
          "Home and lifestyle",
          "Home and lifestyle",
          "Home and lifestyle",
          "Home and lifestyle",
          "Home and lifestyle",
          "Home and lifestyle",
          "Home and lifestyle",
          "Home and lifestyle",
          "Home and lifestyle",
          "Home and lifestyle",
          "Home and lifestyle",
          "Home and lifestyle",
          "Home and lifestyle",
          "Home and lifestyle",
          "Home and lifestyle",
          "Home and lifestyle",
          "Home and lifestyle",
          "Home and lifestyle",
          "Home and lifestyle",
          "Home and lifestyle",
          "Home and lifestyle",
          "Home and lifestyle",
          "Home and lifestyle",
          "Home and lifestyle",
          "Home and lifestyle",
          "Home and lifestyle",
          "Home and lifestyle",
          "Home and lifestyle",
          "Home and lifestyle",
          "Home and lifestyle",
          "Home and lifestyle",
          "Home and lifestyle",
          "Home and lifestyle",
          "Home and lifestyle"
         ],
         "xaxis": "x",
         "y": {
          "bdata": "xSCwcmhIdUDXo3A9CiOIQLgehetRKFVArkfhehRuUUBqvHSTGJx7QMdLN4lBoG9A3SQGgZXDVkB3vp8aL3VdQCuHFtnO90BAnu+nxktHV0BmZmZmZr2HQN0kBoGV8XVAZDvfTw0NhkAdWmQ7399oQK5H4XoUSIBAO99PjRcmgUBOYhBYuduHQHWTGARWDlxAmG4Sg8DGgEC28/3U+ISFQFCNl24SG2tAj8L1KFyxfkCiRbbz/dyCQOxRuB6Ff3BAH4XrUbhcj0D4U+Olm/xzQH0/NV66zYhAIbByaJFlaEAv3SQGgXFTQKwcWmQ7U3JAEoPAyqFVbkCkcD0K19NaQMuhRbbzjTpAH4XrUbhSV0DXo3A9CrlyQArXo3A9Tn5Ai2zn+6kxM0Dn+6nx0qWAQK5H4XoUcnBA8tJNYhCkiEBqvHSTGPx4QAAAAAAA8FhAXI/C9SjsfkD6fmq8dGdkQLpJDAIrn2JAfT81XrqRckAfhetRuFJ3QARWDi2ycWlAF9nO91NDOUDsUbgehaNsQFpkO99PXYJAzczMzMxsQ0A730+Nl6ZTQG3n+6nxyoVAYhBYObTcfkDTTWIQWIFvQDvfT42XQldAppvEILBOh0DfT42XbvJgQAIrhxbZAmpAmpmZmZlth0DNzMzMzORvQH9qvHST1HxAukkMAitPcUAMAiuHFpt7QMP1KFyPA3ZA+n5qvHTldEBWDi2ynQ1gQIcW2c73Q2hAz/dT46VbLUASg8DKoa1tQKJFtvP9vHpAUI2XbhLTZ0CamZmZmb6NQKrx0k1ixGpAsp3vp0ZYikBeukkMAn6AQFK4HoXrz4NAz/dT46UbOED4U+Olm/CGQHE9Ctej0F9ASOF6FK43YkDXo3A9Ch9ZQHsUrkfhKGxA7FG4HoXZaUDByqFFtjtSQFTjpZvEX4BAlkOLbOd7bUD2KFyPwpViQCGwcmiRoV5AIbByaJG1WUAMAiuHFilYQPLSTWIQYGRAhxbZzveDXUAOLbKd74NsQI/C9Shc63pAaJHtfD9FZkAv3SQGgXViQDMzMzMzq2BACKwcWuS5hUBxPQrXo/xkQHsUrkfhoHNAWDm0yHbeZkDsUbgeheGHQNejcD0Kx1lA16NwPQrbhECuR+F6FKt8QLpJDAIrU3BAAAAAAAD+j0AQWDm0SBqKQFYOLbKd03NAnu+nxktfYUD6fmq8dOFlQO58PzVe+HdAw/UoXI+mgkBMN4lBYL+LQNv5fmq8i3lAqMZLN4nJU0Bcj8L1KKRLQKJFtvP9CF1A7FG4HoULeED4U+OlmwCDQPT91HjpDolAf2q8dJMAUkBt5/up8Rp3QK5H4XoU849AsHJoke30T0ApXI/C9XF8QESLbOf7VXRA1XjpJjEIWUACK4cW2bVyQH0/NV66uV1A001iEFilVkCgGi/dJKZaQEa28/3UdXdAMQisHFp0WEC28/3UeCGBQFCNl24SG2tA7nw/NV4iaEBCYOXQIpN0QKRwPQrXFIBAi2zn+6lxiEAZBFYOLShrQJzEILByI3VAqvHSTWLIWUDP91Pjpbs6QIcW2c73q4NA7FG4HoXdeEA/NV66SeBwQArXo3A9+n1ArkfhehSAZ0DXo3A9Cj9RQH0/NV6683lAzczMzMy8ZEApXI/C9apzQCuHFtnO5W9AVg4tsp30cEDy0k1iEIhvQFK4HoXr849AyXa+nxpHUUA=",
          "dtype": "f8"
         },
         "yaxis": "y"
        },
        {
         "hovertemplate": "Product line=%{x}<br>Sales=%{y}<extra></extra>",
         "legendgroup": "Sports and travel",
         "marker": {
          "color": "#ab63fa",
          "pattern": {
           "shape": ""
          }
         },
         "name": "Sports and travel",
         "orientation": "v",
         "showlegend": true,
         "textposition": "auto",
         "type": "bar",
         "x": [
          "Sports and travel",
          "Sports and travel",
          "Sports and travel",
          "Sports and travel",
          "Sports and travel",
          "Sports and travel",
          "Sports and travel",
          "Sports and travel",
          "Sports and travel",
          "Sports and travel",
          "Sports and travel",
          "Sports and travel",
          "Sports and travel",
          "Sports and travel",
          "Sports and travel",
          "Sports and travel",
          "Sports and travel",
          "Sports and travel",
          "Sports and travel",
          "Sports and travel",
          "Sports and travel",
          "Sports and travel",
          "Sports and travel",
          "Sports and travel",
          "Sports and travel",
          "Sports and travel",
          "Sports and travel",
          "Sports and travel",
          "Sports and travel",
          "Sports and travel",
          "Sports and travel",
          "Sports and travel",
          "Sports and travel",
          "Sports and travel",
          "Sports and travel",
          "Sports and travel",
          "Sports and travel",
          "Sports and travel",
          "Sports and travel",
          "Sports and travel",
          "Sports and travel",
          "Sports and travel",
          "Sports and travel",
          "Sports and travel",
          "Sports and travel",
          "Sports and travel",
          "Sports and travel",
          "Sports and travel",
          "Sports and travel",
          "Sports and travel",
          "Sports and travel",
          "Sports and travel",
          "Sports and travel",
          "Sports and travel",
          "Sports and travel",
          "Sports and travel",
          "Sports and travel",
          "Sports and travel",
          "Sports and travel",
          "Sports and travel",
          "Sports and travel",
          "Sports and travel",
          "Sports and travel",
          "Sports and travel",
          "Sports and travel",
          "Sports and travel",
          "Sports and travel",
          "Sports and travel",
          "Sports and travel",
          "Sports and travel",
          "Sports and travel",
          "Sports and travel",
          "Sports and travel",
          "Sports and travel",
          "Sports and travel",
          "Sports and travel",
          "Sports and travel",
          "Sports and travel",
          "Sports and travel",
          "Sports and travel",
          "Sports and travel",
          "Sports and travel",
          "Sports and travel",
          "Sports and travel",
          "Sports and travel",
          "Sports and travel",
          "Sports and travel",
          "Sports and travel",
          "Sports and travel",
          "Sports and travel",
          "Sports and travel",
          "Sports and travel",
          "Sports and travel",
          "Sports and travel",
          "Sports and travel",
          "Sports and travel",
          "Sports and travel",
          "Sports and travel",
          "Sports and travel",
          "Sports and travel",
          "Sports and travel",
          "Sports and travel",
          "Sports and travel",
          "Sports and travel",
          "Sports and travel",
          "Sports and travel",
          "Sports and travel",
          "Sports and travel",
          "Sports and travel",
          "Sports and travel",
          "Sports and travel",
          "Sports and travel",
          "Sports and travel",
          "Sports and travel",
          "Sports and travel",
          "Sports and travel",
          "Sports and travel",
          "Sports and travel",
          "Sports and travel",
          "Sports and travel",
          "Sports and travel",
          "Sports and travel",
          "Sports and travel",
          "Sports and travel",
          "Sports and travel",
          "Sports and travel",
          "Sports and travel",
          "Sports and travel",
          "Sports and travel",
          "Sports and travel",
          "Sports and travel",
          "Sports and travel",
          "Sports and travel",
          "Sports and travel",
          "Sports and travel",
          "Sports and travel",
          "Sports and travel",
          "Sports and travel",
          "Sports and travel",
          "Sports and travel",
          "Sports and travel",
          "Sports and travel",
          "Sports and travel",
          "Sports and travel",
          "Sports and travel",
          "Sports and travel",
          "Sports and travel",
          "Sports and travel",
          "Sports and travel",
          "Sports and travel",
          "Sports and travel",
          "Sports and travel",
          "Sports and travel",
          "Sports and travel",
          "Sports and travel",
          "Sports and travel",
          "Sports and travel",
          "Sports and travel",
          "Sports and travel",
          "Sports and travel",
          "Sports and travel",
          "Sports and travel",
          "Sports and travel",
          "Sports and travel",
          "Sports and travel",
          "Sports and travel"
         ],
         "xaxis": "x",
         "y": {
          "bdata": "SgwCKwfTg0BzaJHtfHOCQAwCK4cWl3xAy6FFtvNycUA730+NFw6HQLx0kxgE/oVAi2zn+6nhUUCuR+F6FIx0QJ7vp8ZLN3tA3SQGgZV7U0BvEoPASkOAQFyPwvUowGRASOF6FK7YiUA9CtejcAxwQLByaJHtE4NAhxbZzvdLRkAUrkfhenB9QARWDi2yMWRAYhBYObR2eECNl24Sg1BBQFpkO99PPXpA5dAi2/mEjUAAAAAAACplQLpJDAIrqYpAMQisHFojgkDRItv5fkpiQD0K16NwCIFAAAAAAAAIg0AzMzMzM3eNQI2XbhKDwG9Ad76fGi9BhUBg5dAi22KCQIcW2c73t1BArkfhehQOZEBkO99Pje9/QAAAAAAAWGRA2/l+arysVkDhehSuRyleQEJg5dAiR2JAg8DKoUU0a0CPwvUoXEFgQP7UeOkm4WZAXrpJDAJzaEDy0k1iEDg+QHE9CtejMG1ArkfhehSWTEBSuB6F65mGQIXrUbgeIHZAj8L1KFzjfEAIrBxaZBswQAAAAAAADmxANV66SQx7ckBt5/up8Xh/QOOlm8QgqHlAMzMzMzNLU0CPwvUoXNF2QB+F61G4lGFAKVyPwvVQj0BEi2zn+61TQClcj8L12GJAWmQ738/uhUB/arx0k5x1QMl2vp8a51NApHA9CtclgUAdWmQ736dxQC2yne+n9kZA001iEFhZVEBI4XoUrhJ2QAaBlUOLTo1AN4lBYOXEdUDRItv5fjaHQLgehetRjGFAfT81XrqJREA9CtejcGlzQDMzMzMz5oFArBxaZDsnbUAfhetRuAZlQEjhehSu02VAXI/C9SiOdkDsUbgehV9oQHE9CtejRHhA+n5qvHT7aUDn+6nx0u2DQHWTGARWwllAPzVeukkMe0AQWDm0yGpTQN9PjZdufmhApHA9Ctc3V0DNzMzMzBhjQI2XbhKD14RAi2zn+6nSekDhehSuR5l3QD0K16Nw/n1AyXa+n5r3jECq8dJNYjBVQLgehevR/4FAj8L1KFzpcEAfhetRuC+AQBsv3SQG/oBAw/UoXI+AcUA9CtejcDB8QJzEILBy1GhArkfhehRCbEDLoUW28+1HQFyPwvUonG1AH4XrUbgOc0CiRbbz/Y57QPhT46WbdnVA0SLb+X4+VUBYObTIdt52QK5H4XoUlnxAsHJoke30X0ApXI/C9Q+FQMHKoUW2Q0BAEFg5tMgKdkAK16NwPVRiQEw3iUFg62BALbKd76d+X0CPwvUoXO9pQBfZzvdTU1VAK4cW2c5vfUBYObTIdkZCQLByaJHtLGJAf2q8dJMEYUCoxks3iSFjQL6fGi9duoRAMQisHFpkXECF61G4Hj1UQOOlm8Sgw4pAXI/C9SjihkCoxks3ic1iQJzEILByoHBAK4cW2c6PVUA/NV66SRR5QLTIdr6fO39AQmDl0CKDWEAAAAAAAJJgQB1aZDvf33hAiUFg5dAPe0C4HoXrURJwQIlBYOXQHmJABFYOLbJ1aEAUrkfhelF1QAisHFpkWyVAxSCwcmiZe0A/NV66SRxXQMP1KFyP4lhAYhBYObSScUCYbhKDwAJnQFTjpZvEuFRAObTIdr5/N0Cyne+nxss6QFYOLbKdw4dAnMQgsHL0cEC0yHa+n4iBQLgehetR/nRAke18PzXwdEDhehSuRz2JQNejcD0Kf0ZAEoPAyqEYg0AxCKwcWrxrQN9PjZduLldAF9nO91OTSkC4HoXrUVx9QHNoke18yYxAZmZmZmYiiUA=",
          "dtype": "f8"
         },
         "yaxis": "y"
        },
        {
         "hovertemplate": "Product line=%{x}<br>Sales=%{y}<extra></extra>",
         "legendgroup": "Food and beverages",
         "marker": {
          "color": "#FFA15A",
          "pattern": {
           "shape": ""
          }
         },
         "name": "Food and beverages",
         "orientation": "v",
         "showlegend": true,
         "textposition": "auto",
         "type": "bar",
         "x": [
          "Food and beverages",
          "Food and beverages",
          "Food and beverages",
          "Food and beverages",
          "Food and beverages",
          "Food and beverages",
          "Food and beverages",
          "Food and beverages",
          "Food and beverages",
          "Food and beverages",
          "Food and beverages",
          "Food and beverages",
          "Food and beverages",
          "Food and beverages",
          "Food and beverages",
          "Food and beverages",
          "Food and beverages",
          "Food and beverages",
          "Food and beverages",
          "Food and beverages",
          "Food and beverages",
          "Food and beverages",
          "Food and beverages",
          "Food and beverages",
          "Food and beverages",
          "Food and beverages",
          "Food and beverages",
          "Food and beverages",
          "Food and beverages",
          "Food and beverages",
          "Food and beverages",
          "Food and beverages",
          "Food and beverages",
          "Food and beverages",
          "Food and beverages",
          "Food and beverages",
          "Food and beverages",
          "Food and beverages",
          "Food and beverages",
          "Food and beverages",
          "Food and beverages",
          "Food and beverages",
          "Food and beverages",
          "Food and beverages",
          "Food and beverages",
          "Food and beverages",
          "Food and beverages",
          "Food and beverages",
          "Food and beverages",
          "Food and beverages",
          "Food and beverages",
          "Food and beverages",
          "Food and beverages",
          "Food and beverages",
          "Food and beverages",
          "Food and beverages",
          "Food and beverages",
          "Food and beverages",
          "Food and beverages",
          "Food and beverages",
          "Food and beverages",
          "Food and beverages",
          "Food and beverages",
          "Food and beverages",
          "Food and beverages",
          "Food and beverages",
          "Food and beverages",
          "Food and beverages",
          "Food and beverages",
          "Food and beverages",
          "Food and beverages",
          "Food and beverages",
          "Food and beverages",
          "Food and beverages",
          "Food and beverages",
          "Food and beverages",
          "Food and beverages",
          "Food and beverages",
          "Food and beverages",
          "Food and beverages",
          "Food and beverages",
          "Food and beverages",
          "Food and beverages",
          "Food and beverages",
          "Food and beverages",
          "Food and beverages",
          "Food and beverages",
          "Food and beverages",
          "Food and beverages",
          "Food and beverages",
          "Food and beverages",
          "Food and beverages",
          "Food and beverages",
          "Food and beverages",
          "Food and beverages",
          "Food and beverages",
          "Food and beverages",
          "Food and beverages",
          "Food and beverages",
          "Food and beverages",
          "Food and beverages",
          "Food and beverages",
          "Food and beverages",
          "Food and beverages",
          "Food and beverages",
          "Food and beverages",
          "Food and beverages",
          "Food and beverages",
          "Food and beverages",
          "Food and beverages",
          "Food and beverages",
          "Food and beverages",
          "Food and beverages",
          "Food and beverages",
          "Food and beverages",
          "Food and beverages",
          "Food and beverages",
          "Food and beverages",
          "Food and beverages",
          "Food and beverages",
          "Food and beverages",
          "Food and beverages",
          "Food and beverages",
          "Food and beverages",
          "Food and beverages",
          "Food and beverages",
          "Food and beverages",
          "Food and beverages",
          "Food and beverages",
          "Food and beverages",
          "Food and beverages",
          "Food and beverages",
          "Food and beverages",
          "Food and beverages",
          "Food and beverages",
          "Food and beverages",
          "Food and beverages",
          "Food and beverages",
          "Food and beverages",
          "Food and beverages",
          "Food and beverages",
          "Food and beverages",
          "Food and beverages",
          "Food and beverages",
          "Food and beverages",
          "Food and beverages",
          "Food and beverages",
          "Food and beverages",
          "Food and beverages",
          "Food and beverages",
          "Food and beverages",
          "Food and beverages",
          "Food and beverages",
          "Food and beverages",
          "Food and beverages",
          "Food and beverages",
          "Food and beverages",
          "Food and beverages",
          "Food and beverages",
          "Food and beverages",
          "Food and beverages",
          "Food and beverages",
          "Food and beverages",
          "Food and beverages",
          "Food and beverages",
          "Food and beverages",
          "Food and beverages",
          "Food and beverages",
          "Food and beverages",
          "Food and beverages",
          "Food and beverages",
          "Food and beverages",
          "Food and beverages",
          "Food and beverages"
         ],
         "xaxis": "x",
         "y": {
          "bdata": "HVpkO9+XZUBSuB6F61d8QNv5fmq8hmVACtejcD3+fEAbL90kBhl6QHE9Ctej6IlAGy/dJAajZ0C4HoXrUf6EQIXrUbgeQ21AuB6F61FcjUCJQWDl0BpjQNejcD0KsolA6SYxCKwIc0BmZmZmZjZkQNV46SYxGHVADAIrhxavdkAzMzMzM8VkQPhT46Wb8HZAsp3vp8YRdECF61G4HsVcQNnO91Pj/YFAke18PzXuP0Db+X5qvPRZQI/C9ShcSH5ACKwcWmSrdkCWQ4ts5wh1QDMzMzMzL3pAGy/dJAYxdEAzMzMzM0R6QGQ730+Nx2RAnu+nxktHZ0DJdr6fGhd9QO58PzVeMnRAYOXQItt5TEBI4XoUru2JQPYoXI/CbHdA+n5qvHSKi0AdWmQ735NmQPhT46WbhHxAzczMzMy0VkBg5dAi23VtQLByaJHtx4BAj8L1KFx+e0BmZmZmZnqIQLKd76fGSHZAEFg5tMgWU0B3vp8aL4VJQOF6FK5HrVJAi2zn+6kVakB9PzVeuplQQHnpJjEIFmtA9ihcj8JegECDwMqhRb54QHE9Ctej6FlAgZVDi2ynSECq8dJNYkp5QOxRuB6F1n9Ake18PzVmd0CNl24Sg0CFQKrx0k1izIhA2c73U+MxakAtsp3vp6ZlQBSuR+H6WoBA+FPjpZuoc0BSuB6F691qQCPb+X5qanJA001iEFi9YEBI4XoUrs5xQAwCK4cWDW9APQrXo3AZUkD2KFyPwmVeQAisHFpkb1BAc2iR7Xy3VkAxCKwcWuRRQKRwPQrX41ZAexSuR+EmckAK16NwPd90QD0K16Nw24ZAVg4tsp3XQkCPwvUoXJdqQDMzMzMz+IdAx0s3iUHAN0DD9Shcj9hwQGIQWDm0qDZAd76fGi9RgUBqvHSTGMSBQIXrUbgejIBAd76fGi8WgEAK16NwPdaBQKAaL90kRGNAokW28/04gUBxPQrXo7BSQKRwPQrXKZBAF9nO91NncEDNzMzMzESNQHE9CtejpYpA/tR46SadUkD4U+OlmwBjQLgehetRqG9A2c73U+OtYEBkO99PjW9VQB1aZDvfm2RA9ihcj8KNZEDXo3A9CnOJQLKd76fGI2pAI9v5fmpkXkASg8DKITqNQM3MzMzMIYZA9P3UeOllg0DTTWIQWDlsQNV46SYxDFhA2/l+ary0ZEDTTWIQWP1lQLByaJHtdm9ASOF6FK4jV0C8dJMYBHNzQNNNYhBYCYNAZmZmZmaUjEDVeOkmMbxmQBSuR+F6hGhAd76fGi9Jc0DNzMzMzBhzQEjhehSua2pAYhBYObRIeUCF61G4HhF/QMHKoUW2c1lA+n5qvHQbUkDRItv5fr5/QP7UeOkm5HBAbxKDwMqBWECHFtnO9zNMQH9qvHSTRFZAz/dT46UrREDXo3A9CudhQJqZmZmZvWhAI9v5fmoUbUDNzMzMzFSJQGiR7Xw/hUtASOF6FK47YUAUrkfhevBiQIGVQ4ts73tAtvP91HjJcUB7FK5H4fJuQCcxCKwcOj9AfT81XrqFhUCTGARWDi1mQC2yne+nIXxAN4lBYOUkU0CLbOf7qc1mQOF6FK5Hy3VAnMQgsHLgZUB7FK5H4RJXQIlBYOXQnHJANV66SQyydEDByqFFti9VQAwCK4cW4WRAcT0K16P0VkCkcD0K15tzQClcj8L1bIhARrbz/dSOdkCgGi/dJHZxQKrx0k1iwGtA7FG4HoV/cEBkO99PjRdWQAwCK4cW0n1ABFYOLbIijUBkO99PjX9RQFK4HoXrxItA/tR46SaZc0DD9Shcj/JkQKAaL90kylFAN4lBYOVIb0DXo3A9Co9yQJ7vp8ZLt0BA",
          "dtype": "f8"
         },
         "yaxis": "y"
        },
        {
         "hovertemplate": "Product line=%{x}<br>Sales=%{y}<extra></extra>",
         "legendgroup": "Fashion accessories",
         "marker": {
          "color": "#19d3f3",
          "pattern": {
           "shape": ""
          }
         },
         "name": "Fashion accessories",
         "orientation": "v",
         "showlegend": true,
         "textposition": "auto",
         "type": "bar",
         "x": [
          "Fashion accessories",
          "Fashion accessories",
          "Fashion accessories",
          "Fashion accessories",
          "Fashion accessories",
          "Fashion accessories",
          "Fashion accessories",
          "Fashion accessories",
          "Fashion accessories",
          "Fashion accessories",
          "Fashion accessories",
          "Fashion accessories",
          "Fashion accessories",
          "Fashion accessories",
          "Fashion accessories",
          "Fashion accessories",
          "Fashion accessories",
          "Fashion accessories",
          "Fashion accessories",
          "Fashion accessories",
          "Fashion accessories",
          "Fashion accessories",
          "Fashion accessories",
          "Fashion accessories",
          "Fashion accessories",
          "Fashion accessories",
          "Fashion accessories",
          "Fashion accessories",
          "Fashion accessories",
          "Fashion accessories",
          "Fashion accessories",
          "Fashion accessories",
          "Fashion accessories",
          "Fashion accessories",
          "Fashion accessories",
          "Fashion accessories",
          "Fashion accessories",
          "Fashion accessories",
          "Fashion accessories",
          "Fashion accessories",
          "Fashion accessories",
          "Fashion accessories",
          "Fashion accessories",
          "Fashion accessories",
          "Fashion accessories",
          "Fashion accessories",
          "Fashion accessories",
          "Fashion accessories",
          "Fashion accessories",
          "Fashion accessories",
          "Fashion accessories",
          "Fashion accessories",
          "Fashion accessories",
          "Fashion accessories",
          "Fashion accessories",
          "Fashion accessories",
          "Fashion accessories",
          "Fashion accessories",
          "Fashion accessories",
          "Fashion accessories",
          "Fashion accessories",
          "Fashion accessories",
          "Fashion accessories",
          "Fashion accessories",
          "Fashion accessories",
          "Fashion accessories",
          "Fashion accessories",
          "Fashion accessories",
          "Fashion accessories",
          "Fashion accessories",
          "Fashion accessories",
          "Fashion accessories",
          "Fashion accessories",
          "Fashion accessories",
          "Fashion accessories",
          "Fashion accessories",
          "Fashion accessories",
          "Fashion accessories",
          "Fashion accessories",
          "Fashion accessories",
          "Fashion accessories",
          "Fashion accessories",
          "Fashion accessories",
          "Fashion accessories",
          "Fashion accessories",
          "Fashion accessories",
          "Fashion accessories",
          "Fashion accessories",
          "Fashion accessories",
          "Fashion accessories",
          "Fashion accessories",
          "Fashion accessories",
          "Fashion accessories",
          "Fashion accessories",
          "Fashion accessories",
          "Fashion accessories",
          "Fashion accessories",
          "Fashion accessories",
          "Fashion accessories",
          "Fashion accessories",
          "Fashion accessories",
          "Fashion accessories",
          "Fashion accessories",
          "Fashion accessories",
          "Fashion accessories",
          "Fashion accessories",
          "Fashion accessories",
          "Fashion accessories",
          "Fashion accessories",
          "Fashion accessories",
          "Fashion accessories",
          "Fashion accessories",
          "Fashion accessories",
          "Fashion accessories",
          "Fashion accessories",
          "Fashion accessories",
          "Fashion accessories",
          "Fashion accessories",
          "Fashion accessories",
          "Fashion accessories",
          "Fashion accessories",
          "Fashion accessories",
          "Fashion accessories",
          "Fashion accessories",
          "Fashion accessories",
          "Fashion accessories",
          "Fashion accessories",
          "Fashion accessories",
          "Fashion accessories",
          "Fashion accessories",
          "Fashion accessories",
          "Fashion accessories",
          "Fashion accessories",
          "Fashion accessories",
          "Fashion accessories",
          "Fashion accessories",
          "Fashion accessories",
          "Fashion accessories",
          "Fashion accessories",
          "Fashion accessories",
          "Fashion accessories",
          "Fashion accessories",
          "Fashion accessories",
          "Fashion accessories",
          "Fashion accessories",
          "Fashion accessories",
          "Fashion accessories",
          "Fashion accessories",
          "Fashion accessories",
          "Fashion accessories",
          "Fashion accessories",
          "Fashion accessories",
          "Fashion accessories",
          "Fashion accessories",
          "Fashion accessories",
          "Fashion accessories",
          "Fashion accessories",
          "Fashion accessories",
          "Fashion accessories",
          "Fashion accessories",
          "Fashion accessories",
          "Fashion accessories",
          "Fashion accessories",
          "Fashion accessories",
          "Fashion accessories",
          "Fashion accessories",
          "Fashion accessories",
          "Fashion accessories",
          "Fashion accessories",
          "Fashion accessories",
          "Fashion accessories",
          "Fashion accessories",
          "Fashion accessories",
          "Fashion accessories",
          "Fashion accessories",
          "Fashion accessories",
          "Fashion accessories",
          "Fashion accessories"
         ],
         "xaxis": "x",
         "y": {
          "bdata": "nMQgsHJoTkAMAiuHFplBQIGVQ4tsA2dAUrgehevifkBSuB6F6xyLQPp+arx0w1JA3SQGgZUzMEAGgZVDizeDQK5H4XoUYoRAAiuHFtn2fEAbL90kBqNnQEjhehSuG3lAtMh2vp+SSUB7FK5HYTKHQCuHFtnOj2VAokW28/26gECsHFpkO0dVQKRwPQrXy1xAEFg5tMj2SkAhsHJokaV9QH9qvHSTvXJAWmQ7308zckAMAiuHFsNxQOxRuB6Fx3NAc2iR7XwHeEBt5/up8ZSIQFyPwvUoPZBAMQisHFquZEDl0CLb+YR9QAaBlUOLTGNAPzVeukmAU0A730+Nl+pXQCUGgZVD54hAL90kBoFVKkDy0k1iEFxlQGIQWDm0YHNAKVyPwvUEbUC6SQwCK4tXQNejcD0Kd2hApHA9CteLV0BSuB6F6xd3QOOlm8QgIGFA9ihcj8JFUUDsUbgehRtkQIPAyqFFCXZATmIQWDkMeUBcj8L1KEuHQJZDi2znM2pAMQisHFqAZUDl0CLb+TJiQEjhehSuRHRASOF6FK5FeUCkcD0K14+GQF66SQyCA4dAmpmZmZlKkEBoke18PyR5QGZmZmZmpHhAN4lBYOVwdUCNl24SgwBgQIts5/upkXBAzczMzMy6f0CTGARWDnV5QKrx0k1i739AqvHSTWKwb0CamZmZmed4QAAAAAAAFmpAZDvfTw12hkBaZDvfTwlyQOxRuB6FQ19AcT0K16Plj0A3iUFg5bBqQPLSTWIQGDFArBxaZDv8d0AZBFYOLSJiQJhuEoPA8YVADi2yne/nSEBKDAIrh9YqQDvfT42XAmJArkfhehRmY0CkcD0K1018QIXrUbge93pAKVyPwvWAY0BI4XoUrjdSQPYoXI/CzWlA+FPjpZs4akCPwvUoXL9AQBfZzvdT73hAIbByaJEFS0Dn+6nx0pVkQHe+nxovbV9AN4lBYOXAhkAnMQisHGpTQClcj8L1LHNAw/UoXI9Oc0CJQWDl0IxmQHWTGATWCYBADAIrhxbpYkCamZmZmQ1qQG3n+6nxaYNAVOOlm8RXgkBKDAIrB62CQMdLN4lBaGhAlkOLbOf7UkAK16NwPY+DQM3MzMzMLmhAF9nO91MPUUAlBoGVQ9Z3QArXo3A9pXhARIts5/sRQEA/NV66SVpyQFTjpZvEHHFAAAAAAABRi0AfhetRuPpXQN0kBoGVYylADi2yne+jZEAdWmQ736dBQNV46SYxmG9A9ihcj8JacUAUrkfhehxNQAAAAAAAIndAHVpkO9+HaUCPwvUoXGOCQNNNYhBY/WVA+n5qvHRrc0Dn+6nx0o1GQDm0yHa+2oBAyXa+nxq3f0AfhetRuPJpQC2yne+nZmBAcT0K16PoiUACK4cW2WmAQPyp8dJN3mFADi2yne+HW0DByqFFtntnQB1aZDvfh3lAVg4tsp1vV0CPwvUoXK80QLgehetRZ4VAVg4tsp1vV0CcxCCwcrVwQNnO91PjiYlA2/l+arzEgEACK4cW2fJtQBfZzvdTE0BAL90kBoFdSEBEi2zn+4lMQPLSTWIQ9X5AmG4Sg8DqfECF61G4HmeEQDm0yHa+33RAGy/dJAZBYEAdWmQ7339LQB+F61G4SmlAZDvfT41zZECJQWDl0GI2QHE9CtejgoNA7FG4HoVzU0Bg5dAi29lpQFpkO99PkHVAmpmZmZmpTUCkcD0K13tLQFTjpZvEYFVA001iEFiZWUBcj8L1KFl+QBsv3SQG53tAarx0kxj0ekDn+6nx0tl4QIXrUbge4WVACKwcWmR6jUB56SYxCDxMQKwcWmQ7jnNAkxgEVg4lWEBmZmZmZkYwQA4tsp3vm2ZAaJHtfD81WkBxPQrXo+d0QHE9Ctej9GZACKwcWmRKhEA=",
          "dtype": "f8"
         },
         "yaxis": "y"
        }
       ],
       "layout": {
        "barmode": "relative",
        "legend": {
         "title": {
          "text": "Product line"
         },
         "tracegroupgap": 0
        },
        "template": {
         "data": {
          "bar": [
           {
            "error_x": {
             "color": "#2a3f5f"
            },
            "error_y": {
             "color": "#2a3f5f"
            },
            "marker": {
             "line": {
              "color": "#E5ECF6",
              "width": 0.5
             },
             "pattern": {
              "fillmode": "overlay",
              "size": 10,
              "solidity": 0.2
             }
            },
            "type": "bar"
           }
          ],
          "barpolar": [
           {
            "marker": {
             "line": {
              "color": "#E5ECF6",
              "width": 0.5
             },
             "pattern": {
              "fillmode": "overlay",
              "size": 10,
              "solidity": 0.2
             }
            },
            "type": "barpolar"
           }
          ],
          "carpet": [
           {
            "aaxis": {
             "endlinecolor": "#2a3f5f",
             "gridcolor": "white",
             "linecolor": "white",
             "minorgridcolor": "white",
             "startlinecolor": "#2a3f5f"
            },
            "baxis": {
             "endlinecolor": "#2a3f5f",
             "gridcolor": "white",
             "linecolor": "white",
             "minorgridcolor": "white",
             "startlinecolor": "#2a3f5f"
            },
            "type": "carpet"
           }
          ],
          "choropleth": [
           {
            "colorbar": {
             "outlinewidth": 0,
             "ticks": ""
            },
            "type": "choropleth"
           }
          ],
          "contour": [
           {
            "colorbar": {
             "outlinewidth": 0,
             "ticks": ""
            },
            "colorscale": [
             [
              0,
              "#0d0887"
             ],
             [
              0.1111111111111111,
              "#46039f"
             ],
             [
              0.2222222222222222,
              "#7201a8"
             ],
             [
              0.3333333333333333,
              "#9c179e"
             ],
             [
              0.4444444444444444,
              "#bd3786"
             ],
             [
              0.5555555555555556,
              "#d8576b"
             ],
             [
              0.6666666666666666,
              "#ed7953"
             ],
             [
              0.7777777777777778,
              "#fb9f3a"
             ],
             [
              0.8888888888888888,
              "#fdca26"
             ],
             [
              1,
              "#f0f921"
             ]
            ],
            "type": "contour"
           }
          ],
          "contourcarpet": [
           {
            "colorbar": {
             "outlinewidth": 0,
             "ticks": ""
            },
            "type": "contourcarpet"
           }
          ],
          "heatmap": [
           {
            "colorbar": {
             "outlinewidth": 0,
             "ticks": ""
            },
            "colorscale": [
             [
              0,
              "#0d0887"
             ],
             [
              0.1111111111111111,
              "#46039f"
             ],
             [
              0.2222222222222222,
              "#7201a8"
             ],
             [
              0.3333333333333333,
              "#9c179e"
             ],
             [
              0.4444444444444444,
              "#bd3786"
             ],
             [
              0.5555555555555556,
              "#d8576b"
             ],
             [
              0.6666666666666666,
              "#ed7953"
             ],
             [
              0.7777777777777778,
              "#fb9f3a"
             ],
             [
              0.8888888888888888,
              "#fdca26"
             ],
             [
              1,
              "#f0f921"
             ]
            ],
            "type": "heatmap"
           }
          ],
          "histogram": [
           {
            "marker": {
             "pattern": {
              "fillmode": "overlay",
              "size": 10,
              "solidity": 0.2
             }
            },
            "type": "histogram"
           }
          ],
          "histogram2d": [
           {
            "colorbar": {
             "outlinewidth": 0,
             "ticks": ""
            },
            "colorscale": [
             [
              0,
              "#0d0887"
             ],
             [
              0.1111111111111111,
              "#46039f"
             ],
             [
              0.2222222222222222,
              "#7201a8"
             ],
             [
              0.3333333333333333,
              "#9c179e"
             ],
             [
              0.4444444444444444,
              "#bd3786"
             ],
             [
              0.5555555555555556,
              "#d8576b"
             ],
             [
              0.6666666666666666,
              "#ed7953"
             ],
             [
              0.7777777777777778,
              "#fb9f3a"
             ],
             [
              0.8888888888888888,
              "#fdca26"
             ],
             [
              1,
              "#f0f921"
             ]
            ],
            "type": "histogram2d"
           }
          ],
          "histogram2dcontour": [
           {
            "colorbar": {
             "outlinewidth": 0,
             "ticks": ""
            },
            "colorscale": [
             [
              0,
              "#0d0887"
             ],
             [
              0.1111111111111111,
              "#46039f"
             ],
             [
              0.2222222222222222,
              "#7201a8"
             ],
             [
              0.3333333333333333,
              "#9c179e"
             ],
             [
              0.4444444444444444,
              "#bd3786"
             ],
             [
              0.5555555555555556,
              "#d8576b"
             ],
             [
              0.6666666666666666,
              "#ed7953"
             ],
             [
              0.7777777777777778,
              "#fb9f3a"
             ],
             [
              0.8888888888888888,
              "#fdca26"
             ],
             [
              1,
              "#f0f921"
             ]
            ],
            "type": "histogram2dcontour"
           }
          ],
          "mesh3d": [
           {
            "colorbar": {
             "outlinewidth": 0,
             "ticks": ""
            },
            "type": "mesh3d"
           }
          ],
          "parcoords": [
           {
            "line": {
             "colorbar": {
              "outlinewidth": 0,
              "ticks": ""
             }
            },
            "type": "parcoords"
           }
          ],
          "pie": [
           {
            "automargin": true,
            "type": "pie"
           }
          ],
          "scatter": [
           {
            "fillpattern": {
             "fillmode": "overlay",
             "size": 10,
             "solidity": 0.2
            },
            "type": "scatter"
           }
          ],
          "scatter3d": [
           {
            "line": {
             "colorbar": {
              "outlinewidth": 0,
              "ticks": ""
             }
            },
            "marker": {
             "colorbar": {
              "outlinewidth": 0,
              "ticks": ""
             }
            },
            "type": "scatter3d"
           }
          ],
          "scattercarpet": [
           {
            "marker": {
             "colorbar": {
              "outlinewidth": 0,
              "ticks": ""
             }
            },
            "type": "scattercarpet"
           }
          ],
          "scattergeo": [
           {
            "marker": {
             "colorbar": {
              "outlinewidth": 0,
              "ticks": ""
             }
            },
            "type": "scattergeo"
           }
          ],
          "scattergl": [
           {
            "marker": {
             "colorbar": {
              "outlinewidth": 0,
              "ticks": ""
             }
            },
            "type": "scattergl"
           }
          ],
          "scattermap": [
           {
            "marker": {
             "colorbar": {
              "outlinewidth": 0,
              "ticks": ""
             }
            },
            "type": "scattermap"
           }
          ],
          "scattermapbox": [
           {
            "marker": {
             "colorbar": {
              "outlinewidth": 0,
              "ticks": ""
             }
            },
            "type": "scattermapbox"
           }
          ],
          "scatterpolar": [
           {
            "marker": {
             "colorbar": {
              "outlinewidth": 0,
              "ticks": ""
             }
            },
            "type": "scatterpolar"
           }
          ],
          "scatterpolargl": [
           {
            "marker": {
             "colorbar": {
              "outlinewidth": 0,
              "ticks": ""
             }
            },
            "type": "scatterpolargl"
           }
          ],
          "scatterternary": [
           {
            "marker": {
             "colorbar": {
              "outlinewidth": 0,
              "ticks": ""
             }
            },
            "type": "scatterternary"
           }
          ],
          "surface": [
           {
            "colorbar": {
             "outlinewidth": 0,
             "ticks": ""
            },
            "colorscale": [
             [
              0,
              "#0d0887"
             ],
             [
              0.1111111111111111,
              "#46039f"
             ],
             [
              0.2222222222222222,
              "#7201a8"
             ],
             [
              0.3333333333333333,
              "#9c179e"
             ],
             [
              0.4444444444444444,
              "#bd3786"
             ],
             [
              0.5555555555555556,
              "#d8576b"
             ],
             [
              0.6666666666666666,
              "#ed7953"
             ],
             [
              0.7777777777777778,
              "#fb9f3a"
             ],
             [
              0.8888888888888888,
              "#fdca26"
             ],
             [
              1,
              "#f0f921"
             ]
            ],
            "type": "surface"
           }
          ],
          "table": [
           {
            "cells": {
             "fill": {
              "color": "#EBF0F8"
             },
             "line": {
              "color": "white"
             }
            },
            "header": {
             "fill": {
              "color": "#C8D4E3"
             },
             "line": {
              "color": "white"
             }
            },
            "type": "table"
           }
          ]
         },
         "layout": {
          "annotationdefaults": {
           "arrowcolor": "#2a3f5f",
           "arrowhead": 0,
           "arrowwidth": 1
          },
          "autotypenumbers": "strict",
          "coloraxis": {
           "colorbar": {
            "outlinewidth": 0,
            "ticks": ""
           }
          },
          "colorscale": {
           "diverging": [
            [
             0,
             "#8e0152"
            ],
            [
             0.1,
             "#c51b7d"
            ],
            [
             0.2,
             "#de77ae"
            ],
            [
             0.3,
             "#f1b6da"
            ],
            [
             0.4,
             "#fde0ef"
            ],
            [
             0.5,
             "#f7f7f7"
            ],
            [
             0.6,
             "#e6f5d0"
            ],
            [
             0.7,
             "#b8e186"
            ],
            [
             0.8,
             "#7fbc41"
            ],
            [
             0.9,
             "#4d9221"
            ],
            [
             1,
             "#276419"
            ]
           ],
           "sequential": [
            [
             0,
             "#0d0887"
            ],
            [
             0.1111111111111111,
             "#46039f"
            ],
            [
             0.2222222222222222,
             "#7201a8"
            ],
            [
             0.3333333333333333,
             "#9c179e"
            ],
            [
             0.4444444444444444,
             "#bd3786"
            ],
            [
             0.5555555555555556,
             "#d8576b"
            ],
            [
             0.6666666666666666,
             "#ed7953"
            ],
            [
             0.7777777777777778,
             "#fb9f3a"
            ],
            [
             0.8888888888888888,
             "#fdca26"
            ],
            [
             1,
             "#f0f921"
            ]
           ],
           "sequentialminus": [
            [
             0,
             "#0d0887"
            ],
            [
             0.1111111111111111,
             "#46039f"
            ],
            [
             0.2222222222222222,
             "#7201a8"
            ],
            [
             0.3333333333333333,
             "#9c179e"
            ],
            [
             0.4444444444444444,
             "#bd3786"
            ],
            [
             0.5555555555555556,
             "#d8576b"
            ],
            [
             0.6666666666666666,
             "#ed7953"
            ],
            [
             0.7777777777777778,
             "#fb9f3a"
            ],
            [
             0.8888888888888888,
             "#fdca26"
            ],
            [
             1,
             "#f0f921"
            ]
           ]
          },
          "colorway": [
           "#636efa",
           "#EF553B",
           "#00cc96",
           "#ab63fa",
           "#FFA15A",
           "#19d3f3",
           "#FF6692",
           "#B6E880",
           "#FF97FF",
           "#FECB52"
          ],
          "font": {
           "color": "#2a3f5f"
          },
          "geo": {
           "bgcolor": "white",
           "lakecolor": "white",
           "landcolor": "#E5ECF6",
           "showlakes": true,
           "showland": true,
           "subunitcolor": "white"
          },
          "hoverlabel": {
           "align": "left"
          },
          "hovermode": "closest",
          "mapbox": {
           "style": "light"
          },
          "paper_bgcolor": "white",
          "plot_bgcolor": "#E5ECF6",
          "polar": {
           "angularaxis": {
            "gridcolor": "white",
            "linecolor": "white",
            "ticks": ""
           },
           "bgcolor": "#E5ECF6",
           "radialaxis": {
            "gridcolor": "white",
            "linecolor": "white",
            "ticks": ""
           }
          },
          "scene": {
           "xaxis": {
            "backgroundcolor": "#E5ECF6",
            "gridcolor": "white",
            "gridwidth": 2,
            "linecolor": "white",
            "showbackground": true,
            "ticks": "",
            "zerolinecolor": "white"
           },
           "yaxis": {
            "backgroundcolor": "#E5ECF6",
            "gridcolor": "white",
            "gridwidth": 2,
            "linecolor": "white",
            "showbackground": true,
            "ticks": "",
            "zerolinecolor": "white"
           },
           "zaxis": {
            "backgroundcolor": "#E5ECF6",
            "gridcolor": "white",
            "gridwidth": 2,
            "linecolor": "white",
            "showbackground": true,
            "ticks": "",
            "zerolinecolor": "white"
           }
          },
          "shapedefaults": {
           "line": {
            "color": "#2a3f5f"
           }
          },
          "ternary": {
           "aaxis": {
            "gridcolor": "white",
            "linecolor": "white",
            "ticks": ""
           },
           "baxis": {
            "gridcolor": "white",
            "linecolor": "white",
            "ticks": ""
           },
           "bgcolor": "#E5ECF6",
           "caxis": {
            "gridcolor": "white",
            "linecolor": "white",
            "ticks": ""
           }
          },
          "title": {
           "x": 0.05
          },
          "xaxis": {
           "automargin": true,
           "gridcolor": "white",
           "linecolor": "white",
           "ticks": "",
           "title": {
            "standoff": 15
           },
           "zerolinecolor": "white",
           "zerolinewidth": 2
          },
          "yaxis": {
           "automargin": true,
           "gridcolor": "white",
           "linecolor": "white",
           "ticks": "",
           "title": {
            "standoff": 15
           },
           "zerolinecolor": "white",
           "zerolinewidth": 2
          }
         }
        },
        "title": {
         "text": "Sales by Product Line (Interactive)"
        },
        "xaxis": {
         "anchor": "y",
         "categoryarray": [
          "Health and beauty",
          "Electronic accessories",
          "Home and lifestyle",
          "Sports and travel",
          "Food and beverages",
          "Fashion accessories"
         ],
         "categoryorder": "array",
         "domain": [
          0,
          1
         ],
         "title": {
          "text": "Product line"
         }
        },
        "yaxis": {
         "anchor": "x",
         "domain": [
          0,
          1
         ],
         "title": {
          "text": "Sales"
         }
        }
       }
      }
     },
     "metadata": {},
     "output_type": "display_data"
    }
   ],
   "source": [
    "fig1 = px.bar(df, x=\"Product line\", y=\"Sales\", color=\"Product line\",\n",
    "              title=\"Sales by Product Line (Interactive)\")\n",
    "fig1.show()"
   ]
  },
  {
   "cell_type": "markdown",
   "id": "d842240a",
   "metadata": {},
   "source": [
    "### ***3. Sales chart by branch:***"
   ]
  },
  {
   "cell_type": "code",
   "execution_count": 8,
   "id": "31d4fddb",
   "metadata": {},
   "outputs": [
    {
     "data": {
      "application/vnd.plotly.v1+json": {
       "config": {
        "plotlyServerURL": "https://plot.ly"
       },
       "data": [
        {
         "hovertemplate": "Branch=%{x}<br>Sales=%{y}<extra></extra>",
         "legendgroup": "Alex",
         "marker": {
          "color": "#636efa",
          "pattern": {
           "shape": ""
          }
         },
         "name": "Alex",
         "orientation": "v",
         "showlegend": true,
         "textposition": "auto",
         "type": "bar",
         "x": [
          "Alex",
          "Alex",
          "Alex",
          "Alex",
          "Alex",
          "Alex",
          "Alex",
          "Alex",
          "Alex",
          "Alex",
          "Alex",
          "Alex",
          "Alex",
          "Alex",
          "Alex",
          "Alex",
          "Alex",
          "Alex",
          "Alex",
          "Alex",
          "Alex",
          "Alex",
          "Alex",
          "Alex",
          "Alex",
          "Alex",
          "Alex",
          "Alex",
          "Alex",
          "Alex",
          "Alex",
          "Alex",
          "Alex",
          "Alex",
          "Alex",
          "Alex",
          "Alex",
          "Alex",
          "Alex",
          "Alex",
          "Alex",
          "Alex",
          "Alex",
          "Alex",
          "Alex",
          "Alex",
          "Alex",
          "Alex",
          "Alex",
          "Alex",
          "Alex",
          "Alex",
          "Alex",
          "Alex",
          "Alex",
          "Alex",
          "Alex",
          "Alex",
          "Alex",
          "Alex",
          "Alex",
          "Alex",
          "Alex",
          "Alex",
          "Alex",
          "Alex",
          "Alex",
          "Alex",
          "Alex",
          "Alex",
          "Alex",
          "Alex",
          "Alex",
          "Alex",
          "Alex",
          "Alex",
          "Alex",
          "Alex",
          "Alex",
          "Alex",
          "Alex",
          "Alex",
          "Alex",
          "Alex",
          "Alex",
          "Alex",
          "Alex",
          "Alex",
          "Alex",
          "Alex",
          "Alex",
          "Alex",
          "Alex",
          "Alex",
          "Alex",
          "Alex",
          "Alex",
          "Alex",
          "Alex",
          "Alex",
          "Alex",
          "Alex",
          "Alex",
          "Alex",
          "Alex",
          "Alex",
          "Alex",
          "Alex",
          "Alex",
          "Alex",
          "Alex",
          "Alex",
          "Alex",
          "Alex",
          "Alex",
          "Alex",
          "Alex",
          "Alex",
          "Alex",
          "Alex",
          "Alex",
          "Alex",
          "Alex",
          "Alex",
          "Alex",
          "Alex",
          "Alex",
          "Alex",
          "Alex",
          "Alex",
          "Alex",
          "Alex",
          "Alex",
          "Alex",
          "Alex",
          "Alex",
          "Alex",
          "Alex",
          "Alex",
          "Alex",
          "Alex",
          "Alex",
          "Alex",
          "Alex",
          "Alex",
          "Alex",
          "Alex",
          "Alex",
          "Alex",
          "Alex",
          "Alex",
          "Alex",
          "Alex",
          "Alex",
          "Alex",
          "Alex",
          "Alex",
          "Alex",
          "Alex",
          "Alex",
          "Alex",
          "Alex",
          "Alex",
          "Alex",
          "Alex",
          "Alex",
          "Alex",
          "Alex",
          "Alex",
          "Alex",
          "Alex",
          "Alex",
          "Alex",
          "Alex",
          "Alex",
          "Alex",
          "Alex",
          "Alex",
          "Alex",
          "Alex",
          "Alex",
          "Alex",
          "Alex",
          "Alex",
          "Alex",
          "Alex",
          "Alex",
          "Alex",
          "Alex",
          "Alex",
          "Alex",
          "Alex",
          "Alex",
          "Alex",
          "Alex",
          "Alex",
          "Alex",
          "Alex",
          "Alex",
          "Alex",
          "Alex",
          "Alex",
          "Alex",
          "Alex",
          "Alex",
          "Alex",
          "Alex",
          "Alex",
          "Alex",
          "Alex",
          "Alex",
          "Alex",
          "Alex",
          "Alex",
          "Alex",
          "Alex",
          "Alex",
          "Alex",
          "Alex",
          "Alex",
          "Alex",
          "Alex",
          "Alex",
          "Alex",
          "Alex",
          "Alex",
          "Alex",
          "Alex",
          "Alex",
          "Alex",
          "Alex",
          "Alex",
          "Alex",
          "Alex",
          "Alex",
          "Alex",
          "Alex",
          "Alex",
          "Alex",
          "Alex",
          "Alex",
          "Alex",
          "Alex",
          "Alex",
          "Alex",
          "Alex",
          "Alex",
          "Alex",
          "Alex",
          "Alex",
          "Alex",
          "Alex",
          "Alex",
          "Alex",
          "Alex",
          "Alex",
          "Alex",
          "Alex",
          "Alex",
          "Alex",
          "Alex",
          "Alex",
          "Alex",
          "Alex",
          "Alex",
          "Alex",
          "Alex",
          "Alex",
          "Alex",
          "Alex",
          "Alex",
          "Alex",
          "Alex",
          "Alex",
          "Alex",
          "Alex",
          "Alex",
          "Alex",
          "Alex",
          "Alex",
          "Alex",
          "Alex",
          "Alex",
          "Alex",
          "Alex",
          "Alex",
          "Alex",
          "Alex",
          "Alex",
          "Alex",
          "Alex",
          "Alex",
          "Alex",
          "Alex",
          "Alex",
          "Alex",
          "Alex",
          "Alex",
          "Alex",
          "Alex",
          "Alex",
          "Alex",
          "Alex",
          "Alex",
          "Alex",
          "Alex",
          "Alex",
          "Alex",
          "Alex",
          "Alex",
          "Alex",
          "Alex",
          "Alex",
          "Alex",
          "Alex",
          "Alex",
          "Alex",
          "Alex",
          "Alex",
          "Alex",
          "Alex",
          "Alex",
          "Alex",
          "Alex",
          "Alex",
          "Alex",
          "Alex",
          "Alex",
          "Alex",
          "Alex",
          "Alex",
          "Alex",
          "Alex",
          "Alex",
          "Alex",
          "Alex",
          "Alex",
          "Alex",
          "Alex",
          "Alex"
         ],
         "xaxis": "x",
         "y": {
          "bdata": "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",
          "dtype": "f8"
         },
         "yaxis": "y"
        },
        {
         "hovertemplate": "Branch=%{x}<br>Sales=%{y}<extra></extra>",
         "legendgroup": "Giza",
         "marker": {
          "color": "#EF553B",
          "pattern": {
           "shape": ""
          }
         },
         "name": "Giza",
         "orientation": "v",
         "showlegend": true,
         "textposition": "auto",
         "type": "bar",
         "x": [
          "Giza",
          "Giza",
          "Giza",
          "Giza",
          "Giza",
          "Giza",
          "Giza",
          "Giza",
          "Giza",
          "Giza",
          "Giza",
          "Giza",
          "Giza",
          "Giza",
          "Giza",
          "Giza",
          "Giza",
          "Giza",
          "Giza",
          "Giza",
          "Giza",
          "Giza",
          "Giza",
          "Giza",
          "Giza",
          "Giza",
          "Giza",
          "Giza",
          "Giza",
          "Giza",
          "Giza",
          "Giza",
          "Giza",
          "Giza",
          "Giza",
          "Giza",
          "Giza",
          "Giza",
          "Giza",
          "Giza",
          "Giza",
          "Giza",
          "Giza",
          "Giza",
          "Giza",
          "Giza",
          "Giza",
          "Giza",
          "Giza",
          "Giza",
          "Giza",
          "Giza",
          "Giza",
          "Giza",
          "Giza",
          "Giza",
          "Giza",
          "Giza",
          "Giza",
          "Giza",
          "Giza",
          "Giza",
          "Giza",
          "Giza",
          "Giza",
          "Giza",
          "Giza",
          "Giza",
          "Giza",
          "Giza",
          "Giza",
          "Giza",
          "Giza",
          "Giza",
          "Giza",
          "Giza",
          "Giza",
          "Giza",
          "Giza",
          "Giza",
          "Giza",
          "Giza",
          "Giza",
          "Giza",
          "Giza",
          "Giza",
          "Giza",
          "Giza",
          "Giza",
          "Giza",
          "Giza",
          "Giza",
          "Giza",
          "Giza",
          "Giza",
          "Giza",
          "Giza",
          "Giza",
          "Giza",
          "Giza",
          "Giza",
          "Giza",
          "Giza",
          "Giza",
          "Giza",
          "Giza",
          "Giza",
          "Giza",
          "Giza",
          "Giza",
          "Giza",
          "Giza",
          "Giza",
          "Giza",
          "Giza",
          "Giza",
          "Giza",
          "Giza",
          "Giza",
          "Giza",
          "Giza",
          "Giza",
          "Giza",
          "Giza",
          "Giza",
          "Giza",
          "Giza",
          "Giza",
          "Giza",
          "Giza",
          "Giza",
          "Giza",
          "Giza",
          "Giza",
          "Giza",
          "Giza",
          "Giza",
          "Giza",
          "Giza",
          "Giza",
          "Giza",
          "Giza",
          "Giza",
          "Giza",
          "Giza",
          "Giza",
          "Giza",
          "Giza",
          "Giza",
          "Giza",
          "Giza",
          "Giza",
          "Giza",
          "Giza",
          "Giza",
          "Giza",
          "Giza",
          "Giza",
          "Giza",
          "Giza",
          "Giza",
          "Giza",
          "Giza",
          "Giza",
          "Giza",
          "Giza",
          "Giza",
          "Giza",
          "Giza",
          "Giza",
          "Giza",
          "Giza",
          "Giza",
          "Giza",
          "Giza",
          "Giza",
          "Giza",
          "Giza",
          "Giza",
          "Giza",
          "Giza",
          "Giza",
          "Giza",
          "Giza",
          "Giza",
          "Giza",
          "Giza",
          "Giza",
          "Giza",
          "Giza",
          "Giza",
          "Giza",
          "Giza",
          "Giza",
          "Giza",
          "Giza",
          "Giza",
          "Giza",
          "Giza",
          "Giza",
          "Giza",
          "Giza",
          "Giza",
          "Giza",
          "Giza",
          "Giza",
          "Giza",
          "Giza",
          "Giza",
          "Giza",
          "Giza",
          "Giza",
          "Giza",
          "Giza",
          "Giza",
          "Giza",
          "Giza",
          "Giza",
          "Giza",
          "Giza",
          "Giza",
          "Giza",
          "Giza",
          "Giza",
          "Giza",
          "Giza",
          "Giza",
          "Giza",
          "Giza",
          "Giza",
          "Giza",
          "Giza",
          "Giza",
          "Giza",
          "Giza",
          "Giza",
          "Giza",
          "Giza",
          "Giza",
          "Giza",
          "Giza",
          "Giza",
          "Giza",
          "Giza",
          "Giza",
          "Giza",
          "Giza",
          "Giza",
          "Giza",
          "Giza",
          "Giza",
          "Giza",
          "Giza",
          "Giza",
          "Giza",
          "Giza",
          "Giza",
          "Giza",
          "Giza",
          "Giza",
          "Giza",
          "Giza",
          "Giza",
          "Giza",
          "Giza",
          "Giza",
          "Giza",
          "Giza",
          "Giza",
          "Giza",
          "Giza",
          "Giza",
          "Giza",
          "Giza",
          "Giza",
          "Giza",
          "Giza",
          "Giza",
          "Giza",
          "Giza",
          "Giza",
          "Giza",
          "Giza",
          "Giza",
          "Giza",
          "Giza",
          "Giza",
          "Giza",
          "Giza",
          "Giza",
          "Giza",
          "Giza",
          "Giza",
          "Giza",
          "Giza",
          "Giza",
          "Giza",
          "Giza",
          "Giza",
          "Giza",
          "Giza",
          "Giza",
          "Giza",
          "Giza",
          "Giza",
          "Giza",
          "Giza",
          "Giza",
          "Giza",
          "Giza",
          "Giza",
          "Giza",
          "Giza",
          "Giza",
          "Giza",
          "Giza",
          "Giza",
          "Giza",
          "Giza",
          "Giza",
          "Giza",
          "Giza",
          "Giza",
          "Giza",
          "Giza",
          "Giza",
          "Giza",
          "Giza"
         ],
         "xaxis": "x",
         "y": {
          "bdata": "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",
          "dtype": "f8"
         },
         "yaxis": "y"
        },
        {
         "hovertemplate": "Branch=%{x}<br>Sales=%{y}<extra></extra>",
         "legendgroup": "Cairo",
         "marker": {
          "color": "#00cc96",
          "pattern": {
           "shape": ""
          }
         },
         "name": "Cairo",
         "orientation": "v",
         "showlegend": true,
         "textposition": "auto",
         "type": "bar",
         "x": [
          "Cairo",
          "Cairo",
          "Cairo",
          "Cairo",
          "Cairo",
          "Cairo",
          "Cairo",
          "Cairo",
          "Cairo",
          "Cairo",
          "Cairo",
          "Cairo",
          "Cairo",
          "Cairo",
          "Cairo",
          "Cairo",
          "Cairo",
          "Cairo",
          "Cairo",
          "Cairo",
          "Cairo",
          "Cairo",
          "Cairo",
          "Cairo",
          "Cairo",
          "Cairo",
          "Cairo",
          "Cairo",
          "Cairo",
          "Cairo",
          "Cairo",
          "Cairo",
          "Cairo",
          "Cairo",
          "Cairo",
          "Cairo",
          "Cairo",
          "Cairo",
          "Cairo",
          "Cairo",
          "Cairo",
          "Cairo",
          "Cairo",
          "Cairo",
          "Cairo",
          "Cairo",
          "Cairo",
          "Cairo",
          "Cairo",
          "Cairo",
          "Cairo",
          "Cairo",
          "Cairo",
          "Cairo",
          "Cairo",
          "Cairo",
          "Cairo",
          "Cairo",
          "Cairo",
          "Cairo",
          "Cairo",
          "Cairo",
          "Cairo",
          "Cairo",
          "Cairo",
          "Cairo",
          "Cairo",
          "Cairo",
          "Cairo",
          "Cairo",
          "Cairo",
          "Cairo",
          "Cairo",
          "Cairo",
          "Cairo",
          "Cairo",
          "Cairo",
          "Cairo",
          "Cairo",
          "Cairo",
          "Cairo",
          "Cairo",
          "Cairo",
          "Cairo",
          "Cairo",
          "Cairo",
          "Cairo",
          "Cairo",
          "Cairo",
          "Cairo",
          "Cairo",
          "Cairo",
          "Cairo",
          "Cairo",
          "Cairo",
          "Cairo",
          "Cairo",
          "Cairo",
          "Cairo",
          "Cairo",
          "Cairo",
          "Cairo",
          "Cairo",
          "Cairo",
          "Cairo",
          "Cairo",
          "Cairo",
          "Cairo",
          "Cairo",
          "Cairo",
          "Cairo",
          "Cairo",
          "Cairo",
          "Cairo",
          "Cairo",
          "Cairo",
          "Cairo",
          "Cairo",
          "Cairo",
          "Cairo",
          "Cairo",
          "Cairo",
          "Cairo",
          "Cairo",
          "Cairo",
          "Cairo",
          "Cairo",
          "Cairo",
          "Cairo",
          "Cairo",
          "Cairo",
          "Cairo",
          "Cairo",
          "Cairo",
          "Cairo",
          "Cairo",
          "Cairo",
          "Cairo",
          "Cairo",
          "Cairo",
          "Cairo",
          "Cairo",
          "Cairo",
          "Cairo",
          "Cairo",
          "Cairo",
          "Cairo",
          "Cairo",
          "Cairo",
          "Cairo",
          "Cairo",
          "Cairo",
          "Cairo",
          "Cairo",
          "Cairo",
          "Cairo",
          "Cairo",
          "Cairo",
          "Cairo",
          "Cairo",
          "Cairo",
          "Cairo",
          "Cairo",
          "Cairo",
          "Cairo",
          "Cairo",
          "Cairo",
          "Cairo",
          "Cairo",
          "Cairo",
          "Cairo",
          "Cairo",
          "Cairo",
          "Cairo",
          "Cairo",
          "Cairo",
          "Cairo",
          "Cairo",
          "Cairo",
          "Cairo",
          "Cairo",
          "Cairo",
          "Cairo",
          "Cairo",
          "Cairo",
          "Cairo",
          "Cairo",
          "Cairo",
          "Cairo",
          "Cairo",
          "Cairo",
          "Cairo",
          "Cairo",
          "Cairo",
          "Cairo",
          "Cairo",
          "Cairo",
          "Cairo",
          "Cairo",
          "Cairo",
          "Cairo",
          "Cairo",
          "Cairo",
          "Cairo",
          "Cairo",
          "Cairo",
          "Cairo",
          "Cairo",
          "Cairo",
          "Cairo",
          "Cairo",
          "Cairo",
          "Cairo",
          "Cairo",
          "Cairo",
          "Cairo",
          "Cairo",
          "Cairo",
          "Cairo",
          "Cairo",
          "Cairo",
          "Cairo",
          "Cairo",
          "Cairo",
          "Cairo",
          "Cairo",
          "Cairo",
          "Cairo",
          "Cairo",
          "Cairo",
          "Cairo",
          "Cairo",
          "Cairo",
          "Cairo",
          "Cairo",
          "Cairo",
          "Cairo",
          "Cairo",
          "Cairo",
          "Cairo",
          "Cairo",
          "Cairo",
          "Cairo",
          "Cairo",
          "Cairo",
          "Cairo",
          "Cairo",
          "Cairo",
          "Cairo",
          "Cairo",
          "Cairo",
          "Cairo",
          "Cairo",
          "Cairo",
          "Cairo",
          "Cairo",
          "Cairo",
          "Cairo",
          "Cairo",
          "Cairo",
          "Cairo",
          "Cairo",
          "Cairo",
          "Cairo",
          "Cairo",
          "Cairo",
          "Cairo",
          "Cairo",
          "Cairo",
          "Cairo",
          "Cairo",
          "Cairo",
          "Cairo",
          "Cairo",
          "Cairo",
          "Cairo",
          "Cairo",
          "Cairo",
          "Cairo",
          "Cairo",
          "Cairo",
          "Cairo",
          "Cairo",
          "Cairo",
          "Cairo",
          "Cairo",
          "Cairo",
          "Cairo",
          "Cairo",
          "Cairo",
          "Cairo",
          "Cairo",
          "Cairo",
          "Cairo",
          "Cairo",
          "Cairo",
          "Cairo",
          "Cairo",
          "Cairo",
          "Cairo",
          "Cairo",
          "Cairo",
          "Cairo",
          "Cairo",
          "Cairo",
          "Cairo",
          "Cairo",
          "Cairo",
          "Cairo",
          "Cairo",
          "Cairo",
          "Cairo",
          "Cairo",
          "Cairo",
          "Cairo",
          "Cairo",
          "Cairo",
          "Cairo",
          "Cairo",
          "Cairo",
          "Cairo",
          "Cairo",
          "Cairo",
          "Cairo",
          "Cairo",
          "Cairo",
          "Cairo",
          "Cairo",
          "Cairo",
          "Cairo",
          "Cairo",
          "Cairo"
         ],
         "xaxis": "x",
         "y": {
          "bdata": "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",
          "dtype": "f8"
         },
         "yaxis": "y"
        }
       ],
       "layout": {
        "barmode": "relative",
        "legend": {
         "title": {
          "text": "Branch"
         },
         "tracegroupgap": 0
        },
        "template": {
         "data": {
          "bar": [
           {
            "error_x": {
             "color": "#2a3f5f"
            },
            "error_y": {
             "color": "#2a3f5f"
            },
            "marker": {
             "line": {
              "color": "#E5ECF6",
              "width": 0.5
             },
             "pattern": {
              "fillmode": "overlay",
              "size": 10,
              "solidity": 0.2
             }
            },
            "type": "bar"
           }
          ],
          "barpolar": [
           {
            "marker": {
             "line": {
              "color": "#E5ECF6",
              "width": 0.5
             },
             "pattern": {
              "fillmode": "overlay",
              "size": 10,
              "solidity": 0.2
             }
            },
            "type": "barpolar"
           }
          ],
          "carpet": [
           {
            "aaxis": {
             "endlinecolor": "#2a3f5f",
             "gridcolor": "white",
             "linecolor": "white",
             "minorgridcolor": "white",
             "startlinecolor": "#2a3f5f"
            },
            "baxis": {
             "endlinecolor": "#2a3f5f",
             "gridcolor": "white",
             "linecolor": "white",
             "minorgridcolor": "white",
             "startlinecolor": "#2a3f5f"
            },
            "type": "carpet"
           }
          ],
          "choropleth": [
           {
            "colorbar": {
             "outlinewidth": 0,
             "ticks": ""
            },
            "type": "choropleth"
           }
          ],
          "contour": [
           {
            "colorbar": {
             "outlinewidth": 0,
             "ticks": ""
            },
            "colorscale": [
             [
              0,
              "#0d0887"
             ],
             [
              0.1111111111111111,
              "#46039f"
             ],
             [
              0.2222222222222222,
              "#7201a8"
             ],
             [
              0.3333333333333333,
              "#9c179e"
             ],
             [
              0.4444444444444444,
              "#bd3786"
             ],
             [
              0.5555555555555556,
              "#d8576b"
             ],
             [
              0.6666666666666666,
              "#ed7953"
             ],
             [
              0.7777777777777778,
              "#fb9f3a"
             ],
             [
              0.8888888888888888,
              "#fdca26"
             ],
             [
              1,
              "#f0f921"
             ]
            ],
            "type": "contour"
           }
          ],
          "contourcarpet": [
           {
            "colorbar": {
             "outlinewidth": 0,
             "ticks": ""
            },
            "type": "contourcarpet"
           }
          ],
          "heatmap": [
           {
            "colorbar": {
             "outlinewidth": 0,
             "ticks": ""
            },
            "colorscale": [
             [
              0,
              "#0d0887"
             ],
             [
              0.1111111111111111,
              "#46039f"
             ],
             [
              0.2222222222222222,
              "#7201a8"
             ],
             [
              0.3333333333333333,
              "#9c179e"
             ],
             [
              0.4444444444444444,
              "#bd3786"
             ],
             [
              0.5555555555555556,
              "#d8576b"
             ],
             [
              0.6666666666666666,
              "#ed7953"
             ],
             [
              0.7777777777777778,
              "#fb9f3a"
             ],
             [
              0.8888888888888888,
              "#fdca26"
             ],
             [
              1,
              "#f0f921"
             ]
            ],
            "type": "heatmap"
           }
          ],
          "histogram": [
           {
            "marker": {
             "pattern": {
              "fillmode": "overlay",
              "size": 10,
              "solidity": 0.2
             }
            },
            "type": "histogram"
           }
          ],
          "histogram2d": [
           {
            "colorbar": {
             "outlinewidth": 0,
             "ticks": ""
            },
            "colorscale": [
             [
              0,
              "#0d0887"
             ],
             [
              0.1111111111111111,
              "#46039f"
             ],
             [
              0.2222222222222222,
              "#7201a8"
             ],
             [
              0.3333333333333333,
              "#9c179e"
             ],
             [
              0.4444444444444444,
              "#bd3786"
             ],
             [
              0.5555555555555556,
              "#d8576b"
             ],
             [
              0.6666666666666666,
              "#ed7953"
             ],
             [
              0.7777777777777778,
              "#fb9f3a"
             ],
             [
              0.8888888888888888,
              "#fdca26"
             ],
             [
              1,
              "#f0f921"
             ]
            ],
            "type": "histogram2d"
           }
          ],
          "histogram2dcontour": [
           {
            "colorbar": {
             "outlinewidth": 0,
             "ticks": ""
            },
            "colorscale": [
             [
              0,
              "#0d0887"
             ],
             [
              0.1111111111111111,
              "#46039f"
             ],
             [
              0.2222222222222222,
              "#7201a8"
             ],
             [
              0.3333333333333333,
              "#9c179e"
             ],
             [
              0.4444444444444444,
              "#bd3786"
             ],
             [
              0.5555555555555556,
              "#d8576b"
             ],
             [
              0.6666666666666666,
              "#ed7953"
             ],
             [
              0.7777777777777778,
              "#fb9f3a"
             ],
             [
              0.8888888888888888,
              "#fdca26"
             ],
             [
              1,
              "#f0f921"
             ]
            ],
            "type": "histogram2dcontour"
           }
          ],
          "mesh3d": [
           {
            "colorbar": {
             "outlinewidth": 0,
             "ticks": ""
            },
            "type": "mesh3d"
           }
          ],
          "parcoords": [
           {
            "line": {
             "colorbar": {
              "outlinewidth": 0,
              "ticks": ""
             }
            },
            "type": "parcoords"
           }
          ],
          "pie": [
           {
            "automargin": true,
            "type": "pie"
           }
          ],
          "scatter": [
           {
            "fillpattern": {
             "fillmode": "overlay",
             "size": 10,
             "solidity": 0.2
            },
            "type": "scatter"
           }
          ],
          "scatter3d": [
           {
            "line": {
             "colorbar": {
              "outlinewidth": 0,
              "ticks": ""
             }
            },
            "marker": {
             "colorbar": {
              "outlinewidth": 0,
              "ticks": ""
             }
            },
            "type": "scatter3d"
           }
          ],
          "scattercarpet": [
           {
            "marker": {
             "colorbar": {
              "outlinewidth": 0,
              "ticks": ""
             }
            },
            "type": "scattercarpet"
           }
          ],
          "scattergeo": [
           {
            "marker": {
             "colorbar": {
              "outlinewidth": 0,
              "ticks": ""
             }
            },
            "type": "scattergeo"
           }
          ],
          "scattergl": [
           {
            "marker": {
             "colorbar": {
              "outlinewidth": 0,
              "ticks": ""
             }
            },
            "type": "scattergl"
           }
          ],
          "scattermap": [
           {
            "marker": {
             "colorbar": {
              "outlinewidth": 0,
              "ticks": ""
             }
            },
            "type": "scattermap"
           }
          ],
          "scattermapbox": [
           {
            "marker": {
             "colorbar": {
              "outlinewidth": 0,
              "ticks": ""
             }
            },
            "type": "scattermapbox"
           }
          ],
          "scatterpolar": [
           {
            "marker": {
             "colorbar": {
              "outlinewidth": 0,
              "ticks": ""
             }
            },
            "type": "scatterpolar"
           }
          ],
          "scatterpolargl": [
           {
            "marker": {
             "colorbar": {
              "outlinewidth": 0,
              "ticks": ""
             }
            },
            "type": "scatterpolargl"
           }
          ],
          "scatterternary": [
           {
            "marker": {
             "colorbar": {
              "outlinewidth": 0,
              "ticks": ""
             }
            },
            "type": "scatterternary"
           }
          ],
          "surface": [
           {
            "colorbar": {
             "outlinewidth": 0,
             "ticks": ""
            },
            "colorscale": [
             [
              0,
              "#0d0887"
             ],
             [
              0.1111111111111111,
              "#46039f"
             ],
             [
              0.2222222222222222,
              "#7201a8"
             ],
             [
              0.3333333333333333,
              "#9c179e"
             ],
             [
              0.4444444444444444,
              "#bd3786"
             ],
             [
              0.5555555555555556,
              "#d8576b"
             ],
             [
              0.6666666666666666,
              "#ed7953"
             ],
             [
              0.7777777777777778,
              "#fb9f3a"
             ],
             [
              0.8888888888888888,
              "#fdca26"
             ],
             [
              1,
              "#f0f921"
             ]
            ],
            "type": "surface"
           }
          ],
          "table": [
           {
            "cells": {
             "fill": {
              "color": "#EBF0F8"
             },
             "line": {
              "color": "white"
             }
            },
            "header": {
             "fill": {
              "color": "#C8D4E3"
             },
             "line": {
              "color": "white"
             }
            },
            "type": "table"
           }
          ]
         },
         "layout": {
          "annotationdefaults": {
           "arrowcolor": "#2a3f5f",
           "arrowhead": 0,
           "arrowwidth": 1
          },
          "autotypenumbers": "strict",
          "coloraxis": {
           "colorbar": {
            "outlinewidth": 0,
            "ticks": ""
           }
          },
          "colorscale": {
           "diverging": [
            [
             0,
             "#8e0152"
            ],
            [
             0.1,
             "#c51b7d"
            ],
            [
             0.2,
             "#de77ae"
            ],
            [
             0.3,
             "#f1b6da"
            ],
            [
             0.4,
             "#fde0ef"
            ],
            [
             0.5,
             "#f7f7f7"
            ],
            [
             0.6,
             "#e6f5d0"
            ],
            [
             0.7,
             "#b8e186"
            ],
            [
             0.8,
             "#7fbc41"
            ],
            [
             0.9,
             "#4d9221"
            ],
            [
             1,
             "#276419"
            ]
           ],
           "sequential": [
            [
             0,
             "#0d0887"
            ],
            [
             0.1111111111111111,
             "#46039f"
            ],
            [
             0.2222222222222222,
             "#7201a8"
            ],
            [
             0.3333333333333333,
             "#9c179e"
            ],
            [
             0.4444444444444444,
             "#bd3786"
            ],
            [
             0.5555555555555556,
             "#d8576b"
            ],
            [
             0.6666666666666666,
             "#ed7953"
            ],
            [
             0.7777777777777778,
             "#fb9f3a"
            ],
            [
             0.8888888888888888,
             "#fdca26"
            ],
            [
             1,
             "#f0f921"
            ]
           ],
           "sequentialminus": [
            [
             0,
             "#0d0887"
            ],
            [
             0.1111111111111111,
             "#46039f"
            ],
            [
             0.2222222222222222,
             "#7201a8"
            ],
            [
             0.3333333333333333,
             "#9c179e"
            ],
            [
             0.4444444444444444,
             "#bd3786"
            ],
            [
             0.5555555555555556,
             "#d8576b"
            ],
            [
             0.6666666666666666,
             "#ed7953"
            ],
            [
             0.7777777777777778,
             "#fb9f3a"
            ],
            [
             0.8888888888888888,
             "#fdca26"
            ],
            [
             1,
             "#f0f921"
            ]
           ]
          },
          "colorway": [
           "#636efa",
           "#EF553B",
           "#00cc96",
           "#ab63fa",
           "#FFA15A",
           "#19d3f3",
           "#FF6692",
           "#B6E880",
           "#FF97FF",
           "#FECB52"
          ],
          "font": {
           "color": "#2a3f5f"
          },
          "geo": {
           "bgcolor": "white",
           "lakecolor": "white",
           "landcolor": "#E5ECF6",
           "showlakes": true,
           "showland": true,
           "subunitcolor": "white"
          },
          "hoverlabel": {
           "align": "left"
          },
          "hovermode": "closest",
          "mapbox": {
           "style": "light"
          },
          "paper_bgcolor": "white",
          "plot_bgcolor": "#E5ECF6",
          "polar": {
           "angularaxis": {
            "gridcolor": "white",
            "linecolor": "white",
            "ticks": ""
           },
           "bgcolor": "#E5ECF6",
           "radialaxis": {
            "gridcolor": "white",
            "linecolor": "white",
            "ticks": ""
           }
          },
          "scene": {
           "xaxis": {
            "backgroundcolor": "#E5ECF6",
            "gridcolor": "white",
            "gridwidth": 2,
            "linecolor": "white",
            "showbackground": true,
            "ticks": "",
            "zerolinecolor": "white"
           },
           "yaxis": {
            "backgroundcolor": "#E5ECF6",
            "gridcolor": "white",
            "gridwidth": 2,
            "linecolor": "white",
            "showbackground": true,
            "ticks": "",
            "zerolinecolor": "white"
           },
           "zaxis": {
            "backgroundcolor": "#E5ECF6",
            "gridcolor": "white",
            "gridwidth": 2,
            "linecolor": "white",
            "showbackground": true,
            "ticks": "",
            "zerolinecolor": "white"
           }
          },
          "shapedefaults": {
           "line": {
            "color": "#2a3f5f"
           }
          },
          "ternary": {
           "aaxis": {
            "gridcolor": "white",
            "linecolor": "white",
            "ticks": ""
           },
           "baxis": {
            "gridcolor": "white",
            "linecolor": "white",
            "ticks": ""
           },
           "bgcolor": "#E5ECF6",
           "caxis": {
            "gridcolor": "white",
            "linecolor": "white",
            "ticks": ""
           }
          },
          "title": {
           "x": 0.05
          },
          "xaxis": {
           "automargin": true,
           "gridcolor": "white",
           "linecolor": "white",
           "ticks": "",
           "title": {
            "standoff": 15
           },
           "zerolinecolor": "white",
           "zerolinewidth": 2
          },
          "yaxis": {
           "automargin": true,
           "gridcolor": "white",
           "linecolor": "white",
           "ticks": "",
           "title": {
            "standoff": 15
           },
           "zerolinecolor": "white",
           "zerolinewidth": 2
          }
         }
        },
        "title": {
         "text": "Sales by Branch (Interactive)"
        },
        "xaxis": {
         "anchor": "y",
         "categoryarray": [
          "Alex",
          "Giza",
          "Cairo"
         ],
         "categoryorder": "array",
         "domain": [
          0,
          1
         ],
         "title": {
          "text": "Branch"
         }
        },
        "yaxis": {
         "anchor": "x",
         "domain": [
          0,
          1
         ],
         "title": {
          "text": "Sales"
         }
        }
       }
      }
     },
     "metadata": {},
     "output_type": "display_data"
    }
   ],
   "source": [
    "fig2 = px.bar(df, x=\"Branch\", y=\"Sales\", color=\"Branch\",\n",
    "              title=\"Sales by Branch (Interactive)\")\n",
    "fig2.show()"
   ]
  },
  {
   "cell_type": "markdown",
   "id": "c88c8cb4",
   "metadata": {},
   "source": [
    "### ***4. Sales chart by hour(linear):***"
   ]
  },
  {
   "cell_type": "code",
   "execution_count": 10,
   "id": "30ad11aa",
   "metadata": {},
   "outputs": [
    {
     "data": {
      "application/vnd.plotly.v1+json": {
       "config": {
        "plotlyServerURL": "https://plot.ly"
       },
       "data": [
        {
         "hovertemplate": "Hour=%{x}<br>Sales=%{y}<extra></extra>",
         "legendgroup": "",
         "line": {
          "color": "#636efa",
          "dash": "solid"
         },
         "marker": {
          "symbol": "circle"
         },
         "mode": "lines+markers",
         "name": "",
         "orientation": "v",
         "showlegend": false,
         "type": "scatter",
         "x": {
          "bdata": "DQoNFAoSDgsRDRIRChATEAsKEg8LCgwLERMPDBMPEwwOCgoMExENDRIKDRQTEhEPDBEKDw4PCxMLCw8UEQoNDA4QDw8KEgwQEhIKEQ4PEBIOExISCg4KFBARChMQDBQUCg0KEhMNCxASDhQUCg4LCgwUFA0MDxQUEQwREw4SDRAPCw0UEg4QExQPDBMNDRMKEBEMDA8NExALEg0PEw0OExMQExMPDg0QEA8LDBMRDBARChMQCgsKDwsTEwoMFAoNExQLExIKExMKCwoODAwSEQ0TFBITDQ8PEhAMEg0NEgwPDhMQCgwTDQoSEhIPERMLEAwSCxIOEw4QEw8TEwsLDgoKDA0NDhMLEwwRFBANEhMLDxAUEQ0QExENCw8OEg4MDQ4RERQKCw0ODg8KEhAPEQwUDREKEQ4TCg0UEQoLEhAUDxINDBMTEAoNEhEPCw0KDw0MDxITFBAPEAwKEQsOEhMODwwUDQ8QCw8UERAMEwoODBMTEQwQDBMSEQ0KDgwPDQ0NEA4ODA4SDAoUDgoNEBQUDQoRDxMTExMNDg0SExANChEKDQ0NEw8NEg0RChMQEw4SExAPFA4TEw8OChELERQLExIMDw0QDhQNEA8MChIPCw0SCgsMCxIRERQQEAoLFAwNEBMPDhIUDRMSFA0LDg8LEQ8PDBMREBQMCg4REhESDBMPEBQSDwoLDQsOEBQOCxMTEhMKDQsLCxESCwoMEBQNEAwRChQKDAoSDRMUDxAMDw0PDQ0QDQoQEQsTEw4TEg4NDAwTDxIPDQ4QCwwKEQ4LDQsNExIOEQoUDRQPDBMMCgoLCxALDBMSCxEPEw8LDxAMDg4SDhAKCxMPFAwPERQPDxMPEg4TDxASCxEPEg4KCg8RCwwSDgsPDRQOChMQDREKExMSDg0TCg0MEwwLEQwKDRMMDQ4TFBMTEAwTEgsMDhQUFBEUDw8MChIQDA0PFA8NFBIOCxEPChATCwoUDA8OEgsMDw4PEBATDhMUCwoMDxINDwsSDwoPEQsPExQNEhELExAKEBISDREUExAOEQ0QCwoKDxQUDQwMEA0PChIQEw0LCxASEQoKDhIMDgoQCxQUDhAKDgoLEg0SEg4REhAOCxMNFA8LDxEQEgwLEhETDQsKDwsOChMSDQwNEgsLDg8ODBMNCg8LEQsOERQQCg4MDwwNChMNDBMKDxAUDxEQCg0TDgwUEQwREg4QChQLCgoSDA8MCwwPCgwKDQsRERQTDQ4LDBQUEwoQERIKEw4UCw4UEg4MEg0NCwsRDwwPDxIPFA4SDwwSEwsNDw8RCwoPEhQMEQ4KCxMOExMPExIUEgsNEQ0PDQ==",
          "dtype": "i1"
         },
         "xaxis": "x",
         "y": {
          "bdata": "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",
          "dtype": "f8"
         },
         "yaxis": "y"
        }
       ],
       "layout": {
        "legend": {
         "tracegroupgap": 0
        },
        "template": {
         "data": {
          "bar": [
           {
            "error_x": {
             "color": "#2a3f5f"
            },
            "error_y": {
             "color": "#2a3f5f"
            },
            "marker": {
             "line": {
              "color": "#E5ECF6",
              "width": 0.5
             },
             "pattern": {
              "fillmode": "overlay",
              "size": 10,
              "solidity": 0.2
             }
            },
            "type": "bar"
           }
          ],
          "barpolar": [
           {
            "marker": {
             "line": {
              "color": "#E5ECF6",
              "width": 0.5
             },
             "pattern": {
              "fillmode": "overlay",
              "size": 10,
              "solidity": 0.2
             }
            },
            "type": "barpolar"
           }
          ],
          "carpet": [
           {
            "aaxis": {
             "endlinecolor": "#2a3f5f",
             "gridcolor": "white",
             "linecolor": "white",
             "minorgridcolor": "white",
             "startlinecolor": "#2a3f5f"
            },
            "baxis": {
             "endlinecolor": "#2a3f5f",
             "gridcolor": "white",
             "linecolor": "white",
             "minorgridcolor": "white",
             "startlinecolor": "#2a3f5f"
            },
            "type": "carpet"
           }
          ],
          "choropleth": [
           {
            "colorbar": {
             "outlinewidth": 0,
             "ticks": ""
            },
            "type": "choropleth"
           }
          ],
          "contour": [
           {
            "colorbar": {
             "outlinewidth": 0,
             "ticks": ""
            },
            "colorscale": [
             [
              0,
              "#0d0887"
             ],
             [
              0.1111111111111111,
              "#46039f"
             ],
             [
              0.2222222222222222,
              "#7201a8"
             ],
             [
              0.3333333333333333,
              "#9c179e"
             ],
             [
              0.4444444444444444,
              "#bd3786"
             ],
             [
              0.5555555555555556,
              "#d8576b"
             ],
             [
              0.6666666666666666,
              "#ed7953"
             ],
             [
              0.7777777777777778,
              "#fb9f3a"
             ],
             [
              0.8888888888888888,
              "#fdca26"
             ],
             [
              1,
              "#f0f921"
             ]
            ],
            "type": "contour"
           }
          ],
          "contourcarpet": [
           {
            "colorbar": {
             "outlinewidth": 0,
             "ticks": ""
            },
            "type": "contourcarpet"
           }
          ],
          "heatmap": [
           {
            "colorbar": {
             "outlinewidth": 0,
             "ticks": ""
            },
            "colorscale": [
             [
              0,
              "#0d0887"
             ],
             [
              0.1111111111111111,
              "#46039f"
             ],
             [
              0.2222222222222222,
              "#7201a8"
             ],
             [
              0.3333333333333333,
              "#9c179e"
             ],
             [
              0.4444444444444444,
              "#bd3786"
             ],
             [
              0.5555555555555556,
              "#d8576b"
             ],
             [
              0.6666666666666666,
              "#ed7953"
             ],
             [
              0.7777777777777778,
              "#fb9f3a"
             ],
             [
              0.8888888888888888,
              "#fdca26"
             ],
             [
              1,
              "#f0f921"
             ]
            ],
            "type": "heatmap"
           }
          ],
          "histogram": [
           {
            "marker": {
             "pattern": {
              "fillmode": "overlay",
              "size": 10,
              "solidity": 0.2
             }
            },
            "type": "histogram"
           }
          ],
          "histogram2d": [
           {
            "colorbar": {
             "outlinewidth": 0,
             "ticks": ""
            },
            "colorscale": [
             [
              0,
              "#0d0887"
             ],
             [
              0.1111111111111111,
              "#46039f"
             ],
             [
              0.2222222222222222,
              "#7201a8"
             ],
             [
              0.3333333333333333,
              "#9c179e"
             ],
             [
              0.4444444444444444,
              "#bd3786"
             ],
             [
              0.5555555555555556,
              "#d8576b"
             ],
             [
              0.6666666666666666,
              "#ed7953"
             ],
             [
              0.7777777777777778,
              "#fb9f3a"
             ],
             [
              0.8888888888888888,
              "#fdca26"
             ],
             [
              1,
              "#f0f921"
             ]
            ],
            "type": "histogram2d"
           }
          ],
          "histogram2dcontour": [
           {
            "colorbar": {
             "outlinewidth": 0,
             "ticks": ""
            },
            "colorscale": [
             [
              0,
              "#0d0887"
             ],
             [
              0.1111111111111111,
              "#46039f"
             ],
             [
              0.2222222222222222,
              "#7201a8"
             ],
             [
              0.3333333333333333,
              "#9c179e"
             ],
             [
              0.4444444444444444,
              "#bd3786"
             ],
             [
              0.5555555555555556,
              "#d8576b"
             ],
             [
              0.6666666666666666,
              "#ed7953"
             ],
             [
              0.7777777777777778,
              "#fb9f3a"
             ],
             [
              0.8888888888888888,
              "#fdca26"
             ],
             [
              1,
              "#f0f921"
             ]
            ],
            "type": "histogram2dcontour"
           }
          ],
          "mesh3d": [
           {
            "colorbar": {
             "outlinewidth": 0,
             "ticks": ""
            },
            "type": "mesh3d"
           }
          ],
          "parcoords": [
           {
            "line": {
             "colorbar": {
              "outlinewidth": 0,
              "ticks": ""
             }
            },
            "type": "parcoords"
           }
          ],
          "pie": [
           {
            "automargin": true,
            "type": "pie"
           }
          ],
          "scatter": [
           {
            "fillpattern": {
             "fillmode": "overlay",
             "size": 10,
             "solidity": 0.2
            },
            "type": "scatter"
           }
          ],
          "scatter3d": [
           {
            "line": {
             "colorbar": {
              "outlinewidth": 0,
              "ticks": ""
             }
            },
            "marker": {
             "colorbar": {
              "outlinewidth": 0,
              "ticks": ""
             }
            },
            "type": "scatter3d"
           }
          ],
          "scattercarpet": [
           {
            "marker": {
             "colorbar": {
              "outlinewidth": 0,
              "ticks": ""
             }
            },
            "type": "scattercarpet"
           }
          ],
          "scattergeo": [
           {
            "marker": {
             "colorbar": {
              "outlinewidth": 0,
              "ticks": ""
             }
            },
            "type": "scattergeo"
           }
          ],
          "scattergl": [
           {
            "marker": {
             "colorbar": {
              "outlinewidth": 0,
              "ticks": ""
             }
            },
            "type": "scattergl"
           }
          ],
          "scattermap": [
           {
            "marker": {
             "colorbar": {
              "outlinewidth": 0,
              "ticks": ""
             }
            },
            "type": "scattermap"
           }
          ],
          "scattermapbox": [
           {
            "marker": {
             "colorbar": {
              "outlinewidth": 0,
              "ticks": ""
             }
            },
            "type": "scattermapbox"
           }
          ],
          "scatterpolar": [
           {
            "marker": {
             "colorbar": {
              "outlinewidth": 0,
              "ticks": ""
             }
            },
            "type": "scatterpolar"
           }
          ],
          "scatterpolargl": [
           {
            "marker": {
             "colorbar": {
              "outlinewidth": 0,
              "ticks": ""
             }
            },
            "type": "scatterpolargl"
           }
          ],
          "scatterternary": [
           {
            "marker": {
             "colorbar": {
              "outlinewidth": 0,
              "ticks": ""
             }
            },
            "type": "scatterternary"
           }
          ],
          "surface": [
           {
            "colorbar": {
             "outlinewidth": 0,
             "ticks": ""
            },
            "colorscale": [
             [
              0,
              "#0d0887"
             ],
             [
              0.1111111111111111,
              "#46039f"
             ],
             [
              0.2222222222222222,
              "#7201a8"
             ],
             [
              0.3333333333333333,
              "#9c179e"
             ],
             [
              0.4444444444444444,
              "#bd3786"
             ],
             [
              0.5555555555555556,
              "#d8576b"
             ],
             [
              0.6666666666666666,
              "#ed7953"
             ],
             [
              0.7777777777777778,
              "#fb9f3a"
             ],
             [
              0.8888888888888888,
              "#fdca26"
             ],
             [
              1,
              "#f0f921"
             ]
            ],
            "type": "surface"
           }
          ],
          "table": [
           {
            "cells": {
             "fill": {
              "color": "#EBF0F8"
             },
             "line": {
              "color": "white"
             }
            },
            "header": {
             "fill": {
              "color": "#C8D4E3"
             },
             "line": {
              "color": "white"
             }
            },
            "type": "table"
           }
          ]
         },
         "layout": {
          "annotationdefaults": {
           "arrowcolor": "#2a3f5f",
           "arrowhead": 0,
           "arrowwidth": 1
          },
          "autotypenumbers": "strict",
          "coloraxis": {
           "colorbar": {
            "outlinewidth": 0,
            "ticks": ""
           }
          },
          "colorscale": {
           "diverging": [
            [
             0,
             "#8e0152"
            ],
            [
             0.1,
             "#c51b7d"
            ],
            [
             0.2,
             "#de77ae"
            ],
            [
             0.3,
             "#f1b6da"
            ],
            [
             0.4,
             "#fde0ef"
            ],
            [
             0.5,
             "#f7f7f7"
            ],
            [
             0.6,
             "#e6f5d0"
            ],
            [
             0.7,
             "#b8e186"
            ],
            [
             0.8,
             "#7fbc41"
            ],
            [
             0.9,
             "#4d9221"
            ],
            [
             1,
             "#276419"
            ]
           ],
           "sequential": [
            [
             0,
             "#0d0887"
            ],
            [
             0.1111111111111111,
             "#46039f"
            ],
            [
             0.2222222222222222,
             "#7201a8"
            ],
            [
             0.3333333333333333,
             "#9c179e"
            ],
            [
             0.4444444444444444,
             "#bd3786"
            ],
            [
             0.5555555555555556,
             "#d8576b"
            ],
            [
             0.6666666666666666,
             "#ed7953"
            ],
            [
             0.7777777777777778,
             "#fb9f3a"
            ],
            [
             0.8888888888888888,
             "#fdca26"
            ],
            [
             1,
             "#f0f921"
            ]
           ],
           "sequentialminus": [
            [
             0,
             "#0d0887"
            ],
            [
             0.1111111111111111,
             "#46039f"
            ],
            [
             0.2222222222222222,
             "#7201a8"
            ],
            [
             0.3333333333333333,
             "#9c179e"
            ],
            [
             0.4444444444444444,
             "#bd3786"
            ],
            [
             0.5555555555555556,
             "#d8576b"
            ],
            [
             0.6666666666666666,
             "#ed7953"
            ],
            [
             0.7777777777777778,
             "#fb9f3a"
            ],
            [
             0.8888888888888888,
             "#fdca26"
            ],
            [
             1,
             "#f0f921"
            ]
           ]
          },
          "colorway": [
           "#636efa",
           "#EF553B",
           "#00cc96",
           "#ab63fa",
           "#FFA15A",
           "#19d3f3",
           "#FF6692",
           "#B6E880",
           "#FF97FF",
           "#FECB52"
          ],
          "font": {
           "color": "#2a3f5f"
          },
          "geo": {
           "bgcolor": "white",
           "lakecolor": "white",
           "landcolor": "#E5ECF6",
           "showlakes": true,
           "showland": true,
           "subunitcolor": "white"
          },
          "hoverlabel": {
           "align": "left"
          },
          "hovermode": "closest",
          "mapbox": {
           "style": "light"
          },
          "paper_bgcolor": "white",
          "plot_bgcolor": "#E5ECF6",
          "polar": {
           "angularaxis": {
            "gridcolor": "white",
            "linecolor": "white",
            "ticks": ""
           },
           "bgcolor": "#E5ECF6",
           "radialaxis": {
            "gridcolor": "white",
            "linecolor": "white",
            "ticks": ""
           }
          },
          "scene": {
           "xaxis": {
            "backgroundcolor": "#E5ECF6",
            "gridcolor": "white",
            "gridwidth": 2,
            "linecolor": "white",
            "showbackground": true,
            "ticks": "",
            "zerolinecolor": "white"
           },
           "yaxis": {
            "backgroundcolor": "#E5ECF6",
            "gridcolor": "white",
            "gridwidth": 2,
            "linecolor": "white",
            "showbackground": true,
            "ticks": "",
            "zerolinecolor": "white"
           },
           "zaxis": {
            "backgroundcolor": "#E5ECF6",
            "gridcolor": "white",
            "gridwidth": 2,
            "linecolor": "white",
            "showbackground": true,
            "ticks": "",
            "zerolinecolor": "white"
           }
          },
          "shapedefaults": {
           "line": {
            "color": "#2a3f5f"
           }
          },
          "ternary": {
           "aaxis": {
            "gridcolor": "white",
            "linecolor": "white",
            "ticks": ""
           },
           "baxis": {
            "gridcolor": "white",
            "linecolor": "white",
            "ticks": ""
           },
           "bgcolor": "#E5ECF6",
           "caxis": {
            "gridcolor": "white",
            "linecolor": "white",
            "ticks": ""
           }
          },
          "title": {
           "x": 0.05
          },
          "xaxis": {
           "automargin": true,
           "gridcolor": "white",
           "linecolor": "white",
           "ticks": "",
           "title": {
            "standoff": 15
           },
           "zerolinecolor": "white",
           "zerolinewidth": 2
          },
          "yaxis": {
           "automargin": true,
           "gridcolor": "white",
           "linecolor": "white",
           "ticks": "",
           "title": {
            "standoff": 15
           },
           "zerolinecolor": "white",
           "zerolinewidth": 2
          }
         }
        },
        "title": {
         "text": "Sales by Hour (Interactive)"
        },
        "xaxis": {
         "anchor": "y",
         "domain": [
          0,
          1
         ],
         "title": {
          "text": "Hour"
         }
        },
        "yaxis": {
         "anchor": "x",
         "domain": [
          0,
          1
         ],
         "title": {
          "text": "Sales"
         }
        }
       }
      }
     },
     "metadata": {},
     "output_type": "display_data"
    }
   ],
   "source": [
    "fig3 = px.line(df, x=\"Hour\", y=\"Sales\", markers=True,\n",
    "               title=\"Sales by Hour (Interactive)\")\n",
    "fig3.show()"
   ]
  },
  {
   "cell_type": "markdown",
   "id": "62db761c",
   "metadata": {},
   "source": [
    "### ***5. Heatmap chart with plotly for combining weekday and hour:***"
   ]
  },
  {
   "cell_type": "code",
   "execution_count": null,
   "id": "df70306c",
   "metadata": {},
   "outputs": [
    {
     "data": {
      "application/vnd.plotly.v1+json": {
       "config": {
        "plotlyServerURL": "https://plot.ly"
       },
       "data": [
        {
         "coloraxis": "coloraxis",
         "histfunc": "sum",
         "hovertemplate": "Hour=%{x}<br>Weekday=%{y}<br>sum of Sales=%{z}<extra></extra>",
         "name": "",
         "nbinsx": 10,
         "type": "histogram2d",
         "x": {
          "bdata": "CgsMDQ4PEBESExQKCwwNDg8QERITFAoLDA0ODxAREhMUCgsMDQ4PEBESExQKCwwNDg8QERITFAoLDA0ODxAREhMUCgsMDQ4PEBESExQ=",
          "dtype": "i1"
         },
         "xaxis": "x",
         "xbingroup": "x",
         "y": [
          "Friday",
          "Friday",
          "Friday",
          "Friday",
          "Friday",
          "Friday",
          "Friday",
          "Friday",
          "Friday",
          "Friday",
          "Friday",
          "Monday",
          "Monday",
          "Monday",
          "Monday",
          "Monday",
          "Monday",
          "Monday",
          "Monday",
          "Monday",
          "Monday",
          "Monday",
          "Saturday",
          "Saturday",
          "Saturday",
          "Saturday",
          "Saturday",
          "Saturday",
          "Saturday",
          "Saturday",
          "Saturday",
          "Saturday",
          "Saturday",
          "Sunday",
          "Sunday",
          "Sunday",
          "Sunday",
          "Sunday",
          "Sunday",
          "Sunday",
          "Sunday",
          "Sunday",
          "Sunday",
          "Sunday",
          "Thursday",
          "Thursday",
          "Thursday",
          "Thursday",
          "Thursday",
          "Thursday",
          "Thursday",
          "Thursday",
          "Thursday",
          "Thursday",
          "Thursday",
          "Tuesday",
          "Tuesday",
          "Tuesday",
          "Tuesday",
          "Tuesday",
          "Tuesday",
          "Tuesday",
          "Tuesday",
          "Tuesday",
          "Tuesday",
          "Tuesday",
          "Wednesday",
          "Wednesday",
          "Wednesday",
          "Wednesday",
          "Wednesday",
          "Wednesday",
          "Wednesday",
          "Wednesday",
          "Wednesday",
          "Wednesday",
          "Wednesday"
         ],
         "yaxis": "y",
         "ybingroup": "y",
         "z": {
          "bdata": "46WbxLAntkCcxCCwkrKkQKwcWmR73qBA30+Nl06oukDP91PjRS60QEw3iUEg4KxA8tJNYrAoqEBmZmZmppWdQFg5tMiWzqhAVg4tsu1jtUBaZDvffxqwQKRwPQrXNK1AJQaBlUNxpkDXo3A9GnayQHE9CtdDXa1AexSuR2FRn0BqvHSTWBW0QLByaJH9UrJA/tR46YbWqEBaZDvfL+ylQGiR7Xw/TaRAEoPAykGdokBEi2zn+7+pQE5iEFjpbrVAmpmZmdkus0D2KFyPojm2QAAAAADg3bRAxSCwcggeq0B56SYxCMutQBxaZDvPzbNA46WbxMBSukDjpZvEsM7BQHE9Ctcj4qhADi2yna/Gr0CR7Xw/xYCyQHE9CtczeLJAsHJokY0ntEDC9ShcH0SyQKRwPQq386RAMzMzM3OCoUCkcD0KV0mwQOomMQiMaqxAVOOlm6RLt0C0yHa+H7miQH0/NV465bpAYhBYOeQysUD8qfHSLQikQOf7qfFyRKRAgZVDiwxitUApXI/CFdmwQLTIdr4v57BA30+Nly6xr0AaL90kJpunQN9PjZcu4qhAzczMzDytsUDl0CLbeemxQEw3iUHgZ7RACawcWiQ2rUDy0k1iEPWuQNejcD0qWbNAVOOlmzRsu0Av3SQG4e6tQPLSTWIQP6dAI9v5firjokB1kxgEVvfBQI2XbhJj7atAQDVeuqnSqEAbL90k9oyzQP7UeOmmTKlAhxbZzldOukAlBoGVIxmpQMP1KFzv97JA7nw/NT47qUCLbOf7iTqoQFTjpZvEibBA2/l+aixAsEDqJjEIrL2lQA==",
          "dtype": "f8"
         }
        }
       ],
       "layout": {
        "coloraxis": {
         "colorbar": {
          "title": {
           "text": "sum of Sales"
          }
         },
         "colorscale": [
          [
           0,
           "#0d0887"
          ],
          [
           0.1111111111111111,
           "#46039f"
          ],
          [
           0.2222222222222222,
           "#7201a8"
          ],
          [
           0.3333333333333333,
           "#9c179e"
          ],
          [
           0.4444444444444444,
           "#bd3786"
          ],
          [
           0.5555555555555556,
           "#d8576b"
          ],
          [
           0.6666666666666666,
           "#ed7953"
          ],
          [
           0.7777777777777778,
           "#fb9f3a"
          ],
          [
           0.8888888888888888,
           "#fdca26"
          ],
          [
           1,
           "#f0f921"
          ]
         ]
        },
        "legend": {
         "tracegroupgap": 0
        },
        "template": {
         "data": {
          "bar": [
           {
            "error_x": {
             "color": "#2a3f5f"
            },
            "error_y": {
             "color": "#2a3f5f"
            },
            "marker": {
             "line": {
              "color": "#E5ECF6",
              "width": 0.5
             },
             "pattern": {
              "fillmode": "overlay",
              "size": 10,
              "solidity": 0.2
             }
            },
            "type": "bar"
           }
          ],
          "barpolar": [
           {
            "marker": {
             "line": {
              "color": "#E5ECF6",
              "width": 0.5
             },
             "pattern": {
              "fillmode": "overlay",
              "size": 10,
              "solidity": 0.2
             }
            },
            "type": "barpolar"
           }
          ],
          "carpet": [
           {
            "aaxis": {
             "endlinecolor": "#2a3f5f",
             "gridcolor": "white",
             "linecolor": "white",
             "minorgridcolor": "white",
             "startlinecolor": "#2a3f5f"
            },
            "baxis": {
             "endlinecolor": "#2a3f5f",
             "gridcolor": "white",
             "linecolor": "white",
             "minorgridcolor": "white",
             "startlinecolor": "#2a3f5f"
            },
            "type": "carpet"
           }
          ],
          "choropleth": [
           {
            "colorbar": {
             "outlinewidth": 0,
             "ticks": ""
            },
            "type": "choropleth"
           }
          ],
          "contour": [
           {
            "colorbar": {
             "outlinewidth": 0,
             "ticks": ""
            },
            "colorscale": [
             [
              0,
              "#0d0887"
             ],
             [
              0.1111111111111111,
              "#46039f"
             ],
             [
              0.2222222222222222,
              "#7201a8"
             ],
             [
              0.3333333333333333,
              "#9c179e"
             ],
             [
              0.4444444444444444,
              "#bd3786"
             ],
             [
              0.5555555555555556,
              "#d8576b"
             ],
             [
              0.6666666666666666,
              "#ed7953"
             ],
             [
              0.7777777777777778,
              "#fb9f3a"
             ],
             [
              0.8888888888888888,
              "#fdca26"
             ],
             [
              1,
              "#f0f921"
             ]
            ],
            "type": "contour"
           }
          ],
          "contourcarpet": [
           {
            "colorbar": {
             "outlinewidth": 0,
             "ticks": ""
            },
            "type": "contourcarpet"
           }
          ],
          "heatmap": [
           {
            "colorbar": {
             "outlinewidth": 0,
             "ticks": ""
            },
            "colorscale": [
             [
              0,
              "#0d0887"
             ],
             [
              0.1111111111111111,
              "#46039f"
             ],
             [
              0.2222222222222222,
              "#7201a8"
             ],
             [
              0.3333333333333333,
              "#9c179e"
             ],
             [
              0.4444444444444444,
              "#bd3786"
             ],
             [
              0.5555555555555556,
              "#d8576b"
             ],
             [
              0.6666666666666666,
              "#ed7953"
             ],
             [
              0.7777777777777778,
              "#fb9f3a"
             ],
             [
              0.8888888888888888,
              "#fdca26"
             ],
             [
              1,
              "#f0f921"
             ]
            ],
            "type": "heatmap"
           }
          ],
          "histogram": [
           {
            "marker": {
             "pattern": {
              "fillmode": "overlay",
              "size": 10,
              "solidity": 0.2
             }
            },
            "type": "histogram"
           }
          ],
          "histogram2d": [
           {
            "colorbar": {
             "outlinewidth": 0,
             "ticks": ""
            },
            "colorscale": [
             [
              0,
              "#0d0887"
             ],
             [
              0.1111111111111111,
              "#46039f"
             ],
             [
              0.2222222222222222,
              "#7201a8"
             ],
             [
              0.3333333333333333,
              "#9c179e"
             ],
             [
              0.4444444444444444,
              "#bd3786"
             ],
             [
              0.5555555555555556,
              "#d8576b"
             ],
             [
              0.6666666666666666,
              "#ed7953"
             ],
             [
              0.7777777777777778,
              "#fb9f3a"
             ],
             [
              0.8888888888888888,
              "#fdca26"
             ],
             [
              1,
              "#f0f921"
             ]
            ],
            "type": "histogram2d"
           }
          ],
          "histogram2dcontour": [
           {
            "colorbar": {
             "outlinewidth": 0,
             "ticks": ""
            },
            "colorscale": [
             [
              0,
              "#0d0887"
             ],
             [
              0.1111111111111111,
              "#46039f"
             ],
             [
              0.2222222222222222,
              "#7201a8"
             ],
             [
              0.3333333333333333,
              "#9c179e"
             ],
             [
              0.4444444444444444,
              "#bd3786"
             ],
             [
              0.5555555555555556,
              "#d8576b"
             ],
             [
              0.6666666666666666,
              "#ed7953"
             ],
             [
              0.7777777777777778,
              "#fb9f3a"
             ],
             [
              0.8888888888888888,
              "#fdca26"
             ],
             [
              1,
              "#f0f921"
             ]
            ],
            "type": "histogram2dcontour"
           }
          ],
          "mesh3d": [
           {
            "colorbar": {
             "outlinewidth": 0,
             "ticks": ""
            },
            "type": "mesh3d"
           }
          ],
          "parcoords": [
           {
            "line": {
             "colorbar": {
              "outlinewidth": 0,
              "ticks": ""
             }
            },
            "type": "parcoords"
           }
          ],
          "pie": [
           {
            "automargin": true,
            "type": "pie"
           }
          ],
          "scatter": [
           {
            "fillpattern": {
             "fillmode": "overlay",
             "size": 10,
             "solidity": 0.2
            },
            "type": "scatter"
           }
          ],
          "scatter3d": [
           {
            "line": {
             "colorbar": {
              "outlinewidth": 0,
              "ticks": ""
             }
            },
            "marker": {
             "colorbar": {
              "outlinewidth": 0,
              "ticks": ""
             }
            },
            "type": "scatter3d"
           }
          ],
          "scattercarpet": [
           {
            "marker": {
             "colorbar": {
              "outlinewidth": 0,
              "ticks": ""
             }
            },
            "type": "scattercarpet"
           }
          ],
          "scattergeo": [
           {
            "marker": {
             "colorbar": {
              "outlinewidth": 0,
              "ticks": ""
             }
            },
            "type": "scattergeo"
           }
          ],
          "scattergl": [
           {
            "marker": {
             "colorbar": {
              "outlinewidth": 0,
              "ticks": ""
             }
            },
            "type": "scattergl"
           }
          ],
          "scattermap": [
           {
            "marker": {
             "colorbar": {
              "outlinewidth": 0,
              "ticks": ""
             }
            },
            "type": "scattermap"
           }
          ],
          "scattermapbox": [
           {
            "marker": {
             "colorbar": {
              "outlinewidth": 0,
              "ticks": ""
             }
            },
            "type": "scattermapbox"
           }
          ],
          "scatterpolar": [
           {
            "marker": {
             "colorbar": {
              "outlinewidth": 0,
              "ticks": ""
             }
            },
            "type": "scatterpolar"
           }
          ],
          "scatterpolargl": [
           {
            "marker": {
             "colorbar": {
              "outlinewidth": 0,
              "ticks": ""
             }
            },
            "type": "scatterpolargl"
           }
          ],
          "scatterternary": [
           {
            "marker": {
             "colorbar": {
              "outlinewidth": 0,
              "ticks": ""
             }
            },
            "type": "scatterternary"
           }
          ],
          "surface": [
           {
            "colorbar": {
             "outlinewidth": 0,
             "ticks": ""
            },
            "colorscale": [
             [
              0,
              "#0d0887"
             ],
             [
              0.1111111111111111,
              "#46039f"
             ],
             [
              0.2222222222222222,
              "#7201a8"
             ],
             [
              0.3333333333333333,
              "#9c179e"
             ],
             [
              0.4444444444444444,
              "#bd3786"
             ],
             [
              0.5555555555555556,
              "#d8576b"
             ],
             [
              0.6666666666666666,
              "#ed7953"
             ],
             [
              0.7777777777777778,
              "#fb9f3a"
             ],
             [
              0.8888888888888888,
              "#fdca26"
             ],
             [
              1,
              "#f0f921"
             ]
            ],
            "type": "surface"
           }
          ],
          "table": [
           {
            "cells": {
             "fill": {
              "color": "#EBF0F8"
             },
             "line": {
              "color": "white"
             }
            },
            "header": {
             "fill": {
              "color": "#C8D4E3"
             },
             "line": {
              "color": "white"
             }
            },
            "type": "table"
           }
          ]
         },
         "layout": {
          "annotationdefaults": {
           "arrowcolor": "#2a3f5f",
           "arrowhead": 0,
           "arrowwidth": 1
          },
          "autotypenumbers": "strict",
          "coloraxis": {
           "colorbar": {
            "outlinewidth": 0,
            "ticks": ""
           }
          },
          "colorscale": {
           "diverging": [
            [
             0,
             "#8e0152"
            ],
            [
             0.1,
             "#c51b7d"
            ],
            [
             0.2,
             "#de77ae"
            ],
            [
             0.3,
             "#f1b6da"
            ],
            [
             0.4,
             "#fde0ef"
            ],
            [
             0.5,
             "#f7f7f7"
            ],
            [
             0.6,
             "#e6f5d0"
            ],
            [
             0.7,
             "#b8e186"
            ],
            [
             0.8,
             "#7fbc41"
            ],
            [
             0.9,
             "#4d9221"
            ],
            [
             1,
             "#276419"
            ]
           ],
           "sequential": [
            [
             0,
             "#0d0887"
            ],
            [
             0.1111111111111111,
             "#46039f"
            ],
            [
             0.2222222222222222,
             "#7201a8"
            ],
            [
             0.3333333333333333,
             "#9c179e"
            ],
            [
             0.4444444444444444,
             "#bd3786"
            ],
            [
             0.5555555555555556,
             "#d8576b"
            ],
            [
             0.6666666666666666,
             "#ed7953"
            ],
            [
             0.7777777777777778,
             "#fb9f3a"
            ],
            [
             0.8888888888888888,
             "#fdca26"
            ],
            [
             1,
             "#f0f921"
            ]
           ],
           "sequentialminus": [
            [
             0,
             "#0d0887"
            ],
            [
             0.1111111111111111,
             "#46039f"
            ],
            [
             0.2222222222222222,
             "#7201a8"
            ],
            [
             0.3333333333333333,
             "#9c179e"
            ],
            [
             0.4444444444444444,
             "#bd3786"
            ],
            [
             0.5555555555555556,
             "#d8576b"
            ],
            [
             0.6666666666666666,
             "#ed7953"
            ],
            [
             0.7777777777777778,
             "#fb9f3a"
            ],
            [
             0.8888888888888888,
             "#fdca26"
            ],
            [
             1,
             "#f0f921"
            ]
           ]
          },
          "colorway": [
           "#636efa",
           "#EF553B",
           "#00cc96",
           "#ab63fa",
           "#FFA15A",
           "#19d3f3",
           "#FF6692",
           "#B6E880",
           "#FF97FF",
           "#FECB52"
          ],
          "font": {
           "color": "#2a3f5f"
          },
          "geo": {
           "bgcolor": "white",
           "lakecolor": "white",
           "landcolor": "#E5ECF6",
           "showlakes": true,
           "showland": true,
           "subunitcolor": "white"
          },
          "hoverlabel": {
           "align": "left"
          },
          "hovermode": "closest",
          "mapbox": {
           "style": "light"
          },
          "paper_bgcolor": "white",
          "plot_bgcolor": "#E5ECF6",
          "polar": {
           "angularaxis": {
            "gridcolor": "white",
            "linecolor": "white",
            "ticks": ""
           },
           "bgcolor": "#E5ECF6",
           "radialaxis": {
            "gridcolor": "white",
            "linecolor": "white",
            "ticks": ""
           }
          },
          "scene": {
           "xaxis": {
            "backgroundcolor": "#E5ECF6",
            "gridcolor": "white",
            "gridwidth": 2,
            "linecolor": "white",
            "showbackground": true,
            "ticks": "",
            "zerolinecolor": "white"
           },
           "yaxis": {
            "backgroundcolor": "#E5ECF6",
            "gridcolor": "white",
            "gridwidth": 2,
            "linecolor": "white",
            "showbackground": true,
            "ticks": "",
            "zerolinecolor": "white"
           },
           "zaxis": {
            "backgroundcolor": "#E5ECF6",
            "gridcolor": "white",
            "gridwidth": 2,
            "linecolor": "white",
            "showbackground": true,
            "ticks": "",
            "zerolinecolor": "white"
           }
          },
          "shapedefaults": {
           "line": {
            "color": "#2a3f5f"
           }
          },
          "ternary": {
           "aaxis": {
            "gridcolor": "white",
            "linecolor": "white",
            "ticks": ""
           },
           "baxis": {
            "gridcolor": "white",
            "linecolor": "white",
            "ticks": ""
           },
           "bgcolor": "#E5ECF6",
           "caxis": {
            "gridcolor": "white",
            "linecolor": "white",
            "ticks": ""
           }
          },
          "title": {
           "x": 0.05
          },
          "xaxis": {
           "automargin": true,
           "gridcolor": "white",
           "linecolor": "white",
           "ticks": "",
           "title": {
            "standoff": 15
           },
           "zerolinecolor": "white",
           "zerolinewidth": 2
          },
          "yaxis": {
           "automargin": true,
           "gridcolor": "white",
           "linecolor": "white",
           "ticks": "",
           "title": {
            "standoff": 15
           },
           "zerolinecolor": "white",
           "zerolinewidth": 2
          }
         }
        },
        "title": {
         "text": "Sales Heatmap by Weekday and Hour"
        },
        "xaxis": {
         "anchor": "y",
         "domain": [
          0,
          1
         ],
         "title": {
          "text": "Hour"
         }
        },
        "yaxis": {
         "anchor": "x",
         "domain": [
          0,
          1
         ],
         "title": {
          "text": "Weekday"
         }
        }
       }
      }
     },
     "metadata": {},
     "output_type": "display_data"
    }
   ],
   "source": [
    "heatmap_data = df.groupby([\"Weekday\", \"Hour\"])[\"Sales\"].sum().reset_index()\n",
    "fig4 = px.density_heatmap(heatmap_data, x=\"Hour\", y=\"Weekday\", z=\"Sales\",\n",
    "                          title=\"Sales Heatmap by Weekday and Hour\", nbinsx=10)\n",
    "fig4.show()"
   ]
  },
  {
   "cell_type": "markdown",
   "id": "18c2662e",
   "metadata": {},
   "source": [
    "### ***Day 21 - Interactive Dashboard Insights***\n",
    "\n",
    "*-Product line and branch performance can be easily explored interactively.*\n",
    "\n",
    "*-Peak hours visualization highlights customer traffic patterns.*\n",
    "\n",
    "*-Heatmap shows combined patterns of time and weekdays for optimal strategy.*"
   ]
  },
  {
   "cell_type": "markdown",
   "id": "1452f0d4",
   "metadata": {},
   "source": [
    "### ***Insights from Customer & Product Analysis***\n",
    "\n",
    "***1. Top Performing Branch and Cities:***\n",
    "\n",
    "*- Alex branch consistently leads in sales volume.*\n",
    "\n",
    "*- Yangon city showes stronger performance compared to others.*\n",
    "\n",
    "***2. Customer Type Impact:***\n",
    "\n",
    "*- Members contribute significatly more to total revenue compared to non-members.*\n",
    "\n",
    "***3. Product Line Performance:***\n",
    "\n",
    "*- Food & Beverages and Health & Beauty are the top-grossing product lines.*\n",
    "\n",
    "***4. Strategic Insight:***\n",
    "\n",
    "*- Targeted promotions for mambers in high-performing branches (like Alex) can further maximize revenue.*"
   ]
  }
 ],
 "metadata": {
  "kernelspec": {
   "display_name": "Python 3",
   "language": "python",
   "name": "python3"
  },
  "language_info": {
   "codemirror_mode": {
    "name": "ipython",
    "version": 3
   },
   "file_extension": ".py",
   "mimetype": "text/x-python",
   "name": "python",
   "nbconvert_exporter": "python",
   "pygments_lexer": "ipython3",
   "version": "3.13.5"
  }
 },
 "nbformat": 4,
 "nbformat_minor": 5
}
