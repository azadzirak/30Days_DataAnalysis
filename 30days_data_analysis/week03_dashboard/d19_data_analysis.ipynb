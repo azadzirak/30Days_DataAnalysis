{
 "cells": [
  {
   "cell_type": "markdown",
   "id": "c6b82aba",
   "metadata": {},
   "source": [
    "## **Day 19 of 30 days Data Analysis**"
   ]
  },
  {
   "cell_type": "markdown",
   "id": "ec7b2ff8",
   "metadata": {},
   "source": [
    "### ***Git and GitHub day.***\n",
    "*making repo and push files of this folder.*"
   ]
  }
 ],
 "metadata": {
  "language_info": {
   "name": "python"
  }
 },
 "nbformat": 4,
 "nbformat_minor": 5
}
