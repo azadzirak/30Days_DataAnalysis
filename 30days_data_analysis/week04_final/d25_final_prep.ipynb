{
 "cells": [
  {
   "cell_type": "markdown",
   "id": "976546cf",
   "metadata": {},
   "source": [
    "## **Day 25 of 30 days Data Analysis**"
   ]
  },
  {
   "cell_type": "markdown",
   "id": "4f1659aa",
   "metadata": {},
   "source": [
    "### ***1. Upload and review data***"
   ]
  },
  {
   "cell_type": "code",
   "execution_count": 12,
   "id": "5e65e6a3",
   "metadata": {},
   "outputs": [
    {
     "name": "stdout",
     "output_type": "stream",
     "text": [
      "<class 'pandas.core.frame.DataFrame'>\n",
      "RangeIndex: 1000 entries, 0 to 999\n",
      "Data columns (total 17 columns):\n",
      " #   Column                   Non-Null Count  Dtype  \n",
      "---  ------                   --------------  -----  \n",
      " 0   Invoice ID               1000 non-null   object \n",
      " 1   Branch                   1000 non-null   object \n",
      " 2   City                     1000 non-null   object \n",
      " 3   Customer type            1000 non-null   object \n",
      " 4   Gender                   1000 non-null   object \n",
      " 5   Product line             1000 non-null   object \n",
      " 6   Unit price               1000 non-null   float64\n",
      " 7   Quantity                 1000 non-null   int64  \n",
      " 8   Tax 5%                   1000 non-null   float64\n",
      " 9   Sales                    1000 non-null   float64\n",
      " 10  Date                     1000 non-null   object \n",
      " 11  Time                     0 non-null      float64\n",
      " 12  Payment                  1000 non-null   object \n",
      " 13  cogs                     1000 non-null   float64\n",
      " 14  gross margin percentage  1000 non-null   float64\n",
      " 15  gross income             1000 non-null   float64\n",
      " 16  Rating                   1000 non-null   float64\n",
      "dtypes: float64(8), int64(1), object(8)\n",
      "memory usage: 132.9+ KB\n"
     ]
    },
    {
     "data": {
      "text/html": [
       "<div>\n",
       "<style scoped>\n",
       "    .dataframe tbody tr th:only-of-type {\n",
       "        vertical-align: middle;\n",
       "    }\n",
       "\n",
       "    .dataframe tbody tr th {\n",
       "        vertical-align: top;\n",
       "    }\n",
       "\n",
       "    .dataframe thead th {\n",
       "        text-align: right;\n",
       "    }\n",
       "</style>\n",
       "<table border=\"1\" class=\"dataframe\">\n",
       "  <thead>\n",
       "    <tr style=\"text-align: right;\">\n",
       "      <th></th>\n",
       "      <th>Invoice ID</th>\n",
       "      <th>Branch</th>\n",
       "      <th>City</th>\n",
       "      <th>Customer type</th>\n",
       "      <th>Gender</th>\n",
       "      <th>Product line</th>\n",
       "      <th>Unit price</th>\n",
       "      <th>Quantity</th>\n",
       "      <th>Tax 5%</th>\n",
       "      <th>Sales</th>\n",
       "      <th>Date</th>\n",
       "      <th>Time</th>\n",
       "      <th>Payment</th>\n",
       "      <th>cogs</th>\n",
       "      <th>gross margin percentage</th>\n",
       "      <th>gross income</th>\n",
       "      <th>Rating</th>\n",
       "    </tr>\n",
       "  </thead>\n",
       "  <tbody>\n",
       "    <tr>\n",
       "      <th>0</th>\n",
       "      <td>750-67-8428</td>\n",
       "      <td>Alex</td>\n",
       "      <td>Yangon</td>\n",
       "      <td>Member</td>\n",
       "      <td>Female</td>\n",
       "      <td>Health and beauty</td>\n",
       "      <td>74.69</td>\n",
       "      <td>7</td>\n",
       "      <td>26.1415</td>\n",
       "      <td>548.9715</td>\n",
       "      <td>2019-01-05</td>\n",
       "      <td>NaN</td>\n",
       "      <td>Ewallet</td>\n",
       "      <td>522.83</td>\n",
       "      <td>4.761905</td>\n",
       "      <td>26.1415</td>\n",
       "      <td>9.1</td>\n",
       "    </tr>\n",
       "    <tr>\n",
       "      <th>1</th>\n",
       "      <td>226-31-3081</td>\n",
       "      <td>Giza</td>\n",
       "      <td>Naypyitaw</td>\n",
       "      <td>Normal</td>\n",
       "      <td>Female</td>\n",
       "      <td>Electronic accessories</td>\n",
       "      <td>15.28</td>\n",
       "      <td>5</td>\n",
       "      <td>3.8200</td>\n",
       "      <td>80.2200</td>\n",
       "      <td>2019-03-08</td>\n",
       "      <td>NaN</td>\n",
       "      <td>Cash</td>\n",
       "      <td>76.40</td>\n",
       "      <td>4.761905</td>\n",
       "      <td>3.8200</td>\n",
       "      <td>9.6</td>\n",
       "    </tr>\n",
       "    <tr>\n",
       "      <th>2</th>\n",
       "      <td>631-41-3108</td>\n",
       "      <td>Alex</td>\n",
       "      <td>Yangon</td>\n",
       "      <td>Normal</td>\n",
       "      <td>Female</td>\n",
       "      <td>Home and lifestyle</td>\n",
       "      <td>46.33</td>\n",
       "      <td>7</td>\n",
       "      <td>16.2155</td>\n",
       "      <td>340.5255</td>\n",
       "      <td>2019-03-03</td>\n",
       "      <td>NaN</td>\n",
       "      <td>Credit card</td>\n",
       "      <td>324.31</td>\n",
       "      <td>4.761905</td>\n",
       "      <td>16.2155</td>\n",
       "      <td>7.4</td>\n",
       "    </tr>\n",
       "    <tr>\n",
       "      <th>3</th>\n",
       "      <td>123-19-1176</td>\n",
       "      <td>Alex</td>\n",
       "      <td>Yangon</td>\n",
       "      <td>Member</td>\n",
       "      <td>Female</td>\n",
       "      <td>Health and beauty</td>\n",
       "      <td>58.22</td>\n",
       "      <td>8</td>\n",
       "      <td>23.2880</td>\n",
       "      <td>489.0480</td>\n",
       "      <td>2019-01-27</td>\n",
       "      <td>NaN</td>\n",
       "      <td>Ewallet</td>\n",
       "      <td>465.76</td>\n",
       "      <td>4.761905</td>\n",
       "      <td>23.2880</td>\n",
       "      <td>8.4</td>\n",
       "    </tr>\n",
       "    <tr>\n",
       "      <th>4</th>\n",
       "      <td>373-73-7910</td>\n",
       "      <td>Alex</td>\n",
       "      <td>Yangon</td>\n",
       "      <td>Member</td>\n",
       "      <td>Female</td>\n",
       "      <td>Sports and travel</td>\n",
       "      <td>86.31</td>\n",
       "      <td>7</td>\n",
       "      <td>30.2085</td>\n",
       "      <td>634.3785</td>\n",
       "      <td>2019-02-08</td>\n",
       "      <td>NaN</td>\n",
       "      <td>Ewallet</td>\n",
       "      <td>604.17</td>\n",
       "      <td>4.761905</td>\n",
       "      <td>30.2085</td>\n",
       "      <td>5.3</td>\n",
       "    </tr>\n",
       "  </tbody>\n",
       "</table>\n",
       "</div>"
      ],
      "text/plain": [
       "    Invoice ID Branch       City Customer type  Gender  \\\n",
       "0  750-67-8428   Alex     Yangon        Member  Female   \n",
       "1  226-31-3081   Giza  Naypyitaw        Normal  Female   \n",
       "2  631-41-3108   Alex     Yangon        Normal  Female   \n",
       "3  123-19-1176   Alex     Yangon        Member  Female   \n",
       "4  373-73-7910   Alex     Yangon        Member  Female   \n",
       "\n",
       "             Product line  Unit price  Quantity   Tax 5%     Sales  \\\n",
       "0       Health and beauty       74.69         7  26.1415  548.9715   \n",
       "1  Electronic accessories       15.28         5   3.8200   80.2200   \n",
       "2      Home and lifestyle       46.33         7  16.2155  340.5255   \n",
       "3       Health and beauty       58.22         8  23.2880  489.0480   \n",
       "4       Sports and travel       86.31         7  30.2085  634.3785   \n",
       "\n",
       "         Date  Time      Payment    cogs  gross margin percentage  \\\n",
       "0  2019-01-05   NaN      Ewallet  522.83                 4.761905   \n",
       "1  2019-03-08   NaN         Cash   76.40                 4.761905   \n",
       "2  2019-03-03   NaN  Credit card  324.31                 4.761905   \n",
       "3  2019-01-27   NaN      Ewallet  465.76                 4.761905   \n",
       "4  2019-02-08   NaN      Ewallet  604.17                 4.761905   \n",
       "\n",
       "   gross income  Rating  \n",
       "0       26.1415     9.1  \n",
       "1        3.8200     9.6  \n",
       "2       16.2155     7.4  \n",
       "3       23.2880     8.4  \n",
       "4       30.2085     5.3  "
      ]
     },
     "execution_count": 12,
     "metadata": {},
     "output_type": "execute_result"
    }
   ],
   "source": [
    "import pandas as pd\n",
    "\n",
    "df = pd.read_csv(\"C:\\\\Users\\\\LENOVO\\\\Documents\\\\Programming\\\\30days_data_analysis\\\\week02_sql\\\\supermarket_clean_d08.csv\")\n",
    "df.info()\n",
    "df.head()"
   ]
  },
  {
   "cell_type": "markdown",
   "id": "27a6ff55",
   "metadata": {},
   "source": [
    "### ***2. Cleaning up extra columns and smoothing***"
   ]
  },
  {
   "cell_type": "code",
   "execution_count": 13,
   "id": "8bd05d2a",
   "metadata": {},
   "outputs": [],
   "source": [
    "# remove unnecessary columns\n",
    "columns_to_drop = [\"Invoice ID\", \"gross margin percentage\"]\n",
    "df = df.drop(columns=columns_to_drop, errors=\"ignore\")\n",
    "\n",
    "# convert date to datetime format\n",
    "df[\"Date\"] = pd.to_datetime(df[\"Date\"])\n",
    "df[\"Year\"] = df[\"Date\"].dt.year\n",
    "df[\"Month\"] = df[\"Date\"].dt.month\n",
    "df[\"Day\"] = df[\"Date\"].dt.day"
   ]
  },
  {
   "cell_type": "markdown",
   "id": "106650ba",
   "metadata": {},
   "source": [
    "### ***3. Create the final columns needed for the dashboard***"
   ]
  },
  {
   "cell_type": "code",
   "execution_count": 15,
   "id": "a35d58c6",
   "metadata": {},
   "outputs": [
    {
     "name": "stdout",
     "output_type": "stream",
     "text": [
      "Cleaned dataset saved!\n"
     ]
    }
   ],
   "source": [
    "# ensuring the cleanliness of the columns\n",
    "df[\"City\"] = df[\"City\"].str.strip().fillna(\"Unknown\")\n",
    "df[\"Payment\"] = df[\"Payment\"].str.strip().fillna(\"Cash\")\n",
    "\n",
    "# save the final file\n",
    "df.to_csv(\"final_dataset.csv\", index=False)\n",
    "print(\"Cleaned dataset saved!\")"
   ]
  },
  {
   "cell_type": "markdown",
   "id": "9a22bf54",
   "metadata": {},
   "source": [
    "### ***4. Check the final output***"
   ]
  },
  {
   "cell_type": "code",
   "execution_count": 16,
   "id": "23dd1def",
   "metadata": {},
   "outputs": [
    {
     "name": "stdout",
     "output_type": "stream",
     "text": [
      "(1000, 18)\n",
      "  Branch       City Customer type  Gender            Product line  Unit price  \\\n",
      "0   Alex     Yangon        Member  Female       Health and beauty       74.69   \n",
      "1   Giza  Naypyitaw        Normal  Female  Electronic accessories       15.28   \n",
      "2   Alex     Yangon        Normal  Female      Home and lifestyle       46.33   \n",
      "3   Alex     Yangon        Member  Female       Health and beauty       58.22   \n",
      "4   Alex     Yangon        Member  Female       Sports and travel       86.31   \n",
      "\n",
      "   Quantity   Tax 5%     Sales       Date  Time      Payment    cogs  \\\n",
      "0         7  26.1415  548.9715 2019-01-05   NaN      Ewallet  522.83   \n",
      "1         5   3.8200   80.2200 2019-03-08   NaN         Cash   76.40   \n",
      "2         7  16.2155  340.5255 2019-03-03   NaN  Credit card  324.31   \n",
      "3         8  23.2880  489.0480 2019-01-27   NaN      Ewallet  465.76   \n",
      "4         7  30.2085  634.3785 2019-02-08   NaN      Ewallet  604.17   \n",
      "\n",
      "   gross income  Rating  Year  Month  Day  \n",
      "0       26.1415     9.1  2019      1    5  \n",
      "1        3.8200     9.6  2019      3    8  \n",
      "2       16.2155     7.4  2019      3    3  \n",
      "3       23.2880     8.4  2019      1   27  \n",
      "4       30.2085     5.3  2019      2    8  \n"
     ]
    }
   ],
   "source": [
    "print(df.shape)\n",
    "print(df.head())  "
   ]
  },
  {
   "cell_type": "markdown",
   "id": "1070d1d3",
   "metadata": {},
   "source": [
    "### ***Day 25 — Final Data Preparation***\n",
    "\n",
    "**Objective:** *Prepare a clean, ready-to-use dataset for the final dashboard.*\n",
    "\n",
    "*- Unified date fields (`Date` → datetime + `Year`, `Month`, `Day`).*\n",
    "\n",
    "*- Created single `City` and `Payment` columns from previous dummy columns.*\n",
    "\n",
    "*- Dropped unused columns (`Invoice ID`, `gross margin percentage`).*\n",
    "\n",
    "*- Exported as: `datasets/final_dataset.csv`.*\n",
    "\n",
    "***Sanity Checks:***\n",
    "\n",
    "*- `Sales ≈ cogs + Tax 5%`, `gross income == Tax 5%`.*\n",
    "\n",
    "*- No nulls in key fields (Sales, cogs, Tax 5%, gross income, City, Payment).*\n",
    "\n",
    "***Next (Day 26):*** *Build the final dashboard using this dataset: KPIs, sales trends, city/payment breakdowns, and ratings.*"
   ]
  }
 ],
 "metadata": {
  "kernelspec": {
   "display_name": "Python 3",
   "language": "python",
   "name": "python3"
  },
  "language_info": {
   "codemirror_mode": {
    "name": "ipython",
    "version": 3
   },
   "file_extension": ".py",
   "mimetype": "text/x-python",
   "name": "python",
   "nbconvert_exporter": "python",
   "pygments_lexer": "ipython3",
   "version": "3.13.5"
  }
 },
 "nbformat": 4,
 "nbformat_minor": 5
}
